{
  "nbformat": 4,
  "nbformat_minor": 0,
  "metadata": {
    "colab": {
      "provenance": []
    },
    "kernelspec": {
      "name": "python3",
      "display_name": "Python 3"
    },
    "language_info": {
      "name": "python"
    }
  },
  "cells": [
    {
      "cell_type": "markdown",
      "source": [],
      "metadata": {
        "id": "tNdMI6PWvMXf"
      }
    },
    {
      "cell_type": "markdown",
      "source": [
        "# Libraries, Exploring the Data, Data Cleaning"
      ],
      "metadata": {
        "id": "aqmvjrGcUd_r"
      }
    },
    {
      "cell_type": "code",
      "execution_count": null,
      "metadata": {
        "id": "oFeVBmfKgiZK"
      },
      "outputs": [],
      "source": [
        "import numpy as np\n",
        "import pandas as pd\n",
        "import seaborn as sns\n",
        "import matplotlib.pyplot as plt\n",
        "from sklearn.model_selection import train_test_split\n",
        "from sklearn.preprocessing import StandardScaler\n",
        "from sklearn.neighbors import KNeighborsClassifier\n",
        "from sklearn.tree import DecisionTreeClassifier\n",
        "from sklearn.svm import SVC\n",
        "from sklearn.ensemble import RandomForestClassifier\n",
        "from sklearn.metrics import classification_report, accuracy_score, f1_score, precision_score, recall_score, roc_auc_score, roc_curve, confusion_matrix\n",
        "from sklearn.model_selection import GridSearchCV"
      ]
    },
    {
      "cell_type": "code",
      "source": [
        "df = pd.read_csv('./dataset.csv')\n",
        "df.shape"
      ],
      "metadata": {
        "id": "kxMLffl4mAhL",
        "colab": {
          "base_uri": "https://localhost:8080/"
        },
        "outputId": "002e332e-f51d-4a0a-ec73-03fcb11e68d4"
      },
      "execution_count": null,
      "outputs": [
        {
          "output_type": "execute_result",
          "data": {
            "text/plain": [
              "(4424, 35)"
            ]
          },
          "metadata": {},
          "execution_count": 2
        }
      ]
    },
    {
      "cell_type": "code",
      "source": [
        "df.head()"
      ],
      "metadata": {
        "colab": {
          "base_uri": "https://localhost:8080/",
          "height": 307
        },
        "id": "1b5X2qpyIoYd",
        "outputId": "b2ba61df-6a90-471f-9137-33e44aa1f4ff",
        "collapsed": true
      },
      "execution_count": null,
      "outputs": [
        {
          "output_type": "execute_result",
          "data": {
            "text/plain": [
              "   Marital status  Application mode  Application order  Course  \\\n",
              "0               1                 8                  5       2   \n",
              "1               1                 6                  1      11   \n",
              "2               1                 1                  5       5   \n",
              "3               1                 8                  2      15   \n",
              "4               2                12                  1       3   \n",
              "\n",
              "   Daytime/evening attendance  Previous qualification  Nacionality  \\\n",
              "0                           1                       1            1   \n",
              "1                           1                       1            1   \n",
              "2                           1                       1            1   \n",
              "3                           1                       1            1   \n",
              "4                           0                       1            1   \n",
              "\n",
              "   Mother's qualification  Father's qualification  Mother's occupation  ...  \\\n",
              "0                      13                      10                    6  ...   \n",
              "1                       1                       3                    4  ...   \n",
              "2                      22                      27                   10  ...   \n",
              "3                      23                      27                    6  ...   \n",
              "4                      22                      28                   10  ...   \n",
              "\n",
              "   Curricular units 2nd sem (credited)  Curricular units 2nd sem (enrolled)  \\\n",
              "0                                    0                                    0   \n",
              "1                                    0                                    6   \n",
              "2                                    0                                    6   \n",
              "3                                    0                                    6   \n",
              "4                                    0                                    6   \n",
              "\n",
              "   Curricular units 2nd sem (evaluations)  \\\n",
              "0                                       0   \n",
              "1                                       6   \n",
              "2                                       0   \n",
              "3                                      10   \n",
              "4                                       6   \n",
              "\n",
              "   Curricular units 2nd sem (approved)  Curricular units 2nd sem (grade)  \\\n",
              "0                                    0                          0.000000   \n",
              "1                                    6                         13.666667   \n",
              "2                                    0                          0.000000   \n",
              "3                                    5                         12.400000   \n",
              "4                                    6                         13.000000   \n",
              "\n",
              "   Curricular units 2nd sem (without evaluations)  Unemployment rate  \\\n",
              "0                                               0               10.8   \n",
              "1                                               0               13.9   \n",
              "2                                               0               10.8   \n",
              "3                                               0                9.4   \n",
              "4                                               0               13.9   \n",
              "\n",
              "   Inflation rate   GDP    Target  \n",
              "0             1.4  1.74   Dropout  \n",
              "1            -0.3  0.79  Graduate  \n",
              "2             1.4  1.74   Dropout  \n",
              "3            -0.8 -3.12  Graduate  \n",
              "4            -0.3  0.79  Graduate  \n",
              "\n",
              "[5 rows x 35 columns]"
            ],
            "text/html": [
              "\n",
              "  <div id=\"df-e9dc2165-1f48-4f39-b934-62862e697d8f\" class=\"colab-df-container\">\n",
              "    <div>\n",
              "<style scoped>\n",
              "    .dataframe tbody tr th:only-of-type {\n",
              "        vertical-align: middle;\n",
              "    }\n",
              "\n",
              "    .dataframe tbody tr th {\n",
              "        vertical-align: top;\n",
              "    }\n",
              "\n",
              "    .dataframe thead th {\n",
              "        text-align: right;\n",
              "    }\n",
              "</style>\n",
              "<table border=\"1\" class=\"dataframe\">\n",
              "  <thead>\n",
              "    <tr style=\"text-align: right;\">\n",
              "      <th></th>\n",
              "      <th>Marital status</th>\n",
              "      <th>Application mode</th>\n",
              "      <th>Application order</th>\n",
              "      <th>Course</th>\n",
              "      <th>Daytime/evening attendance</th>\n",
              "      <th>Previous qualification</th>\n",
              "      <th>Nacionality</th>\n",
              "      <th>Mother's qualification</th>\n",
              "      <th>Father's qualification</th>\n",
              "      <th>Mother's occupation</th>\n",
              "      <th>...</th>\n",
              "      <th>Curricular units 2nd sem (credited)</th>\n",
              "      <th>Curricular units 2nd sem (enrolled)</th>\n",
              "      <th>Curricular units 2nd sem (evaluations)</th>\n",
              "      <th>Curricular units 2nd sem (approved)</th>\n",
              "      <th>Curricular units 2nd sem (grade)</th>\n",
              "      <th>Curricular units 2nd sem (without evaluations)</th>\n",
              "      <th>Unemployment rate</th>\n",
              "      <th>Inflation rate</th>\n",
              "      <th>GDP</th>\n",
              "      <th>Target</th>\n",
              "    </tr>\n",
              "  </thead>\n",
              "  <tbody>\n",
              "    <tr>\n",
              "      <th>0</th>\n",
              "      <td>1</td>\n",
              "      <td>8</td>\n",
              "      <td>5</td>\n",
              "      <td>2</td>\n",
              "      <td>1</td>\n",
              "      <td>1</td>\n",
              "      <td>1</td>\n",
              "      <td>13</td>\n",
              "      <td>10</td>\n",
              "      <td>6</td>\n",
              "      <td>...</td>\n",
              "      <td>0</td>\n",
              "      <td>0</td>\n",
              "      <td>0</td>\n",
              "      <td>0</td>\n",
              "      <td>0.000000</td>\n",
              "      <td>0</td>\n",
              "      <td>10.8</td>\n",
              "      <td>1.4</td>\n",
              "      <td>1.74</td>\n",
              "      <td>Dropout</td>\n",
              "    </tr>\n",
              "    <tr>\n",
              "      <th>1</th>\n",
              "      <td>1</td>\n",
              "      <td>6</td>\n",
              "      <td>1</td>\n",
              "      <td>11</td>\n",
              "      <td>1</td>\n",
              "      <td>1</td>\n",
              "      <td>1</td>\n",
              "      <td>1</td>\n",
              "      <td>3</td>\n",
              "      <td>4</td>\n",
              "      <td>...</td>\n",
              "      <td>0</td>\n",
              "      <td>6</td>\n",
              "      <td>6</td>\n",
              "      <td>6</td>\n",
              "      <td>13.666667</td>\n",
              "      <td>0</td>\n",
              "      <td>13.9</td>\n",
              "      <td>-0.3</td>\n",
              "      <td>0.79</td>\n",
              "      <td>Graduate</td>\n",
              "    </tr>\n",
              "    <tr>\n",
              "      <th>2</th>\n",
              "      <td>1</td>\n",
              "      <td>1</td>\n",
              "      <td>5</td>\n",
              "      <td>5</td>\n",
              "      <td>1</td>\n",
              "      <td>1</td>\n",
              "      <td>1</td>\n",
              "      <td>22</td>\n",
              "      <td>27</td>\n",
              "      <td>10</td>\n",
              "      <td>...</td>\n",
              "      <td>0</td>\n",
              "      <td>6</td>\n",
              "      <td>0</td>\n",
              "      <td>0</td>\n",
              "      <td>0.000000</td>\n",
              "      <td>0</td>\n",
              "      <td>10.8</td>\n",
              "      <td>1.4</td>\n",
              "      <td>1.74</td>\n",
              "      <td>Dropout</td>\n",
              "    </tr>\n",
              "    <tr>\n",
              "      <th>3</th>\n",
              "      <td>1</td>\n",
              "      <td>8</td>\n",
              "      <td>2</td>\n",
              "      <td>15</td>\n",
              "      <td>1</td>\n",
              "      <td>1</td>\n",
              "      <td>1</td>\n",
              "      <td>23</td>\n",
              "      <td>27</td>\n",
              "      <td>6</td>\n",
              "      <td>...</td>\n",
              "      <td>0</td>\n",
              "      <td>6</td>\n",
              "      <td>10</td>\n",
              "      <td>5</td>\n",
              "      <td>12.400000</td>\n",
              "      <td>0</td>\n",
              "      <td>9.4</td>\n",
              "      <td>-0.8</td>\n",
              "      <td>-3.12</td>\n",
              "      <td>Graduate</td>\n",
              "    </tr>\n",
              "    <tr>\n",
              "      <th>4</th>\n",
              "      <td>2</td>\n",
              "      <td>12</td>\n",
              "      <td>1</td>\n",
              "      <td>3</td>\n",
              "      <td>0</td>\n",
              "      <td>1</td>\n",
              "      <td>1</td>\n",
              "      <td>22</td>\n",
              "      <td>28</td>\n",
              "      <td>10</td>\n",
              "      <td>...</td>\n",
              "      <td>0</td>\n",
              "      <td>6</td>\n",
              "      <td>6</td>\n",
              "      <td>6</td>\n",
              "      <td>13.000000</td>\n",
              "      <td>0</td>\n",
              "      <td>13.9</td>\n",
              "      <td>-0.3</td>\n",
              "      <td>0.79</td>\n",
              "      <td>Graduate</td>\n",
              "    </tr>\n",
              "  </tbody>\n",
              "</table>\n",
              "<p>5 rows × 35 columns</p>\n",
              "</div>\n",
              "    <div class=\"colab-df-buttons\">\n",
              "\n",
              "  <div class=\"colab-df-container\">\n",
              "    <button class=\"colab-df-convert\" onclick=\"convertToInteractive('df-e9dc2165-1f48-4f39-b934-62862e697d8f')\"\n",
              "            title=\"Convert this dataframe to an interactive table.\"\n",
              "            style=\"display:none;\">\n",
              "\n",
              "  <svg xmlns=\"http://www.w3.org/2000/svg\" height=\"24px\" viewBox=\"0 -960 960 960\">\n",
              "    <path d=\"M120-120v-720h720v720H120Zm60-500h600v-160H180v160Zm220 220h160v-160H400v160Zm0 220h160v-160H400v160ZM180-400h160v-160H180v160Zm440 0h160v-160H620v160ZM180-180h160v-160H180v160Zm440 0h160v-160H620v160Z\"/>\n",
              "  </svg>\n",
              "    </button>\n",
              "\n",
              "  <style>\n",
              "    .colab-df-container {\n",
              "      display:flex;\n",
              "      gap: 12px;\n",
              "    }\n",
              "\n",
              "    .colab-df-convert {\n",
              "      background-color: #E8F0FE;\n",
              "      border: none;\n",
              "      border-radius: 50%;\n",
              "      cursor: pointer;\n",
              "      display: none;\n",
              "      fill: #1967D2;\n",
              "      height: 32px;\n",
              "      padding: 0 0 0 0;\n",
              "      width: 32px;\n",
              "    }\n",
              "\n",
              "    .colab-df-convert:hover {\n",
              "      background-color: #E2EBFA;\n",
              "      box-shadow: 0px 1px 2px rgba(60, 64, 67, 0.3), 0px 1px 3px 1px rgba(60, 64, 67, 0.15);\n",
              "      fill: #174EA6;\n",
              "    }\n",
              "\n",
              "    .colab-df-buttons div {\n",
              "      margin-bottom: 4px;\n",
              "    }\n",
              "\n",
              "    [theme=dark] .colab-df-convert {\n",
              "      background-color: #3B4455;\n",
              "      fill: #D2E3FC;\n",
              "    }\n",
              "\n",
              "    [theme=dark] .colab-df-convert:hover {\n",
              "      background-color: #434B5C;\n",
              "      box-shadow: 0px 1px 3px 1px rgba(0, 0, 0, 0.15);\n",
              "      filter: drop-shadow(0px 1px 2px rgba(0, 0, 0, 0.3));\n",
              "      fill: #FFFFFF;\n",
              "    }\n",
              "  </style>\n",
              "\n",
              "    <script>\n",
              "      const buttonEl =\n",
              "        document.querySelector('#df-e9dc2165-1f48-4f39-b934-62862e697d8f button.colab-df-convert');\n",
              "      buttonEl.style.display =\n",
              "        google.colab.kernel.accessAllowed ? 'block' : 'none';\n",
              "\n",
              "      async function convertToInteractive(key) {\n",
              "        const element = document.querySelector('#df-e9dc2165-1f48-4f39-b934-62862e697d8f');\n",
              "        const dataTable =\n",
              "          await google.colab.kernel.invokeFunction('convertToInteractive',\n",
              "                                                    [key], {});\n",
              "        if (!dataTable) return;\n",
              "\n",
              "        const docLinkHtml = 'Like what you see? Visit the ' +\n",
              "          '<a target=\"_blank\" href=https://colab.research.google.com/notebooks/data_table.ipynb>data table notebook</a>'\n",
              "          + ' to learn more about interactive tables.';\n",
              "        element.innerHTML = '';\n",
              "        dataTable['output_type'] = 'display_data';\n",
              "        await google.colab.output.renderOutput(dataTable, element);\n",
              "        const docLink = document.createElement('div');\n",
              "        docLink.innerHTML = docLinkHtml;\n",
              "        element.appendChild(docLink);\n",
              "      }\n",
              "    </script>\n",
              "  </div>\n",
              "\n",
              "\n",
              "<div id=\"df-2792541e-c55a-44ef-be31-879742d02f29\">\n",
              "  <button class=\"colab-df-quickchart\" onclick=\"quickchart('df-2792541e-c55a-44ef-be31-879742d02f29')\"\n",
              "            title=\"Suggest charts\"\n",
              "            style=\"display:none;\">\n",
              "\n",
              "<svg xmlns=\"http://www.w3.org/2000/svg\" height=\"24px\"viewBox=\"0 0 24 24\"\n",
              "     width=\"24px\">\n",
              "    <g>\n",
              "        <path d=\"M19 3H5c-1.1 0-2 .9-2 2v14c0 1.1.9 2 2 2h14c1.1 0 2-.9 2-2V5c0-1.1-.9-2-2-2zM9 17H7v-7h2v7zm4 0h-2V7h2v10zm4 0h-2v-4h2v4z\"/>\n",
              "    </g>\n",
              "</svg>\n",
              "  </button>\n",
              "\n",
              "<style>\n",
              "  .colab-df-quickchart {\n",
              "      --bg-color: #E8F0FE;\n",
              "      --fill-color: #1967D2;\n",
              "      --hover-bg-color: #E2EBFA;\n",
              "      --hover-fill-color: #174EA6;\n",
              "      --disabled-fill-color: #AAA;\n",
              "      --disabled-bg-color: #DDD;\n",
              "  }\n",
              "\n",
              "  [theme=dark] .colab-df-quickchart {\n",
              "      --bg-color: #3B4455;\n",
              "      --fill-color: #D2E3FC;\n",
              "      --hover-bg-color: #434B5C;\n",
              "      --hover-fill-color: #FFFFFF;\n",
              "      --disabled-bg-color: #3B4455;\n",
              "      --disabled-fill-color: #666;\n",
              "  }\n",
              "\n",
              "  .colab-df-quickchart {\n",
              "    background-color: var(--bg-color);\n",
              "    border: none;\n",
              "    border-radius: 50%;\n",
              "    cursor: pointer;\n",
              "    display: none;\n",
              "    fill: var(--fill-color);\n",
              "    height: 32px;\n",
              "    padding: 0;\n",
              "    width: 32px;\n",
              "  }\n",
              "\n",
              "  .colab-df-quickchart:hover {\n",
              "    background-color: var(--hover-bg-color);\n",
              "    box-shadow: 0 1px 2px rgba(60, 64, 67, 0.3), 0 1px 3px 1px rgba(60, 64, 67, 0.15);\n",
              "    fill: var(--button-hover-fill-color);\n",
              "  }\n",
              "\n",
              "  .colab-df-quickchart-complete:disabled,\n",
              "  .colab-df-quickchart-complete:disabled:hover {\n",
              "    background-color: var(--disabled-bg-color);\n",
              "    fill: var(--disabled-fill-color);\n",
              "    box-shadow: none;\n",
              "  }\n",
              "\n",
              "  .colab-df-spinner {\n",
              "    border: 2px solid var(--fill-color);\n",
              "    border-color: transparent;\n",
              "    border-bottom-color: var(--fill-color);\n",
              "    animation:\n",
              "      spin 1s steps(1) infinite;\n",
              "  }\n",
              "\n",
              "  @keyframes spin {\n",
              "    0% {\n",
              "      border-color: transparent;\n",
              "      border-bottom-color: var(--fill-color);\n",
              "      border-left-color: var(--fill-color);\n",
              "    }\n",
              "    20% {\n",
              "      border-color: transparent;\n",
              "      border-left-color: var(--fill-color);\n",
              "      border-top-color: var(--fill-color);\n",
              "    }\n",
              "    30% {\n",
              "      border-color: transparent;\n",
              "      border-left-color: var(--fill-color);\n",
              "      border-top-color: var(--fill-color);\n",
              "      border-right-color: var(--fill-color);\n",
              "    }\n",
              "    40% {\n",
              "      border-color: transparent;\n",
              "      border-right-color: var(--fill-color);\n",
              "      border-top-color: var(--fill-color);\n",
              "    }\n",
              "    60% {\n",
              "      border-color: transparent;\n",
              "      border-right-color: var(--fill-color);\n",
              "    }\n",
              "    80% {\n",
              "      border-color: transparent;\n",
              "      border-right-color: var(--fill-color);\n",
              "      border-bottom-color: var(--fill-color);\n",
              "    }\n",
              "    90% {\n",
              "      border-color: transparent;\n",
              "      border-bottom-color: var(--fill-color);\n",
              "    }\n",
              "  }\n",
              "</style>\n",
              "\n",
              "  <script>\n",
              "    async function quickchart(key) {\n",
              "      const quickchartButtonEl =\n",
              "        document.querySelector('#' + key + ' button');\n",
              "      quickchartButtonEl.disabled = true;  // To prevent multiple clicks.\n",
              "      quickchartButtonEl.classList.add('colab-df-spinner');\n",
              "      try {\n",
              "        const charts = await google.colab.kernel.invokeFunction(\n",
              "            'suggestCharts', [key], {});\n",
              "      } catch (error) {\n",
              "        console.error('Error during call to suggestCharts:', error);\n",
              "      }\n",
              "      quickchartButtonEl.classList.remove('colab-df-spinner');\n",
              "      quickchartButtonEl.classList.add('colab-df-quickchart-complete');\n",
              "    }\n",
              "    (() => {\n",
              "      let quickchartButtonEl =\n",
              "        document.querySelector('#df-2792541e-c55a-44ef-be31-879742d02f29 button');\n",
              "      quickchartButtonEl.style.display =\n",
              "        google.colab.kernel.accessAllowed ? 'block' : 'none';\n",
              "    })();\n",
              "  </script>\n",
              "</div>\n",
              "\n",
              "    </div>\n",
              "  </div>\n"
            ],
            "application/vnd.google.colaboratory.intrinsic+json": {
              "type": "dataframe",
              "variable_name": "df"
            }
          },
          "metadata": {},
          "execution_count": 3
        }
      ]
    },
    {
      "cell_type": "code",
      "source": [
        "df.isna().sum()"
      ],
      "metadata": {
        "colab": {
          "base_uri": "https://localhost:8080/",
          "height": 1000
        },
        "id": "RN-GYDbIK5hk",
        "outputId": "c3583bdf-ffa9-452a-ef1a-7cca2ebc5f99",
        "collapsed": true
      },
      "execution_count": null,
      "outputs": [
        {
          "output_type": "execute_result",
          "data": {
            "text/plain": [
              "Marital status                                    0\n",
              "Application mode                                  0\n",
              "Application order                                 0\n",
              "Course                                            0\n",
              "Daytime/evening attendance                        0\n",
              "Previous qualification                            0\n",
              "Nacionality                                       0\n",
              "Mother's qualification                            0\n",
              "Father's qualification                            0\n",
              "Mother's occupation                               0\n",
              "Father's occupation                               0\n",
              "Displaced                                         0\n",
              "Educational special needs                         0\n",
              "Debtor                                            0\n",
              "Tuition fees up to date                           0\n",
              "Gender                                            0\n",
              "Scholarship holder                                0\n",
              "Age at enrollment                                 0\n",
              "International                                     0\n",
              "Curricular units 1st sem (credited)               0\n",
              "Curricular units 1st sem (enrolled)               0\n",
              "Curricular units 1st sem (evaluations)            0\n",
              "Curricular units 1st sem (approved)               0\n",
              "Curricular units 1st sem (grade)                  0\n",
              "Curricular units 1st sem (without evaluations)    0\n",
              "Curricular units 2nd sem (credited)               0\n",
              "Curricular units 2nd sem (enrolled)               0\n",
              "Curricular units 2nd sem (evaluations)            0\n",
              "Curricular units 2nd sem (approved)               0\n",
              "Curricular units 2nd sem (grade)                  0\n",
              "Curricular units 2nd sem (without evaluations)    0\n",
              "Unemployment rate                                 0\n",
              "Inflation rate                                    0\n",
              "GDP                                               0\n",
              "Target                                            0\n",
              "dtype: int64"
            ],
            "text/html": [
              "<div>\n",
              "<style scoped>\n",
              "    .dataframe tbody tr th:only-of-type {\n",
              "        vertical-align: middle;\n",
              "    }\n",
              "\n",
              "    .dataframe tbody tr th {\n",
              "        vertical-align: top;\n",
              "    }\n",
              "\n",
              "    .dataframe thead th {\n",
              "        text-align: right;\n",
              "    }\n",
              "</style>\n",
              "<table border=\"1\" class=\"dataframe\">\n",
              "  <thead>\n",
              "    <tr style=\"text-align: right;\">\n",
              "      <th></th>\n",
              "      <th>0</th>\n",
              "    </tr>\n",
              "  </thead>\n",
              "  <tbody>\n",
              "    <tr>\n",
              "      <th>Marital status</th>\n",
              "      <td>0</td>\n",
              "    </tr>\n",
              "    <tr>\n",
              "      <th>Application mode</th>\n",
              "      <td>0</td>\n",
              "    </tr>\n",
              "    <tr>\n",
              "      <th>Application order</th>\n",
              "      <td>0</td>\n",
              "    </tr>\n",
              "    <tr>\n",
              "      <th>Course</th>\n",
              "      <td>0</td>\n",
              "    </tr>\n",
              "    <tr>\n",
              "      <th>Daytime/evening attendance</th>\n",
              "      <td>0</td>\n",
              "    </tr>\n",
              "    <tr>\n",
              "      <th>Previous qualification</th>\n",
              "      <td>0</td>\n",
              "    </tr>\n",
              "    <tr>\n",
              "      <th>Nacionality</th>\n",
              "      <td>0</td>\n",
              "    </tr>\n",
              "    <tr>\n",
              "      <th>Mother's qualification</th>\n",
              "      <td>0</td>\n",
              "    </tr>\n",
              "    <tr>\n",
              "      <th>Father's qualification</th>\n",
              "      <td>0</td>\n",
              "    </tr>\n",
              "    <tr>\n",
              "      <th>Mother's occupation</th>\n",
              "      <td>0</td>\n",
              "    </tr>\n",
              "    <tr>\n",
              "      <th>Father's occupation</th>\n",
              "      <td>0</td>\n",
              "    </tr>\n",
              "    <tr>\n",
              "      <th>Displaced</th>\n",
              "      <td>0</td>\n",
              "    </tr>\n",
              "    <tr>\n",
              "      <th>Educational special needs</th>\n",
              "      <td>0</td>\n",
              "    </tr>\n",
              "    <tr>\n",
              "      <th>Debtor</th>\n",
              "      <td>0</td>\n",
              "    </tr>\n",
              "    <tr>\n",
              "      <th>Tuition fees up to date</th>\n",
              "      <td>0</td>\n",
              "    </tr>\n",
              "    <tr>\n",
              "      <th>Gender</th>\n",
              "      <td>0</td>\n",
              "    </tr>\n",
              "    <tr>\n",
              "      <th>Scholarship holder</th>\n",
              "      <td>0</td>\n",
              "    </tr>\n",
              "    <tr>\n",
              "      <th>Age at enrollment</th>\n",
              "      <td>0</td>\n",
              "    </tr>\n",
              "    <tr>\n",
              "      <th>International</th>\n",
              "      <td>0</td>\n",
              "    </tr>\n",
              "    <tr>\n",
              "      <th>Curricular units 1st sem (credited)</th>\n",
              "      <td>0</td>\n",
              "    </tr>\n",
              "    <tr>\n",
              "      <th>Curricular units 1st sem (enrolled)</th>\n",
              "      <td>0</td>\n",
              "    </tr>\n",
              "    <tr>\n",
              "      <th>Curricular units 1st sem (evaluations)</th>\n",
              "      <td>0</td>\n",
              "    </tr>\n",
              "    <tr>\n",
              "      <th>Curricular units 1st sem (approved)</th>\n",
              "      <td>0</td>\n",
              "    </tr>\n",
              "    <tr>\n",
              "      <th>Curricular units 1st sem (grade)</th>\n",
              "      <td>0</td>\n",
              "    </tr>\n",
              "    <tr>\n",
              "      <th>Curricular units 1st sem (without evaluations)</th>\n",
              "      <td>0</td>\n",
              "    </tr>\n",
              "    <tr>\n",
              "      <th>Curricular units 2nd sem (credited)</th>\n",
              "      <td>0</td>\n",
              "    </tr>\n",
              "    <tr>\n",
              "      <th>Curricular units 2nd sem (enrolled)</th>\n",
              "      <td>0</td>\n",
              "    </tr>\n",
              "    <tr>\n",
              "      <th>Curricular units 2nd sem (evaluations)</th>\n",
              "      <td>0</td>\n",
              "    </tr>\n",
              "    <tr>\n",
              "      <th>Curricular units 2nd sem (approved)</th>\n",
              "      <td>0</td>\n",
              "    </tr>\n",
              "    <tr>\n",
              "      <th>Curricular units 2nd sem (grade)</th>\n",
              "      <td>0</td>\n",
              "    </tr>\n",
              "    <tr>\n",
              "      <th>Curricular units 2nd sem (without evaluations)</th>\n",
              "      <td>0</td>\n",
              "    </tr>\n",
              "    <tr>\n",
              "      <th>Unemployment rate</th>\n",
              "      <td>0</td>\n",
              "    </tr>\n",
              "    <tr>\n",
              "      <th>Inflation rate</th>\n",
              "      <td>0</td>\n",
              "    </tr>\n",
              "    <tr>\n",
              "      <th>GDP</th>\n",
              "      <td>0</td>\n",
              "    </tr>\n",
              "    <tr>\n",
              "      <th>Target</th>\n",
              "      <td>0</td>\n",
              "    </tr>\n",
              "  </tbody>\n",
              "</table>\n",
              "</div><br><label><b>dtype:</b> int64</label>"
            ]
          },
          "metadata": {},
          "execution_count": 3
        }
      ]
    },
    {
      "cell_type": "code",
      "source": [
        "df.columns"
      ],
      "metadata": {
        "colab": {
          "base_uri": "https://localhost:8080/"
        },
        "id": "K5iyVfgPaenI",
        "outputId": "b1937926-bc53-47ba-b744-f5071632e158",
        "collapsed": true
      },
      "execution_count": null,
      "outputs": [
        {
          "output_type": "execute_result",
          "data": {
            "text/plain": [
              "Index(['Marital status', 'Application mode', 'Application order', 'Course',\n",
              "       'Daytime/evening attendance', 'Previous qualification', 'Nacionality',\n",
              "       'Mother's qualification', 'Father's qualification',\n",
              "       'Mother's occupation', 'Father's occupation', 'Displaced',\n",
              "       'Educational special needs', 'Debtor', 'Tuition fees up to date',\n",
              "       'Gender', 'Scholarship holder', 'Age at enrollment', 'International',\n",
              "       'Curricular units 1st sem (credited)',\n",
              "       'Curricular units 1st sem (enrolled)',\n",
              "       'Curricular units 1st sem (evaluations)',\n",
              "       'Curricular units 1st sem (approved)',\n",
              "       'Curricular units 1st sem (grade)',\n",
              "       'Curricular units 1st sem (without evaluations)',\n",
              "       'Curricular units 2nd sem (credited)',\n",
              "       'Curricular units 2nd sem (enrolled)',\n",
              "       'Curricular units 2nd sem (evaluations)',\n",
              "       'Curricular units 2nd sem (approved)',\n",
              "       'Curricular units 2nd sem (grade)',\n",
              "       'Curricular units 2nd sem (without evaluations)', 'Unemployment rate',\n",
              "       'Inflation rate', 'GDP', 'Target'],\n",
              "      dtype='object')"
            ]
          },
          "metadata": {},
          "execution_count": 4
        }
      ]
    },
    {
      "cell_type": "code",
      "source": [
        "df.info()"
      ],
      "metadata": {
        "colab": {
          "base_uri": "https://localhost:8080/"
        },
        "id": "8G4Yueo_qAaM",
        "outputId": "cf62b9de-2a2c-4159-b403-f68b2d970fe2",
        "collapsed": true
      },
      "execution_count": null,
      "outputs": [
        {
          "output_type": "stream",
          "name": "stdout",
          "text": [
            "<class 'pandas.core.frame.DataFrame'>\n",
            "RangeIndex: 4424 entries, 0 to 4423\n",
            "Data columns (total 35 columns):\n",
            " #   Column                                          Non-Null Count  Dtype  \n",
            "---  ------                                          --------------  -----  \n",
            " 0   Marital status                                  4424 non-null   int64  \n",
            " 1   Application mode                                4424 non-null   int64  \n",
            " 2   Application order                               4424 non-null   int64  \n",
            " 3   Course                                          4424 non-null   int64  \n",
            " 4   Daytime/evening attendance                      4424 non-null   int64  \n",
            " 5   Previous qualification                          4424 non-null   int64  \n",
            " 6   Nacionality                                     4424 non-null   int64  \n",
            " 7   Mother's qualification                          4424 non-null   int64  \n",
            " 8   Father's qualification                          4424 non-null   int64  \n",
            " 9   Mother's occupation                             4424 non-null   int64  \n",
            " 10  Father's occupation                             4424 non-null   int64  \n",
            " 11  Displaced                                       4424 non-null   int64  \n",
            " 12  Educational special needs                       4424 non-null   int64  \n",
            " 13  Debtor                                          4424 non-null   int64  \n",
            " 14  Tuition fees up to date                         4424 non-null   int64  \n",
            " 15  Gender                                          4424 non-null   int64  \n",
            " 16  Scholarship holder                              4424 non-null   int64  \n",
            " 17  Age at enrollment                               4424 non-null   int64  \n",
            " 18  International                                   4424 non-null   int64  \n",
            " 19  Curricular units 1st sem (credited)             4424 non-null   int64  \n",
            " 20  Curricular units 1st sem (enrolled)             4424 non-null   int64  \n",
            " 21  Curricular units 1st sem (evaluations)          4424 non-null   int64  \n",
            " 22  Curricular units 1st sem (approved)             4424 non-null   int64  \n",
            " 23  Curricular units 1st sem (grade)                4424 non-null   float64\n",
            " 24  Curricular units 1st sem (without evaluations)  4424 non-null   int64  \n",
            " 25  Curricular units 2nd sem (credited)             4424 non-null   int64  \n",
            " 26  Curricular units 2nd sem (enrolled)             4424 non-null   int64  \n",
            " 27  Curricular units 2nd sem (evaluations)          4424 non-null   int64  \n",
            " 28  Curricular units 2nd sem (approved)             4424 non-null   int64  \n",
            " 29  Curricular units 2nd sem (grade)                4424 non-null   float64\n",
            " 30  Curricular units 2nd sem (without evaluations)  4424 non-null   int64  \n",
            " 31  Unemployment rate                               4424 non-null   float64\n",
            " 32  Inflation rate                                  4424 non-null   float64\n",
            " 33  GDP                                             4424 non-null   float64\n",
            " 34  Target                                          4424 non-null   object \n",
            "dtypes: float64(5), int64(29), object(1)\n",
            "memory usage: 1.2+ MB\n"
          ]
        }
      ]
    },
    {
      "cell_type": "code",
      "source": [
        "df['Curricular units 1st sem (evaluations)'].value_counts()"
      ],
      "metadata": {
        "colab": {
          "base_uri": "https://localhost:8080/",
          "height": 1000
        },
        "collapsed": true,
        "id": "wmb6j6n3RGri",
        "outputId": "cf0f5c8a-4eee-4992-e0cf-4cca0b44aec5"
      },
      "execution_count": null,
      "outputs": [
        {
          "output_type": "execute_result",
          "data": {
            "text/plain": [
              "Curricular units 1st sem (evaluations)\n",
              "8     791\n",
              "7     703\n",
              "6     598\n",
              "9     402\n",
              "0     349\n",
              "10    340\n",
              "11    239\n",
              "12    223\n",
              "5     220\n",
              "13    140\n",
              "14    105\n",
              "15     70\n",
              "16     47\n",
              "17     33\n",
              "18     30\n",
              "19     23\n",
              "4      19\n",
              "21     17\n",
              "20     12\n",
              "22     10\n",
              "23      9\n",
              "2       8\n",
              "3       6\n",
              "24      6\n",
              "1       6\n",
              "26      4\n",
              "25      3\n",
              "27      2\n",
              "29      2\n",
              "45      2\n",
              "32      1\n",
              "36      1\n",
              "31      1\n",
              "28      1\n",
              "33      1\n",
              "Name: count, dtype: int64"
            ],
            "text/html": [
              "<div>\n",
              "<style scoped>\n",
              "    .dataframe tbody tr th:only-of-type {\n",
              "        vertical-align: middle;\n",
              "    }\n",
              "\n",
              "    .dataframe tbody tr th {\n",
              "        vertical-align: top;\n",
              "    }\n",
              "\n",
              "    .dataframe thead th {\n",
              "        text-align: right;\n",
              "    }\n",
              "</style>\n",
              "<table border=\"1\" class=\"dataframe\">\n",
              "  <thead>\n",
              "    <tr style=\"text-align: right;\">\n",
              "      <th></th>\n",
              "      <th>count</th>\n",
              "    </tr>\n",
              "    <tr>\n",
              "      <th>Curricular units 1st sem (evaluations)</th>\n",
              "      <th></th>\n",
              "    </tr>\n",
              "  </thead>\n",
              "  <tbody>\n",
              "    <tr>\n",
              "      <th>8</th>\n",
              "      <td>791</td>\n",
              "    </tr>\n",
              "    <tr>\n",
              "      <th>7</th>\n",
              "      <td>703</td>\n",
              "    </tr>\n",
              "    <tr>\n",
              "      <th>6</th>\n",
              "      <td>598</td>\n",
              "    </tr>\n",
              "    <tr>\n",
              "      <th>9</th>\n",
              "      <td>402</td>\n",
              "    </tr>\n",
              "    <tr>\n",
              "      <th>0</th>\n",
              "      <td>349</td>\n",
              "    </tr>\n",
              "    <tr>\n",
              "      <th>10</th>\n",
              "      <td>340</td>\n",
              "    </tr>\n",
              "    <tr>\n",
              "      <th>11</th>\n",
              "      <td>239</td>\n",
              "    </tr>\n",
              "    <tr>\n",
              "      <th>12</th>\n",
              "      <td>223</td>\n",
              "    </tr>\n",
              "    <tr>\n",
              "      <th>5</th>\n",
              "      <td>220</td>\n",
              "    </tr>\n",
              "    <tr>\n",
              "      <th>13</th>\n",
              "      <td>140</td>\n",
              "    </tr>\n",
              "    <tr>\n",
              "      <th>14</th>\n",
              "      <td>105</td>\n",
              "    </tr>\n",
              "    <tr>\n",
              "      <th>15</th>\n",
              "      <td>70</td>\n",
              "    </tr>\n",
              "    <tr>\n",
              "      <th>16</th>\n",
              "      <td>47</td>\n",
              "    </tr>\n",
              "    <tr>\n",
              "      <th>17</th>\n",
              "      <td>33</td>\n",
              "    </tr>\n",
              "    <tr>\n",
              "      <th>18</th>\n",
              "      <td>30</td>\n",
              "    </tr>\n",
              "    <tr>\n",
              "      <th>19</th>\n",
              "      <td>23</td>\n",
              "    </tr>\n",
              "    <tr>\n",
              "      <th>4</th>\n",
              "      <td>19</td>\n",
              "    </tr>\n",
              "    <tr>\n",
              "      <th>21</th>\n",
              "      <td>17</td>\n",
              "    </tr>\n",
              "    <tr>\n",
              "      <th>20</th>\n",
              "      <td>12</td>\n",
              "    </tr>\n",
              "    <tr>\n",
              "      <th>22</th>\n",
              "      <td>10</td>\n",
              "    </tr>\n",
              "    <tr>\n",
              "      <th>23</th>\n",
              "      <td>9</td>\n",
              "    </tr>\n",
              "    <tr>\n",
              "      <th>2</th>\n",
              "      <td>8</td>\n",
              "    </tr>\n",
              "    <tr>\n",
              "      <th>3</th>\n",
              "      <td>6</td>\n",
              "    </tr>\n",
              "    <tr>\n",
              "      <th>24</th>\n",
              "      <td>6</td>\n",
              "    </tr>\n",
              "    <tr>\n",
              "      <th>1</th>\n",
              "      <td>6</td>\n",
              "    </tr>\n",
              "    <tr>\n",
              "      <th>26</th>\n",
              "      <td>4</td>\n",
              "    </tr>\n",
              "    <tr>\n",
              "      <th>25</th>\n",
              "      <td>3</td>\n",
              "    </tr>\n",
              "    <tr>\n",
              "      <th>27</th>\n",
              "      <td>2</td>\n",
              "    </tr>\n",
              "    <tr>\n",
              "      <th>29</th>\n",
              "      <td>2</td>\n",
              "    </tr>\n",
              "    <tr>\n",
              "      <th>45</th>\n",
              "      <td>2</td>\n",
              "    </tr>\n",
              "    <tr>\n",
              "      <th>32</th>\n",
              "      <td>1</td>\n",
              "    </tr>\n",
              "    <tr>\n",
              "      <th>36</th>\n",
              "      <td>1</td>\n",
              "    </tr>\n",
              "    <tr>\n",
              "      <th>31</th>\n",
              "      <td>1</td>\n",
              "    </tr>\n",
              "    <tr>\n",
              "      <th>28</th>\n",
              "      <td>1</td>\n",
              "    </tr>\n",
              "    <tr>\n",
              "      <th>33</th>\n",
              "      <td>1</td>\n",
              "    </tr>\n",
              "  </tbody>\n",
              "</table>\n",
              "</div><br><label><b>dtype:</b> int64</label>"
            ]
          },
          "metadata": {},
          "execution_count": 6
        }
      ]
    },
    {
      "cell_type": "code",
      "source": [
        "df['Curricular units 1st sem (grade)'].value_counts()"
      ],
      "metadata": {
        "colab": {
          "base_uri": "https://localhost:8080/",
          "height": 489
        },
        "collapsed": true,
        "id": "ESfJkdAaRpXN",
        "outputId": "8a8c0646-d7e2-4de1-b95e-e6245c0c576d"
      },
      "execution_count": null,
      "outputs": [
        {
          "output_type": "execute_result",
          "data": {
            "text/plain": [
              "Curricular units 1st sem (grade)\n",
              "0.000000     718\n",
              "12.000000    205\n",
              "13.000000    147\n",
              "11.000000    138\n",
              "11.500000     89\n",
              "            ... \n",
              "12.855556      1\n",
              "13.040000      1\n",
              "15.657143      1\n",
              "13.331429      1\n",
              "14.912500      1\n",
              "Name: count, Length: 805, dtype: int64"
            ],
            "text/html": [
              "<div>\n",
              "<style scoped>\n",
              "    .dataframe tbody tr th:only-of-type {\n",
              "        vertical-align: middle;\n",
              "    }\n",
              "\n",
              "    .dataframe tbody tr th {\n",
              "        vertical-align: top;\n",
              "    }\n",
              "\n",
              "    .dataframe thead th {\n",
              "        text-align: right;\n",
              "    }\n",
              "</style>\n",
              "<table border=\"1\" class=\"dataframe\">\n",
              "  <thead>\n",
              "    <tr style=\"text-align: right;\">\n",
              "      <th></th>\n",
              "      <th>count</th>\n",
              "    </tr>\n",
              "    <tr>\n",
              "      <th>Curricular units 1st sem (grade)</th>\n",
              "      <th></th>\n",
              "    </tr>\n",
              "  </thead>\n",
              "  <tbody>\n",
              "    <tr>\n",
              "      <th>0.000000</th>\n",
              "      <td>718</td>\n",
              "    </tr>\n",
              "    <tr>\n",
              "      <th>12.000000</th>\n",
              "      <td>205</td>\n",
              "    </tr>\n",
              "    <tr>\n",
              "      <th>13.000000</th>\n",
              "      <td>147</td>\n",
              "    </tr>\n",
              "    <tr>\n",
              "      <th>11.000000</th>\n",
              "      <td>138</td>\n",
              "    </tr>\n",
              "    <tr>\n",
              "      <th>11.500000</th>\n",
              "      <td>89</td>\n",
              "    </tr>\n",
              "    <tr>\n",
              "      <th>...</th>\n",
              "      <td>...</td>\n",
              "    </tr>\n",
              "    <tr>\n",
              "      <th>12.855556</th>\n",
              "      <td>1</td>\n",
              "    </tr>\n",
              "    <tr>\n",
              "      <th>13.040000</th>\n",
              "      <td>1</td>\n",
              "    </tr>\n",
              "    <tr>\n",
              "      <th>15.657143</th>\n",
              "      <td>1</td>\n",
              "    </tr>\n",
              "    <tr>\n",
              "      <th>13.331429</th>\n",
              "      <td>1</td>\n",
              "    </tr>\n",
              "    <tr>\n",
              "      <th>14.912500</th>\n",
              "      <td>1</td>\n",
              "    </tr>\n",
              "  </tbody>\n",
              "</table>\n",
              "<p>805 rows × 1 columns</p>\n",
              "</div><br><label><b>dtype:</b> int64</label>"
            ]
          },
          "metadata": {},
          "execution_count": 9
        }
      ]
    },
    {
      "cell_type": "code",
      "source": [
        "df['Curricular units 1st sem (grade)'].describe(),  df['Curricular units 2nd sem (grade)'].describe()\n",
        "# summary statistics for \"grade\" for each semester"
      ],
      "metadata": {
        "colab": {
          "base_uri": "https://localhost:8080/"
        },
        "id": "PPJQqo-J0iFp",
        "outputId": "2cfbb0a5-e22a-409f-9424-53d1e865f212",
        "collapsed": true
      },
      "execution_count": null,
      "outputs": [
        {
          "output_type": "execute_result",
          "data": {
            "text/plain": [
              "(count    4424.000000\n",
              " mean       10.640822\n",
              " std         4.843663\n",
              " min         0.000000\n",
              " 25%        11.000000\n",
              " 50%        12.285714\n",
              " 75%        13.400000\n",
              " max        18.875000\n",
              " Name: Curricular units 1st sem (grade), dtype: float64,\n",
              " count    4424.000000\n",
              " mean       10.230206\n",
              " std         5.210808\n",
              " min         0.000000\n",
              " 25%        10.750000\n",
              " 50%        12.200000\n",
              " 75%        13.333333\n",
              " max        18.571429\n",
              " Name: Curricular units 2nd sem (grade), dtype: float64)"
            ]
          },
          "metadata": {},
          "execution_count": 10
        }
      ]
    },
    {
      "cell_type": "markdown",
      "source": [
        "# Feature Engineering\n",
        "\n",
        "Let's add a GPA column to our dataframe, and see how it looks"
      ],
      "metadata": {
        "id": "iw3ZgzvmehVx"
      }
    },
    {
      "cell_type": "code",
      "source": [
        "GPA_1 = df['Curricular units 1st sem (grade)']/df['Curricular units 1st sem (enrolled)']\n",
        "GPA_2 = df['Curricular units 2nd sem (grade)']/df['Curricular units 2nd sem (enrolled)']\n",
        "df['GPA_1'] = GPA_1\n",
        "df['GPA_2'] = GPA_2\n",
        "#df = pd.concat([df['GPA_1'], df['GPA_2']], axis=1)\n",
        "df.info()"
      ],
      "metadata": {
        "colab": {
          "base_uri": "https://localhost:8080/"
        },
        "id": "TbJFya4U27mO",
        "outputId": "5fac64b3-974e-43cc-a81d-4b0ce630e4bf"
      },
      "execution_count": null,
      "outputs": [
        {
          "output_type": "stream",
          "name": "stdout",
          "text": [
            "<class 'pandas.core.frame.DataFrame'>\n",
            "RangeIndex: 4424 entries, 0 to 4423\n",
            "Data columns (total 37 columns):\n",
            " #   Column                                          Non-Null Count  Dtype  \n",
            "---  ------                                          --------------  -----  \n",
            " 0   Marital status                                  4424 non-null   int64  \n",
            " 1   Application mode                                4424 non-null   int64  \n",
            " 2   Application order                               4424 non-null   int64  \n",
            " 3   Course                                          4424 non-null   int64  \n",
            " 4   Daytime/evening attendance                      4424 non-null   int64  \n",
            " 5   Previous qualification                          4424 non-null   int64  \n",
            " 6   Nacionality                                     4424 non-null   int64  \n",
            " 7   Mother's qualification                          4424 non-null   int64  \n",
            " 8   Father's qualification                          4424 non-null   int64  \n",
            " 9   Mother's occupation                             4424 non-null   int64  \n",
            " 10  Father's occupation                             4424 non-null   int64  \n",
            " 11  Displaced                                       4424 non-null   int64  \n",
            " 12  Educational special needs                       4424 non-null   int64  \n",
            " 13  Debtor                                          4424 non-null   int64  \n",
            " 14  Tuition fees up to date                         4424 non-null   int64  \n",
            " 15  Gender                                          4424 non-null   int64  \n",
            " 16  Scholarship holder                              4424 non-null   int64  \n",
            " 17  Age at enrollment                               4424 non-null   int64  \n",
            " 18  International                                   4424 non-null   int64  \n",
            " 19  Curricular units 1st sem (credited)             4424 non-null   int64  \n",
            " 20  Curricular units 1st sem (enrolled)             4424 non-null   int64  \n",
            " 21  Curricular units 1st sem (evaluations)          4424 non-null   int64  \n",
            " 22  Curricular units 1st sem (approved)             4424 non-null   int64  \n",
            " 23  Curricular units 1st sem (grade)                4424 non-null   float64\n",
            " 24  Curricular units 1st sem (without evaluations)  4424 non-null   int64  \n",
            " 25  Curricular units 2nd sem (credited)             4424 non-null   int64  \n",
            " 26  Curricular units 2nd sem (enrolled)             4424 non-null   int64  \n",
            " 27  Curricular units 2nd sem (evaluations)          4424 non-null   int64  \n",
            " 28  Curricular units 2nd sem (approved)             4424 non-null   int64  \n",
            " 29  Curricular units 2nd sem (grade)                4424 non-null   float64\n",
            " 30  Curricular units 2nd sem (without evaluations)  4424 non-null   int64  \n",
            " 31  Unemployment rate                               4424 non-null   float64\n",
            " 32  Inflation rate                                  4424 non-null   float64\n",
            " 33  GDP                                             4424 non-null   float64\n",
            " 34  Target                                          4424 non-null   object \n",
            " 35  GPA_1                                           4244 non-null   float64\n",
            " 36  GPA_2                                           4244 non-null   float64\n",
            "dtypes: float64(7), int64(29), object(1)\n",
            "memory usage: 1.2+ MB\n"
          ]
        }
      ]
    },
    {
      "cell_type": "code",
      "source": [
        "df['GPA_1'].describe(), df['GPA_2'].describe()\n",
        "# comparing summary stats for 1st & 2nd-semester GPA (our derived column)"
      ],
      "metadata": {
        "colab": {
          "base_uri": "https://localhost:8080/"
        },
        "id": "R3RI_pw-jBSw",
        "outputId": "a362c178-6adb-4ead-bf09-383e34948014"
      },
      "execution_count": null,
      "outputs": [
        {
          "output_type": "execute_result",
          "data": {
            "text/plain": [
              "(count    4244.000000\n",
              " mean        1.770686\n",
              " std         0.807751\n",
              " min         0.000000\n",
              " 25%         1.665789\n",
              " 50%         2.000000\n",
              " 75%         2.238571\n",
              " max         8.000000\n",
              " Name: GPA_1, dtype: float64,\n",
              " count    4244.000000\n",
              " mean        1.693522\n",
              " std         0.875114\n",
              " min         0.000000\n",
              " 25%         1.527778\n",
              " 50%         1.924682\n",
              " 75%         2.233333\n",
              " max        12.500000\n",
              " Name: GPA_2, dtype: float64)"
            ]
          },
          "metadata": {},
          "execution_count": 5
        }
      ]
    },
    {
      "cell_type": "markdown",
      "source": [
        "# New Discovery -- data might not be clean enough?"
      ],
      "metadata": {
        "id": "c-OH6boZukhU"
      }
    },
    {
      "cell_type": "code",
      "source": [
        "df_enrolled = df[df['Target']=='Enrolled']\n",
        "df_graduate = df[df['Target']=='Graduate']\n",
        "df_dropout = df[df['Target']=='Dropout']\n",
        "# subsetting our df by each of the three targets"
      ],
      "metadata": {
        "id": "S6e2hgRmSTyz"
      },
      "execution_count": null,
      "outputs": []
    },
    {
      "cell_type": "code",
      "source": [
        "df_graduate['GPA_1'].describe(), df_graduate['GPA_2'].describe()\n",
        "# somehow we have a min of 0 in our graduates df.  Interesting."
      ],
      "metadata": {
        "colab": {
          "base_uri": "https://localhost:8080/"
        },
        "id": "qaNSznaAkw4n",
        "outputId": "9b805888-62e7-4492-81f4-6ea697d643e8"
      },
      "execution_count": null,
      "outputs": [
        {
          "output_type": "execute_result",
          "data": {
            "text/plain": [
              "(count    2134.000000\n",
              " mean        2.028974\n",
              " std         0.480365\n",
              " min         0.000000\n",
              " 25%         1.816486\n",
              " 50%         2.055556\n",
              " 75%         2.305556\n",
              " max         8.000000\n",
              " Name: GPA_1, dtype: float64,\n",
              " count    2134.000000\n",
              " mean        2.020506\n",
              " std         0.436453\n",
              " min         0.586957\n",
              " 25%         1.763398\n",
              " 50%         2.039456\n",
              " 75%         2.300000\n",
              " max         3.875000\n",
              " Name: GPA_2, dtype: float64)"
            ]
          },
          "metadata": {},
          "execution_count": 7
        }
      ]
    },
    {
      "cell_type": "code",
      "source": [
        "df_dropout['GPA_1'].describe(), df_dropout['GPA_2'].describe()"
      ],
      "metadata": {
        "colab": {
          "base_uri": "https://localhost:8080/"
        },
        "id": "Zrwwb-GelCtu",
        "outputId": "81832d1b-c065-4eb7-974e-68e91ade2ee5"
      },
      "execution_count": null,
      "outputs": [
        {
          "output_type": "execute_result",
          "data": {
            "text/plain": [
              "(count    1344.000000\n",
              " mean        1.265074\n",
              " std         1.044929\n",
              " min         0.000000\n",
              " 25%         0.000000\n",
              " 50%         1.750000\n",
              " 75%         2.083333\n",
              " max         6.250000\n",
              " Name: GPA_1, dtype: float64,\n",
              " count    1344.000000\n",
              " mean        1.033990\n",
              " std         1.126700\n",
              " min         0.000000\n",
              " 25%         0.000000\n",
              " 50%         0.940609\n",
              " 75%         2.000000\n",
              " max        12.500000\n",
              " Name: GPA_2, dtype: float64)"
            ]
          },
          "metadata": {},
          "execution_count": 8
        }
      ]
    },
    {
      "cell_type": "code",
      "source": [
        "sum(df_graduate['GPA_1'] == 0.00), sum(df_graduate['GPA_2'] == 0.00)\n",
        "# this is a bit deceiving\n",
        "# our GPA metric divides \"grade\" by the number of enrolled credits\n",
        "# but we have 70-some students who got a 0 grade in semester 1 and semester 2.\n",
        "# But they also enrolled in 0 credits!  can't divide by 0 !!!\n"
      ],
      "metadata": {
        "colab": {
          "base_uri": "https://localhost:8080/"
        },
        "id": "aIkzRoBalU9V",
        "outputId": "eadc8b19-92ab-49fd-fd55-6e7bb24218b7"
      },
      "execution_count": null,
      "outputs": [
        {
          "output_type": "execute_result",
          "data": {
            "text/plain": [
              "(2, 0)"
            ]
          },
          "metadata": {},
          "execution_count": 9
        }
      ]
    },
    {
      "cell_type": "code",
      "source": [
        "df_graduate.loc[df_graduate['Curricular units 1st sem (grade)'] == 0.00, 'Curricular units 1st sem (enrolled)'].value_counts()\n",
        "# so 2 students actually enrolled in credit classes and still had a GPA of 0\n",
        "# but 75 students had a grade of 0 without having enrolled in any classes.  This could be an error.\n",
        "# we could reclassify them as 'dropout'.  But we could also just delete them entirely.  They never showed up?"
      ],
      "metadata": {
        "colab": {
          "base_uri": "https://localhost:8080/",
          "height": 178
        },
        "id": "tyShrIZCp630",
        "outputId": "c9d8e6e6-ee00-4d9d-e7f1-f2033202e452"
      },
      "execution_count": null,
      "outputs": [
        {
          "output_type": "execute_result",
          "data": {
            "text/plain": [
              "Curricular units 1st sem (enrolled)\n",
              "0    75\n",
              "5     2\n",
              "Name: count, dtype: int64"
            ],
            "text/html": [
              "<div>\n",
              "<style scoped>\n",
              "    .dataframe tbody tr th:only-of-type {\n",
              "        vertical-align: middle;\n",
              "    }\n",
              "\n",
              "    .dataframe tbody tr th {\n",
              "        vertical-align: top;\n",
              "    }\n",
              "\n",
              "    .dataframe thead th {\n",
              "        text-align: right;\n",
              "    }\n",
              "</style>\n",
              "<table border=\"1\" class=\"dataframe\">\n",
              "  <thead>\n",
              "    <tr style=\"text-align: right;\">\n",
              "      <th></th>\n",
              "      <th>count</th>\n",
              "    </tr>\n",
              "    <tr>\n",
              "      <th>Curricular units 1st sem (enrolled)</th>\n",
              "      <th></th>\n",
              "    </tr>\n",
              "  </thead>\n",
              "  <tbody>\n",
              "    <tr>\n",
              "      <th>0</th>\n",
              "      <td>75</td>\n",
              "    </tr>\n",
              "    <tr>\n",
              "      <th>5</th>\n",
              "      <td>2</td>\n",
              "    </tr>\n",
              "  </tbody>\n",
              "</table>\n",
              "</div><br><label><b>dtype:</b> int64</label>"
            ]
          },
          "metadata": {},
          "execution_count": 10
        }
      ]
    },
    {
      "cell_type": "code",
      "source": [
        "df_graduate.loc[df_graduate['Curricular units 2nd sem (grade)'] == 0.00, 'Curricular units 2nd sem (enrolled)'].value_counts()"
      ],
      "metadata": {
        "colab": {
          "base_uri": "https://localhost:8080/",
          "height": 147
        },
        "id": "7uPFPIGYtXnx",
        "outputId": "a713119f-08cd-4bf9-f529-f228fe38ab91"
      },
      "execution_count": null,
      "outputs": [
        {
          "output_type": "execute_result",
          "data": {
            "text/plain": [
              "Curricular units 2nd sem (enrolled)\n",
              "0    75\n",
              "Name: count, dtype: int64"
            ],
            "text/html": [
              "<div>\n",
              "<style scoped>\n",
              "    .dataframe tbody tr th:only-of-type {\n",
              "        vertical-align: middle;\n",
              "    }\n",
              "\n",
              "    .dataframe tbody tr th {\n",
              "        vertical-align: top;\n",
              "    }\n",
              "\n",
              "    .dataframe thead th {\n",
              "        text-align: right;\n",
              "    }\n",
              "</style>\n",
              "<table border=\"1\" class=\"dataframe\">\n",
              "  <thead>\n",
              "    <tr style=\"text-align: right;\">\n",
              "      <th></th>\n",
              "      <th>count</th>\n",
              "    </tr>\n",
              "    <tr>\n",
              "      <th>Curricular units 2nd sem (enrolled)</th>\n",
              "      <th></th>\n",
              "    </tr>\n",
              "  </thead>\n",
              "  <tbody>\n",
              "    <tr>\n",
              "      <th>0</th>\n",
              "      <td>75</td>\n",
              "    </tr>\n",
              "  </tbody>\n",
              "</table>\n",
              "</div><br><label><b>dtype:</b> int64</label>"
            ]
          },
          "metadata": {},
          "execution_count": 11
        }
      ]
    },
    {
      "cell_type": "code",
      "source": [
        "df_graduate.loc[df_graduate['Curricular units 1st sem (grade)'] == 0.00].shape, df_graduate.loc[df_graduate['Curricular units 2nd sem (grade)'] == 0.00].shape"
      ],
      "metadata": {
        "colab": {
          "base_uri": "https://localhost:8080/"
        },
        "id": "jBnr1BcvmTKO",
        "outputId": "ca6f62f7-9943-4ad1-beb5-b728a97e91c9"
      },
      "execution_count": null,
      "outputs": [
        {
          "output_type": "execute_result",
          "data": {
            "text/plain": [
              "((77, 37), (75, 37))"
            ]
          },
          "metadata": {},
          "execution_count": 12
        }
      ]
    },
    {
      "cell_type": "code",
      "source": [
        "df_sem_1_grade_zero=df_graduate.loc[df_graduate['Curricular units 1st sem (grade)']==0.00]\n",
        "g1_zeros = df_sem_1_grade_zero.index.tolist()\n",
        "df_sem_2_grade_zero=df_graduate.loc[df_graduate['Curricular units 2nd sem (grade)']==0.00]\n",
        "g2_zeros = df_sem_2_grade_zero.index.tolist()"
      ],
      "metadata": {
        "id": "PNTrpoprW-aM"
      },
      "execution_count": null,
      "outputs": []
    },
    {
      "cell_type": "code",
      "source": [
        "len(g1_zeros), len(g2_zeros)"
      ],
      "metadata": {
        "colab": {
          "base_uri": "https://localhost:8080/"
        },
        "id": "CV2hleOiCtk1",
        "outputId": "3059c9d8-5dbc-4348-fd5b-8e9c8c0f7f95"
      },
      "execution_count": null,
      "outputs": [
        {
          "output_type": "execute_result",
          "data": {
            "text/plain": [
              "(77, 75)"
            ]
          },
          "metadata": {},
          "execution_count": 15
        }
      ]
    },
    {
      "cell_type": "markdown",
      "source": [
        "the above means there are possible differences in which students got zeroes for the first semester, versus the second semester."
      ],
      "metadata": {
        "id": "PLImuEHxciXP"
      }
    },
    {
      "cell_type": "code",
      "source": [
        "for i in g2_zeros:\n",
        "    if i not in g1_zeros:\n",
        "        print(i)"
      ],
      "metadata": {
        "id": "zQhQkCcGCthS"
      },
      "execution_count": null,
      "outputs": []
    },
    {
      "cell_type": "markdown",
      "source": [
        "There are no such students -- all the students who got zeros in semester 2 also got zeros in semester 1.  This is an argument for re-labelling those 75 students as 'dropout'."
      ],
      "metadata": {
        "id": "uL-YqnZDc5xf"
      }
    },
    {
      "cell_type": "code",
      "source": [
        "for i in g1_zeros:\n",
        "    if i not in g2_zeros:\n",
        "        print(i)"
      ],
      "metadata": {
        "colab": {
          "base_uri": "https://localhost:8080/"
        },
        "id": "Kp2mG5iuDpFf",
        "outputId": "9bba8636-3d1c-4f7e-a76f-669d70f860bd"
      },
      "execution_count": null,
      "outputs": [
        {
          "output_type": "stream",
          "name": "stdout",
          "text": [
            "1686\n",
            "3747\n"
          ]
        }
      ]
    },
    {
      "cell_type": "markdown",
      "source": [
        "This means there are exactly two students who got zeroes in semester one and then got a non-zero grade in semester 2.  Bully for them!  Let's see just those 2 students..."
      ],
      "metadata": {
        "id": "084qJuRcdVeS"
      }
    },
    {
      "cell_type": "code",
      "source": [
        "df.loc[[1686, 3747]]"
      ],
      "metadata": {
        "colab": {
          "base_uri": "https://localhost:8080/",
          "height": 213
        },
        "id": "8SxdFHyMCtZ6",
        "outputId": "8e133304-5dec-46e0-f784-d364153254a3"
      },
      "execution_count": null,
      "outputs": [
        {
          "output_type": "execute_result",
          "data": {
            "text/plain": [
              "      Marital status  Application mode  Application order  Course  \\\n",
              "1686               1                 8                  3       6   \n",
              "3747               1                14                  1       8   \n",
              "\n",
              "      Daytime/evening attendance  Previous qualification  Nacionality  \\\n",
              "1686                           1                       1            1   \n",
              "3747                           1                       1            1   \n",
              "\n",
              "      Mother's qualification  Father's qualification  Mother's occupation  \\\n",
              "1686                      23                       1                   10   \n",
              "3747                      24                       3                    4   \n",
              "\n",
              "      ...  Curricular units 2nd sem (evaluations)  \\\n",
              "1686  ...                                      10   \n",
              "3747  ...                                       6   \n",
              "\n",
              "      Curricular units 2nd sem (approved)  Curricular units 2nd sem (grade)  \\\n",
              "1686                                    5                         12.285714   \n",
              "3747                                    4                         13.750000   \n",
              "\n",
              "      Curricular units 2nd sem (without evaluations)  Unemployment rate  \\\n",
              "1686                                               1               10.8   \n",
              "3747                                               1               10.8   \n",
              "\n",
              "      Inflation rate   GDP    Target  GPA_1     GPA_2  \n",
              "1686             1.4  1.74  Graduate    0.0  2.457143  \n",
              "3747             1.4  1.74  Graduate    0.0  2.750000  \n",
              "\n",
              "[2 rows x 37 columns]"
            ],
            "text/html": [
              "\n",
              "  <div id=\"df-44cbad0d-165f-49e9-8d00-2a730a5e17e5\" class=\"colab-df-container\">\n",
              "    <div>\n",
              "<style scoped>\n",
              "    .dataframe tbody tr th:only-of-type {\n",
              "        vertical-align: middle;\n",
              "    }\n",
              "\n",
              "    .dataframe tbody tr th {\n",
              "        vertical-align: top;\n",
              "    }\n",
              "\n",
              "    .dataframe thead th {\n",
              "        text-align: right;\n",
              "    }\n",
              "</style>\n",
              "<table border=\"1\" class=\"dataframe\">\n",
              "  <thead>\n",
              "    <tr style=\"text-align: right;\">\n",
              "      <th></th>\n",
              "      <th>Marital status</th>\n",
              "      <th>Application mode</th>\n",
              "      <th>Application order</th>\n",
              "      <th>Course</th>\n",
              "      <th>Daytime/evening attendance</th>\n",
              "      <th>Previous qualification</th>\n",
              "      <th>Nacionality</th>\n",
              "      <th>Mother's qualification</th>\n",
              "      <th>Father's qualification</th>\n",
              "      <th>Mother's occupation</th>\n",
              "      <th>...</th>\n",
              "      <th>Curricular units 2nd sem (evaluations)</th>\n",
              "      <th>Curricular units 2nd sem (approved)</th>\n",
              "      <th>Curricular units 2nd sem (grade)</th>\n",
              "      <th>Curricular units 2nd sem (without evaluations)</th>\n",
              "      <th>Unemployment rate</th>\n",
              "      <th>Inflation rate</th>\n",
              "      <th>GDP</th>\n",
              "      <th>Target</th>\n",
              "      <th>GPA_1</th>\n",
              "      <th>GPA_2</th>\n",
              "    </tr>\n",
              "  </thead>\n",
              "  <tbody>\n",
              "    <tr>\n",
              "      <th>1686</th>\n",
              "      <td>1</td>\n",
              "      <td>8</td>\n",
              "      <td>3</td>\n",
              "      <td>6</td>\n",
              "      <td>1</td>\n",
              "      <td>1</td>\n",
              "      <td>1</td>\n",
              "      <td>23</td>\n",
              "      <td>1</td>\n",
              "      <td>10</td>\n",
              "      <td>...</td>\n",
              "      <td>10</td>\n",
              "      <td>5</td>\n",
              "      <td>12.285714</td>\n",
              "      <td>1</td>\n",
              "      <td>10.8</td>\n",
              "      <td>1.4</td>\n",
              "      <td>1.74</td>\n",
              "      <td>Graduate</td>\n",
              "      <td>0.0</td>\n",
              "      <td>2.457143</td>\n",
              "    </tr>\n",
              "    <tr>\n",
              "      <th>3747</th>\n",
              "      <td>1</td>\n",
              "      <td>14</td>\n",
              "      <td>1</td>\n",
              "      <td>8</td>\n",
              "      <td>1</td>\n",
              "      <td>1</td>\n",
              "      <td>1</td>\n",
              "      <td>24</td>\n",
              "      <td>3</td>\n",
              "      <td>4</td>\n",
              "      <td>...</td>\n",
              "      <td>6</td>\n",
              "      <td>4</td>\n",
              "      <td>13.750000</td>\n",
              "      <td>1</td>\n",
              "      <td>10.8</td>\n",
              "      <td>1.4</td>\n",
              "      <td>1.74</td>\n",
              "      <td>Graduate</td>\n",
              "      <td>0.0</td>\n",
              "      <td>2.750000</td>\n",
              "    </tr>\n",
              "  </tbody>\n",
              "</table>\n",
              "<p>2 rows × 37 columns</p>\n",
              "</div>\n",
              "    <div class=\"colab-df-buttons\">\n",
              "\n",
              "  <div class=\"colab-df-container\">\n",
              "    <button class=\"colab-df-convert\" onclick=\"convertToInteractive('df-44cbad0d-165f-49e9-8d00-2a730a5e17e5')\"\n",
              "            title=\"Convert this dataframe to an interactive table.\"\n",
              "            style=\"display:none;\">\n",
              "\n",
              "  <svg xmlns=\"http://www.w3.org/2000/svg\" height=\"24px\" viewBox=\"0 -960 960 960\">\n",
              "    <path d=\"M120-120v-720h720v720H120Zm60-500h600v-160H180v160Zm220 220h160v-160H400v160Zm0 220h160v-160H400v160ZM180-400h160v-160H180v160Zm440 0h160v-160H620v160ZM180-180h160v-160H180v160Zm440 0h160v-160H620v160Z\"/>\n",
              "  </svg>\n",
              "    </button>\n",
              "\n",
              "  <style>\n",
              "    .colab-df-container {\n",
              "      display:flex;\n",
              "      gap: 12px;\n",
              "    }\n",
              "\n",
              "    .colab-df-convert {\n",
              "      background-color: #E8F0FE;\n",
              "      border: none;\n",
              "      border-radius: 50%;\n",
              "      cursor: pointer;\n",
              "      display: none;\n",
              "      fill: #1967D2;\n",
              "      height: 32px;\n",
              "      padding: 0 0 0 0;\n",
              "      width: 32px;\n",
              "    }\n",
              "\n",
              "    .colab-df-convert:hover {\n",
              "      background-color: #E2EBFA;\n",
              "      box-shadow: 0px 1px 2px rgba(60, 64, 67, 0.3), 0px 1px 3px 1px rgba(60, 64, 67, 0.15);\n",
              "      fill: #174EA6;\n",
              "    }\n",
              "\n",
              "    .colab-df-buttons div {\n",
              "      margin-bottom: 4px;\n",
              "    }\n",
              "\n",
              "    [theme=dark] .colab-df-convert {\n",
              "      background-color: #3B4455;\n",
              "      fill: #D2E3FC;\n",
              "    }\n",
              "\n",
              "    [theme=dark] .colab-df-convert:hover {\n",
              "      background-color: #434B5C;\n",
              "      box-shadow: 0px 1px 3px 1px rgba(0, 0, 0, 0.15);\n",
              "      filter: drop-shadow(0px 1px 2px rgba(0, 0, 0, 0.3));\n",
              "      fill: #FFFFFF;\n",
              "    }\n",
              "  </style>\n",
              "\n",
              "    <script>\n",
              "      const buttonEl =\n",
              "        document.querySelector('#df-44cbad0d-165f-49e9-8d00-2a730a5e17e5 button.colab-df-convert');\n",
              "      buttonEl.style.display =\n",
              "        google.colab.kernel.accessAllowed ? 'block' : 'none';\n",
              "\n",
              "      async function convertToInteractive(key) {\n",
              "        const element = document.querySelector('#df-44cbad0d-165f-49e9-8d00-2a730a5e17e5');\n",
              "        const dataTable =\n",
              "          await google.colab.kernel.invokeFunction('convertToInteractive',\n",
              "                                                    [key], {});\n",
              "        if (!dataTable) return;\n",
              "\n",
              "        const docLinkHtml = 'Like what you see? Visit the ' +\n",
              "          '<a target=\"_blank\" href=https://colab.research.google.com/notebooks/data_table.ipynb>data table notebook</a>'\n",
              "          + ' to learn more about interactive tables.';\n",
              "        element.innerHTML = '';\n",
              "        dataTable['output_type'] = 'display_data';\n",
              "        await google.colab.output.renderOutput(dataTable, element);\n",
              "        const docLink = document.createElement('div');\n",
              "        docLink.innerHTML = docLinkHtml;\n",
              "        element.appendChild(docLink);\n",
              "      }\n",
              "    </script>\n",
              "  </div>\n",
              "\n",
              "\n",
              "<div id=\"df-7e4cf04b-f0e5-4cad-aa0f-6d77809ef81e\">\n",
              "  <button class=\"colab-df-quickchart\" onclick=\"quickchart('df-7e4cf04b-f0e5-4cad-aa0f-6d77809ef81e')\"\n",
              "            title=\"Suggest charts\"\n",
              "            style=\"display:none;\">\n",
              "\n",
              "<svg xmlns=\"http://www.w3.org/2000/svg\" height=\"24px\"viewBox=\"0 0 24 24\"\n",
              "     width=\"24px\">\n",
              "    <g>\n",
              "        <path d=\"M19 3H5c-1.1 0-2 .9-2 2v14c0 1.1.9 2 2 2h14c1.1 0 2-.9 2-2V5c0-1.1-.9-2-2-2zM9 17H7v-7h2v7zm4 0h-2V7h2v10zm4 0h-2v-4h2v4z\"/>\n",
              "    </g>\n",
              "</svg>\n",
              "  </button>\n",
              "\n",
              "<style>\n",
              "  .colab-df-quickchart {\n",
              "      --bg-color: #E8F0FE;\n",
              "      --fill-color: #1967D2;\n",
              "      --hover-bg-color: #E2EBFA;\n",
              "      --hover-fill-color: #174EA6;\n",
              "      --disabled-fill-color: #AAA;\n",
              "      --disabled-bg-color: #DDD;\n",
              "  }\n",
              "\n",
              "  [theme=dark] .colab-df-quickchart {\n",
              "      --bg-color: #3B4455;\n",
              "      --fill-color: #D2E3FC;\n",
              "      --hover-bg-color: #434B5C;\n",
              "      --hover-fill-color: #FFFFFF;\n",
              "      --disabled-bg-color: #3B4455;\n",
              "      --disabled-fill-color: #666;\n",
              "  }\n",
              "\n",
              "  .colab-df-quickchart {\n",
              "    background-color: var(--bg-color);\n",
              "    border: none;\n",
              "    border-radius: 50%;\n",
              "    cursor: pointer;\n",
              "    display: none;\n",
              "    fill: var(--fill-color);\n",
              "    height: 32px;\n",
              "    padding: 0;\n",
              "    width: 32px;\n",
              "  }\n",
              "\n",
              "  .colab-df-quickchart:hover {\n",
              "    background-color: var(--hover-bg-color);\n",
              "    box-shadow: 0 1px 2px rgba(60, 64, 67, 0.3), 0 1px 3px 1px rgba(60, 64, 67, 0.15);\n",
              "    fill: var(--button-hover-fill-color);\n",
              "  }\n",
              "\n",
              "  .colab-df-quickchart-complete:disabled,\n",
              "  .colab-df-quickchart-complete:disabled:hover {\n",
              "    background-color: var(--disabled-bg-color);\n",
              "    fill: var(--disabled-fill-color);\n",
              "    box-shadow: none;\n",
              "  }\n",
              "\n",
              "  .colab-df-spinner {\n",
              "    border: 2px solid var(--fill-color);\n",
              "    border-color: transparent;\n",
              "    border-bottom-color: var(--fill-color);\n",
              "    animation:\n",
              "      spin 1s steps(1) infinite;\n",
              "  }\n",
              "\n",
              "  @keyframes spin {\n",
              "    0% {\n",
              "      border-color: transparent;\n",
              "      border-bottom-color: var(--fill-color);\n",
              "      border-left-color: var(--fill-color);\n",
              "    }\n",
              "    20% {\n",
              "      border-color: transparent;\n",
              "      border-left-color: var(--fill-color);\n",
              "      border-top-color: var(--fill-color);\n",
              "    }\n",
              "    30% {\n",
              "      border-color: transparent;\n",
              "      border-left-color: var(--fill-color);\n",
              "      border-top-color: var(--fill-color);\n",
              "      border-right-color: var(--fill-color);\n",
              "    }\n",
              "    40% {\n",
              "      border-color: transparent;\n",
              "      border-right-color: var(--fill-color);\n",
              "      border-top-color: var(--fill-color);\n",
              "    }\n",
              "    60% {\n",
              "      border-color: transparent;\n",
              "      border-right-color: var(--fill-color);\n",
              "    }\n",
              "    80% {\n",
              "      border-color: transparent;\n",
              "      border-right-color: var(--fill-color);\n",
              "      border-bottom-color: var(--fill-color);\n",
              "    }\n",
              "    90% {\n",
              "      border-color: transparent;\n",
              "      border-bottom-color: var(--fill-color);\n",
              "    }\n",
              "  }\n",
              "</style>\n",
              "\n",
              "  <script>\n",
              "    async function quickchart(key) {\n",
              "      const quickchartButtonEl =\n",
              "        document.querySelector('#' + key + ' button');\n",
              "      quickchartButtonEl.disabled = true;  // To prevent multiple clicks.\n",
              "      quickchartButtonEl.classList.add('colab-df-spinner');\n",
              "      try {\n",
              "        const charts = await google.colab.kernel.invokeFunction(\n",
              "            'suggestCharts', [key], {});\n",
              "      } catch (error) {\n",
              "        console.error('Error during call to suggestCharts:', error);\n",
              "      }\n",
              "      quickchartButtonEl.classList.remove('colab-df-spinner');\n",
              "      quickchartButtonEl.classList.add('colab-df-quickchart-complete');\n",
              "    }\n",
              "    (() => {\n",
              "      let quickchartButtonEl =\n",
              "        document.querySelector('#df-7e4cf04b-f0e5-4cad-aa0f-6d77809ef81e button');\n",
              "      quickchartButtonEl.style.display =\n",
              "        google.colab.kernel.accessAllowed ? 'block' : 'none';\n",
              "    })();\n",
              "  </script>\n",
              "</div>\n",
              "\n",
              "    </div>\n",
              "  </div>\n"
            ],
            "application/vnd.google.colaboratory.intrinsic+json": {
              "type": "dataframe"
            }
          },
          "metadata": {},
          "execution_count": 18
        }
      ]
    },
    {
      "cell_type": "code",
      "source": [
        "curricular_units_cols = [col for col in df.columns if 'Curricular' in col]\n",
        "curricular_units_cols, len(curricular_units_cols)\n",
        "additional_cols = ['Debtor', 'Displaced', 'Tuition fees up to date', 'Scholarship holder', 'Age at enrollment']\n",
        "curricular_units_cols.extend(additional_cols)\n",
        "curricular_units_cols"
      ],
      "metadata": {
        "colab": {
          "base_uri": "https://localhost:8080/"
        },
        "collapsed": true,
        "id": "NGQnEPXrebq6",
        "outputId": "bb3a986d-4e6d-436e-a3b4-fc31f4ac317b"
      },
      "execution_count": null,
      "outputs": [
        {
          "output_type": "execute_result",
          "data": {
            "text/plain": [
              "['Curricular units 1st sem (credited)',\n",
              " 'Curricular units 1st sem (enrolled)',\n",
              " 'Curricular units 1st sem (evaluations)',\n",
              " 'Curricular units 1st sem (approved)',\n",
              " 'Curricular units 1st sem (grade)',\n",
              " 'Curricular units 1st sem (without evaluations)',\n",
              " 'Curricular units 2nd sem (credited)',\n",
              " 'Curricular units 2nd sem (enrolled)',\n",
              " 'Curricular units 2nd sem (evaluations)',\n",
              " 'Curricular units 2nd sem (approved)',\n",
              " 'Curricular units 2nd sem (grade)',\n",
              " 'Curricular units 2nd sem (without evaluations)',\n",
              " 'Debtor',\n",
              " 'Displaced',\n",
              " 'Tuition fees up to date',\n",
              " 'Scholarship holder',\n",
              " 'Age at enrollment']"
            ]
          },
          "metadata": {},
          "execution_count": 19
        }
      ]
    },
    {
      "cell_type": "code",
      "source": [
        "df.loc[[1686, 3747], curricular_units_cols]"
      ],
      "metadata": {
        "colab": {
          "base_uri": "https://localhost:8080/",
          "height": 184
        },
        "id": "nM--Ng5Hebna",
        "outputId": "56bf9470-f620-4f2e-84f7-e077a88c2afb"
      },
      "execution_count": null,
      "outputs": [
        {
          "output_type": "execute_result",
          "data": {
            "text/plain": [
              "      Curricular units 1st sem (credited)  \\\n",
              "1686                                    0   \n",
              "3747                                    0   \n",
              "\n",
              "      Curricular units 1st sem (enrolled)  \\\n",
              "1686                                    5   \n",
              "3747                                    5   \n",
              "\n",
              "      Curricular units 1st sem (evaluations)  \\\n",
              "1686                                      11   \n",
              "3747                                       6   \n",
              "\n",
              "      Curricular units 1st sem (approved)  Curricular units 1st sem (grade)  \\\n",
              "1686                                    0                               0.0   \n",
              "3747                                    0                               0.0   \n",
              "\n",
              "      Curricular units 1st sem (without evaluations)  \\\n",
              "1686                                               0   \n",
              "3747                                               5   \n",
              "\n",
              "      Curricular units 2nd sem (credited)  \\\n",
              "1686                                    0   \n",
              "3747                                    0   \n",
              "\n",
              "      Curricular units 2nd sem (enrolled)  \\\n",
              "1686                                    5   \n",
              "3747                                    5   \n",
              "\n",
              "      Curricular units 2nd sem (evaluations)  \\\n",
              "1686                                      10   \n",
              "3747                                       6   \n",
              "\n",
              "      Curricular units 2nd sem (approved)  Curricular units 2nd sem (grade)  \\\n",
              "1686                                    5                         12.285714   \n",
              "3747                                    4                         13.750000   \n",
              "\n",
              "      Curricular units 2nd sem (without evaluations)  Debtor  Displaced  \\\n",
              "1686                                               1       0          1   \n",
              "3747                                               1       0          1   \n",
              "\n",
              "      Tuition fees up to date  Scholarship holder  Age at enrollment  \n",
              "1686                        1                   0                 21  \n",
              "3747                        1                   0                 21  "
            ],
            "text/html": [
              "\n",
              "  <div id=\"df-4df83f28-5496-4ed0-9423-39dec5830f59\" class=\"colab-df-container\">\n",
              "    <div>\n",
              "<style scoped>\n",
              "    .dataframe tbody tr th:only-of-type {\n",
              "        vertical-align: middle;\n",
              "    }\n",
              "\n",
              "    .dataframe tbody tr th {\n",
              "        vertical-align: top;\n",
              "    }\n",
              "\n",
              "    .dataframe thead th {\n",
              "        text-align: right;\n",
              "    }\n",
              "</style>\n",
              "<table border=\"1\" class=\"dataframe\">\n",
              "  <thead>\n",
              "    <tr style=\"text-align: right;\">\n",
              "      <th></th>\n",
              "      <th>Curricular units 1st sem (credited)</th>\n",
              "      <th>Curricular units 1st sem (enrolled)</th>\n",
              "      <th>Curricular units 1st sem (evaluations)</th>\n",
              "      <th>Curricular units 1st sem (approved)</th>\n",
              "      <th>Curricular units 1st sem (grade)</th>\n",
              "      <th>Curricular units 1st sem (without evaluations)</th>\n",
              "      <th>Curricular units 2nd sem (credited)</th>\n",
              "      <th>Curricular units 2nd sem (enrolled)</th>\n",
              "      <th>Curricular units 2nd sem (evaluations)</th>\n",
              "      <th>Curricular units 2nd sem (approved)</th>\n",
              "      <th>Curricular units 2nd sem (grade)</th>\n",
              "      <th>Curricular units 2nd sem (without evaluations)</th>\n",
              "      <th>Debtor</th>\n",
              "      <th>Displaced</th>\n",
              "      <th>Tuition fees up to date</th>\n",
              "      <th>Scholarship holder</th>\n",
              "      <th>Age at enrollment</th>\n",
              "    </tr>\n",
              "  </thead>\n",
              "  <tbody>\n",
              "    <tr>\n",
              "      <th>1686</th>\n",
              "      <td>0</td>\n",
              "      <td>5</td>\n",
              "      <td>11</td>\n",
              "      <td>0</td>\n",
              "      <td>0.0</td>\n",
              "      <td>0</td>\n",
              "      <td>0</td>\n",
              "      <td>5</td>\n",
              "      <td>10</td>\n",
              "      <td>5</td>\n",
              "      <td>12.285714</td>\n",
              "      <td>1</td>\n",
              "      <td>0</td>\n",
              "      <td>1</td>\n",
              "      <td>1</td>\n",
              "      <td>0</td>\n",
              "      <td>21</td>\n",
              "    </tr>\n",
              "    <tr>\n",
              "      <th>3747</th>\n",
              "      <td>0</td>\n",
              "      <td>5</td>\n",
              "      <td>6</td>\n",
              "      <td>0</td>\n",
              "      <td>0.0</td>\n",
              "      <td>5</td>\n",
              "      <td>0</td>\n",
              "      <td>5</td>\n",
              "      <td>6</td>\n",
              "      <td>4</td>\n",
              "      <td>13.750000</td>\n",
              "      <td>1</td>\n",
              "      <td>0</td>\n",
              "      <td>1</td>\n",
              "      <td>1</td>\n",
              "      <td>0</td>\n",
              "      <td>21</td>\n",
              "    </tr>\n",
              "  </tbody>\n",
              "</table>\n",
              "</div>\n",
              "    <div class=\"colab-df-buttons\">\n",
              "\n",
              "  <div class=\"colab-df-container\">\n",
              "    <button class=\"colab-df-convert\" onclick=\"convertToInteractive('df-4df83f28-5496-4ed0-9423-39dec5830f59')\"\n",
              "            title=\"Convert this dataframe to an interactive table.\"\n",
              "            style=\"display:none;\">\n",
              "\n",
              "  <svg xmlns=\"http://www.w3.org/2000/svg\" height=\"24px\" viewBox=\"0 -960 960 960\">\n",
              "    <path d=\"M120-120v-720h720v720H120Zm60-500h600v-160H180v160Zm220 220h160v-160H400v160Zm0 220h160v-160H400v160ZM180-400h160v-160H180v160Zm440 0h160v-160H620v160ZM180-180h160v-160H180v160Zm440 0h160v-160H620v160Z\"/>\n",
              "  </svg>\n",
              "    </button>\n",
              "\n",
              "  <style>\n",
              "    .colab-df-container {\n",
              "      display:flex;\n",
              "      gap: 12px;\n",
              "    }\n",
              "\n",
              "    .colab-df-convert {\n",
              "      background-color: #E8F0FE;\n",
              "      border: none;\n",
              "      border-radius: 50%;\n",
              "      cursor: pointer;\n",
              "      display: none;\n",
              "      fill: #1967D2;\n",
              "      height: 32px;\n",
              "      padding: 0 0 0 0;\n",
              "      width: 32px;\n",
              "    }\n",
              "\n",
              "    .colab-df-convert:hover {\n",
              "      background-color: #E2EBFA;\n",
              "      box-shadow: 0px 1px 2px rgba(60, 64, 67, 0.3), 0px 1px 3px 1px rgba(60, 64, 67, 0.15);\n",
              "      fill: #174EA6;\n",
              "    }\n",
              "\n",
              "    .colab-df-buttons div {\n",
              "      margin-bottom: 4px;\n",
              "    }\n",
              "\n",
              "    [theme=dark] .colab-df-convert {\n",
              "      background-color: #3B4455;\n",
              "      fill: #D2E3FC;\n",
              "    }\n",
              "\n",
              "    [theme=dark] .colab-df-convert:hover {\n",
              "      background-color: #434B5C;\n",
              "      box-shadow: 0px 1px 3px 1px rgba(0, 0, 0, 0.15);\n",
              "      filter: drop-shadow(0px 1px 2px rgba(0, 0, 0, 0.3));\n",
              "      fill: #FFFFFF;\n",
              "    }\n",
              "  </style>\n",
              "\n",
              "    <script>\n",
              "      const buttonEl =\n",
              "        document.querySelector('#df-4df83f28-5496-4ed0-9423-39dec5830f59 button.colab-df-convert');\n",
              "      buttonEl.style.display =\n",
              "        google.colab.kernel.accessAllowed ? 'block' : 'none';\n",
              "\n",
              "      async function convertToInteractive(key) {\n",
              "        const element = document.querySelector('#df-4df83f28-5496-4ed0-9423-39dec5830f59');\n",
              "        const dataTable =\n",
              "          await google.colab.kernel.invokeFunction('convertToInteractive',\n",
              "                                                    [key], {});\n",
              "        if (!dataTable) return;\n",
              "\n",
              "        const docLinkHtml = 'Like what you see? Visit the ' +\n",
              "          '<a target=\"_blank\" href=https://colab.research.google.com/notebooks/data_table.ipynb>data table notebook</a>'\n",
              "          + ' to learn more about interactive tables.';\n",
              "        element.innerHTML = '';\n",
              "        dataTable['output_type'] = 'display_data';\n",
              "        await google.colab.output.renderOutput(dataTable, element);\n",
              "        const docLink = document.createElement('div');\n",
              "        docLink.innerHTML = docLinkHtml;\n",
              "        element.appendChild(docLink);\n",
              "      }\n",
              "    </script>\n",
              "  </div>\n",
              "\n",
              "\n",
              "<div id=\"df-529582d7-4005-40c2-8a86-af51718c0462\">\n",
              "  <button class=\"colab-df-quickchart\" onclick=\"quickchart('df-529582d7-4005-40c2-8a86-af51718c0462')\"\n",
              "            title=\"Suggest charts\"\n",
              "            style=\"display:none;\">\n",
              "\n",
              "<svg xmlns=\"http://www.w3.org/2000/svg\" height=\"24px\"viewBox=\"0 0 24 24\"\n",
              "     width=\"24px\">\n",
              "    <g>\n",
              "        <path d=\"M19 3H5c-1.1 0-2 .9-2 2v14c0 1.1.9 2 2 2h14c1.1 0 2-.9 2-2V5c0-1.1-.9-2-2-2zM9 17H7v-7h2v7zm4 0h-2V7h2v10zm4 0h-2v-4h2v4z\"/>\n",
              "    </g>\n",
              "</svg>\n",
              "  </button>\n",
              "\n",
              "<style>\n",
              "  .colab-df-quickchart {\n",
              "      --bg-color: #E8F0FE;\n",
              "      --fill-color: #1967D2;\n",
              "      --hover-bg-color: #E2EBFA;\n",
              "      --hover-fill-color: #174EA6;\n",
              "      --disabled-fill-color: #AAA;\n",
              "      --disabled-bg-color: #DDD;\n",
              "  }\n",
              "\n",
              "  [theme=dark] .colab-df-quickchart {\n",
              "      --bg-color: #3B4455;\n",
              "      --fill-color: #D2E3FC;\n",
              "      --hover-bg-color: #434B5C;\n",
              "      --hover-fill-color: #FFFFFF;\n",
              "      --disabled-bg-color: #3B4455;\n",
              "      --disabled-fill-color: #666;\n",
              "  }\n",
              "\n",
              "  .colab-df-quickchart {\n",
              "    background-color: var(--bg-color);\n",
              "    border: none;\n",
              "    border-radius: 50%;\n",
              "    cursor: pointer;\n",
              "    display: none;\n",
              "    fill: var(--fill-color);\n",
              "    height: 32px;\n",
              "    padding: 0;\n",
              "    width: 32px;\n",
              "  }\n",
              "\n",
              "  .colab-df-quickchart:hover {\n",
              "    background-color: var(--hover-bg-color);\n",
              "    box-shadow: 0 1px 2px rgba(60, 64, 67, 0.3), 0 1px 3px 1px rgba(60, 64, 67, 0.15);\n",
              "    fill: var(--button-hover-fill-color);\n",
              "  }\n",
              "\n",
              "  .colab-df-quickchart-complete:disabled,\n",
              "  .colab-df-quickchart-complete:disabled:hover {\n",
              "    background-color: var(--disabled-bg-color);\n",
              "    fill: var(--disabled-fill-color);\n",
              "    box-shadow: none;\n",
              "  }\n",
              "\n",
              "  .colab-df-spinner {\n",
              "    border: 2px solid var(--fill-color);\n",
              "    border-color: transparent;\n",
              "    border-bottom-color: var(--fill-color);\n",
              "    animation:\n",
              "      spin 1s steps(1) infinite;\n",
              "  }\n",
              "\n",
              "  @keyframes spin {\n",
              "    0% {\n",
              "      border-color: transparent;\n",
              "      border-bottom-color: var(--fill-color);\n",
              "      border-left-color: var(--fill-color);\n",
              "    }\n",
              "    20% {\n",
              "      border-color: transparent;\n",
              "      border-left-color: var(--fill-color);\n",
              "      border-top-color: var(--fill-color);\n",
              "    }\n",
              "    30% {\n",
              "      border-color: transparent;\n",
              "      border-left-color: var(--fill-color);\n",
              "      border-top-color: var(--fill-color);\n",
              "      border-right-color: var(--fill-color);\n",
              "    }\n",
              "    40% {\n",
              "      border-color: transparent;\n",
              "      border-right-color: var(--fill-color);\n",
              "      border-top-color: var(--fill-color);\n",
              "    }\n",
              "    60% {\n",
              "      border-color: transparent;\n",
              "      border-right-color: var(--fill-color);\n",
              "    }\n",
              "    80% {\n",
              "      border-color: transparent;\n",
              "      border-right-color: var(--fill-color);\n",
              "      border-bottom-color: var(--fill-color);\n",
              "    }\n",
              "    90% {\n",
              "      border-color: transparent;\n",
              "      border-bottom-color: var(--fill-color);\n",
              "    }\n",
              "  }\n",
              "</style>\n",
              "\n",
              "  <script>\n",
              "    async function quickchart(key) {\n",
              "      const quickchartButtonEl =\n",
              "        document.querySelector('#' + key + ' button');\n",
              "      quickchartButtonEl.disabled = true;  // To prevent multiple clicks.\n",
              "      quickchartButtonEl.classList.add('colab-df-spinner');\n",
              "      try {\n",
              "        const charts = await google.colab.kernel.invokeFunction(\n",
              "            'suggestCharts', [key], {});\n",
              "      } catch (error) {\n",
              "        console.error('Error during call to suggestCharts:', error);\n",
              "      }\n",
              "      quickchartButtonEl.classList.remove('colab-df-spinner');\n",
              "      quickchartButtonEl.classList.add('colab-df-quickchart-complete');\n",
              "    }\n",
              "    (() => {\n",
              "      let quickchartButtonEl =\n",
              "        document.querySelector('#df-529582d7-4005-40c2-8a86-af51718c0462 button');\n",
              "      quickchartButtonEl.style.display =\n",
              "        google.colab.kernel.accessAllowed ? 'block' : 'none';\n",
              "    })();\n",
              "  </script>\n",
              "</div>\n",
              "\n",
              "    </div>\n",
              "  </div>\n"
            ],
            "application/vnd.google.colaboratory.intrinsic+json": {
              "type": "dataframe",
              "summary": "{\n  \"name\": \"df\",\n  \"rows\": 2,\n  \"fields\": [\n    {\n      \"column\": \"Curricular units 1st sem (credited)\",\n      \"properties\": {\n        \"dtype\": \"number\",\n        \"std\": 0,\n        \"min\": 0,\n        \"max\": 0,\n        \"num_unique_values\": 1,\n        \"samples\": [\n          0\n        ],\n        \"semantic_type\": \"\",\n        \"description\": \"\"\n      }\n    },\n    {\n      \"column\": \"Curricular units 1st sem (enrolled)\",\n      \"properties\": {\n        \"dtype\": \"number\",\n        \"std\": 0,\n        \"min\": 5,\n        \"max\": 5,\n        \"num_unique_values\": 1,\n        \"samples\": [\n          5\n        ],\n        \"semantic_type\": \"\",\n        \"description\": \"\"\n      }\n    },\n    {\n      \"column\": \"Curricular units 1st sem (evaluations)\",\n      \"properties\": {\n        \"dtype\": \"number\",\n        \"std\": 3,\n        \"min\": 6,\n        \"max\": 11,\n        \"num_unique_values\": 2,\n        \"samples\": [\n          6\n        ],\n        \"semantic_type\": \"\",\n        \"description\": \"\"\n      }\n    },\n    {\n      \"column\": \"Curricular units 1st sem (approved)\",\n      \"properties\": {\n        \"dtype\": \"number\",\n        \"std\": 0,\n        \"min\": 0,\n        \"max\": 0,\n        \"num_unique_values\": 1,\n        \"samples\": [\n          0\n        ],\n        \"semantic_type\": \"\",\n        \"description\": \"\"\n      }\n    },\n    {\n      \"column\": \"Curricular units 1st sem (grade)\",\n      \"properties\": {\n        \"dtype\": \"number\",\n        \"std\": 0.0,\n        \"min\": 0.0,\n        \"max\": 0.0,\n        \"num_unique_values\": 1,\n        \"samples\": [\n          0.0\n        ],\n        \"semantic_type\": \"\",\n        \"description\": \"\"\n      }\n    },\n    {\n      \"column\": \"Curricular units 1st sem (without evaluations)\",\n      \"properties\": {\n        \"dtype\": \"number\",\n        \"std\": 3,\n        \"min\": 0,\n        \"max\": 5,\n        \"num_unique_values\": 2,\n        \"samples\": [\n          5\n        ],\n        \"semantic_type\": \"\",\n        \"description\": \"\"\n      }\n    },\n    {\n      \"column\": \"Curricular units 2nd sem (credited)\",\n      \"properties\": {\n        \"dtype\": \"number\",\n        \"std\": 0,\n        \"min\": 0,\n        \"max\": 0,\n        \"num_unique_values\": 1,\n        \"samples\": [\n          0\n        ],\n        \"semantic_type\": \"\",\n        \"description\": \"\"\n      }\n    },\n    {\n      \"column\": \"Curricular units 2nd sem (enrolled)\",\n      \"properties\": {\n        \"dtype\": \"number\",\n        \"std\": 0,\n        \"min\": 5,\n        \"max\": 5,\n        \"num_unique_values\": 1,\n        \"samples\": [\n          5\n        ],\n        \"semantic_type\": \"\",\n        \"description\": \"\"\n      }\n    },\n    {\n      \"column\": \"Curricular units 2nd sem (evaluations)\",\n      \"properties\": {\n        \"dtype\": \"number\",\n        \"std\": 2,\n        \"min\": 6,\n        \"max\": 10,\n        \"num_unique_values\": 2,\n        \"samples\": [\n          6\n        ],\n        \"semantic_type\": \"\",\n        \"description\": \"\"\n      }\n    },\n    {\n      \"column\": \"Curricular units 2nd sem (approved)\",\n      \"properties\": {\n        \"dtype\": \"number\",\n        \"std\": 0,\n        \"min\": 4,\n        \"max\": 5,\n        \"num_unique_values\": 2,\n        \"samples\": [\n          4\n        ],\n        \"semantic_type\": \"\",\n        \"description\": \"\"\n      }\n    },\n    {\n      \"column\": \"Curricular units 2nd sem (grade)\",\n      \"properties\": {\n        \"dtype\": \"number\",\n        \"std\": 1.0354063581660153,\n        \"min\": 12.285714285714286,\n        \"max\": 13.75,\n        \"num_unique_values\": 2,\n        \"samples\": [\n          13.75\n        ],\n        \"semantic_type\": \"\",\n        \"description\": \"\"\n      }\n    },\n    {\n      \"column\": \"Curricular units 2nd sem (without evaluations)\",\n      \"properties\": {\n        \"dtype\": \"number\",\n        \"std\": 0,\n        \"min\": 1,\n        \"max\": 1,\n        \"num_unique_values\": 1,\n        \"samples\": [\n          1\n        ],\n        \"semantic_type\": \"\",\n        \"description\": \"\"\n      }\n    },\n    {\n      \"column\": \"Debtor\",\n      \"properties\": {\n        \"dtype\": \"number\",\n        \"std\": 0,\n        \"min\": 0,\n        \"max\": 0,\n        \"num_unique_values\": 1,\n        \"samples\": [\n          0\n        ],\n        \"semantic_type\": \"\",\n        \"description\": \"\"\n      }\n    },\n    {\n      \"column\": \"Displaced\",\n      \"properties\": {\n        \"dtype\": \"number\",\n        \"std\": 0,\n        \"min\": 1,\n        \"max\": 1,\n        \"num_unique_values\": 1,\n        \"samples\": [\n          1\n        ],\n        \"semantic_type\": \"\",\n        \"description\": \"\"\n      }\n    },\n    {\n      \"column\": \"Tuition fees up to date\",\n      \"properties\": {\n        \"dtype\": \"number\",\n        \"std\": 0,\n        \"min\": 1,\n        \"max\": 1,\n        \"num_unique_values\": 1,\n        \"samples\": [\n          1\n        ],\n        \"semantic_type\": \"\",\n        \"description\": \"\"\n      }\n    },\n    {\n      \"column\": \"Scholarship holder\",\n      \"properties\": {\n        \"dtype\": \"number\",\n        \"std\": 0,\n        \"min\": 0,\n        \"max\": 0,\n        \"num_unique_values\": 1,\n        \"samples\": [\n          0\n        ],\n        \"semantic_type\": \"\",\n        \"description\": \"\"\n      }\n    },\n    {\n      \"column\": \"Age at enrollment\",\n      \"properties\": {\n        \"dtype\": \"number\",\n        \"std\": 0,\n        \"min\": 21,\n        \"max\": 21,\n        \"num_unique_values\": 1,\n        \"samples\": [\n          21\n        ],\n        \"semantic_type\": \"\",\n        \"description\": \"\"\n      }\n    }\n  ]\n}"
            }
          },
          "metadata": {},
          "execution_count": 20
        }
      ]
    },
    {
      "cell_type": "code",
      "source": [],
      "metadata": {
        "id": "15IAYC3ttofJ"
      },
      "execution_count": null,
      "outputs": []
    },
    {
      "cell_type": "markdown",
      "source": [
        "# Creating a credits metric"
      ],
      "metadata": {
        "id": "tD0AoSw1uSW7"
      }
    },
    {
      "cell_type": "code",
      "source": [
        "sum(df['Curricular units 1st sem (approved)'] < df['Curricular units 1st sem (enrolled)']), sum(df['Curricular units 2nd sem (approved)'] < df['Curricular units 2nd sem (enrolled)'])\n",
        "# how many students took more credits than they were approved for in semester 1, semester 2\n",
        "# this looks like a decent feature\n",
        "# we might also look to scale it."
      ],
      "metadata": {
        "colab": {
          "base_uri": "https://localhost:8080/"
        },
        "id": "UEkSWov8v4Vr",
        "outputId": "fb24d494-c991-4ea5-e718-4eef8d045b0b"
      },
      "execution_count": null,
      "outputs": [
        {
          "output_type": "execute_result",
          "data": {
            "text/plain": [
              "(2516, 2655)"
            ]
          },
          "metadata": {},
          "execution_count": 21
        }
      ]
    },
    {
      "cell_type": "code",
      "source": [
        "df['credits_over_under_sem_1'] = df['Curricular units 1st sem (approved)'] - df['Curricular units 1st sem (enrolled)']\n",
        "df['credits_over_under_sem_2'] = df['Curricular units 2nd sem (approved)'] - df['Curricular units 2nd sem (enrolled)']\n",
        "df['credits_over_under_sem_1'].describe(), df['credits_over_under_sem_2'].describe()"
      ],
      "metadata": {
        "colab": {
          "base_uri": "https://localhost:8080/"
        },
        "collapsed": true,
        "id": "1jaeobjTffgx",
        "outputId": "03ab1bfa-90ed-4815-f6b0-7ac2004da40e"
      },
      "execution_count": null,
      "outputs": [
        {
          "output_type": "execute_result",
          "data": {
            "text/plain": [
              "(count    4424.000000\n",
              " mean       -1.563969\n",
              " std         1.980227\n",
              " min        -9.000000\n",
              " 25%        -2.000000\n",
              " 50%        -1.000000\n",
              " 75%         0.000000\n",
              " max         0.000000\n",
              " Name: credits_over_under_sem_1, dtype: float64,\n",
              " count    4424.000000\n",
              " mean       -1.796338\n",
              " std         2.144640\n",
              " min        -9.000000\n",
              " 25%        -3.000000\n",
              " 50%        -1.000000\n",
              " 75%         0.000000\n",
              " max         0.000000\n",
              " Name: credits_over_under_sem_2, dtype: float64)"
            ]
          },
          "metadata": {},
          "execution_count": 22
        }
      ]
    },
    {
      "cell_type": "markdown",
      "source": [
        "# Creating a grade improvement feature"
      ],
      "metadata": {
        "id": "XqWmf0T0w4op"
      }
    },
    {
      "cell_type": "code",
      "source": [
        "df['GPA_difference'] = df['GPA_1'] - df['GPA_2']\n",
        "df['GPA_difference'].describe()\n",
        "# the 75 people who have no GPA because of the zero-division issue don't show up here\n",
        "# so we'll get NaN's in GPA_1, GPA_2, and GPA_difference.  Gotta fix that."
      ],
      "metadata": {
        "colab": {
          "base_uri": "https://localhost:8080/",
          "height": 335
        },
        "id": "XSYbYUjqffTt",
        "outputId": "1dac0b2f-08d3-4d34-b548-e4faaaa024fe"
      },
      "execution_count": null,
      "outputs": [
        {
          "output_type": "execute_result",
          "data": {
            "text/plain": [
              "count    4244.000000\n",
              "mean        0.077164\n",
              "std         0.581635\n",
              "min        -9.031250\n",
              "25%        -0.083333\n",
              "50%         0.000000\n",
              "75%         0.138889\n",
              "max         6.250000\n",
              "Name: GPA_difference, dtype: float64"
            ],
            "text/html": [
              "<div>\n",
              "<style scoped>\n",
              "    .dataframe tbody tr th:only-of-type {\n",
              "        vertical-align: middle;\n",
              "    }\n",
              "\n",
              "    .dataframe tbody tr th {\n",
              "        vertical-align: top;\n",
              "    }\n",
              "\n",
              "    .dataframe thead th {\n",
              "        text-align: right;\n",
              "    }\n",
              "</style>\n",
              "<table border=\"1\" class=\"dataframe\">\n",
              "  <thead>\n",
              "    <tr style=\"text-align: right;\">\n",
              "      <th></th>\n",
              "      <th>GPA_difference</th>\n",
              "    </tr>\n",
              "  </thead>\n",
              "  <tbody>\n",
              "    <tr>\n",
              "      <th>count</th>\n",
              "      <td>4244.000000</td>\n",
              "    </tr>\n",
              "    <tr>\n",
              "      <th>mean</th>\n",
              "      <td>0.077164</td>\n",
              "    </tr>\n",
              "    <tr>\n",
              "      <th>std</th>\n",
              "      <td>0.581635</td>\n",
              "    </tr>\n",
              "    <tr>\n",
              "      <th>min</th>\n",
              "      <td>-9.031250</td>\n",
              "    </tr>\n",
              "    <tr>\n",
              "      <th>25%</th>\n",
              "      <td>-0.083333</td>\n",
              "    </tr>\n",
              "    <tr>\n",
              "      <th>50%</th>\n",
              "      <td>0.000000</td>\n",
              "    </tr>\n",
              "    <tr>\n",
              "      <th>75%</th>\n",
              "      <td>0.138889</td>\n",
              "    </tr>\n",
              "    <tr>\n",
              "      <th>max</th>\n",
              "      <td>6.250000</td>\n",
              "    </tr>\n",
              "  </tbody>\n",
              "</table>\n",
              "</div><br><label><b>dtype:</b> float64</label>"
            ]
          },
          "metadata": {},
          "execution_count": 23
        }
      ]
    },
    {
      "cell_type": "markdown",
      "source": [
        "# Taking care of NaN's that my feature engineering introduced"
      ],
      "metadata": {
        "id": "f0Yywxzzu9aS"
      }
    },
    {
      "cell_type": "code",
      "source": [
        "df.loc[df['Curricular units 1st sem (enrolled)']==0]['GPA_1'].fillna(0, inplace=True)\n",
        "df.loc[df['Curricular units 2nd sem (enrolled)']==0]['GPA_2'].fillna(0, inplace=True)\n",
        "# still need to understand why this doesn't work"
      ],
      "metadata": {
        "colab": {
          "base_uri": "https://localhost:8080/"
        },
        "id": "hDBk_wUCfe90",
        "outputId": "f7b72415-77fd-42eb-c391-c3d3ab1b8502"
      },
      "execution_count": null,
      "outputs": [
        {
          "output_type": "stream",
          "name": "stderr",
          "text": [
            "<ipython-input-25-d00d5e6a3178>:1: SettingWithCopyWarning: \n",
            "A value is trying to be set on a copy of a slice from a DataFrame\n",
            "\n",
            "See the caveats in the documentation: https://pandas.pydata.org/pandas-docs/stable/user_guide/indexing.html#returning-a-view-versus-a-copy\n",
            "  df.loc[df['Curricular units 1st sem (enrolled)']==0]['GPA_1'].fillna(0, inplace=True)\n",
            "<ipython-input-25-d00d5e6a3178>:2: SettingWithCopyWarning: \n",
            "A value is trying to be set on a copy of a slice from a DataFrame\n",
            "\n",
            "See the caveats in the documentation: https://pandas.pydata.org/pandas-docs/stable/user_guide/indexing.html#returning-a-view-versus-a-copy\n",
            "  df.loc[df['Curricular units 2nd sem (enrolled)']==0]['GPA_2'].fillna(0, inplace=True)\n"
          ]
        }
      ]
    },
    {
      "cell_type": "code",
      "source": [],
      "metadata": {
        "id": "ns1omQRMieUP"
      },
      "execution_count": null,
      "outputs": []
    },
    {
      "cell_type": "code",
      "source": [
        "df['GPA_1'].fillna(0, inplace=True)\n",
        "df['GPA_2'].fillna(0, inplace=True)\n",
        "df['GPA_difference'].fillna(0, inplace=True)\n",
        "# NaN issues fixed"
      ],
      "metadata": {
        "id": "y44CpM96hsQW"
      },
      "execution_count": null,
      "outputs": []
    },
    {
      "cell_type": "code",
      "source": [
        "df.isna().sum()"
      ],
      "metadata": {
        "colab": {
          "base_uri": "https://localhost:8080/",
          "height": 1000
        },
        "collapsed": true,
        "id": "QhkvtFdil8ja",
        "outputId": "915189d3-a701-40eb-9fb6-81b61fe5f791"
      },
      "execution_count": null,
      "outputs": [
        {
          "output_type": "execute_result",
          "data": {
            "text/plain": [
              "Marital status                                    0\n",
              "Application mode                                  0\n",
              "Application order                                 0\n",
              "Course                                            0\n",
              "Daytime/evening attendance                        0\n",
              "Previous qualification                            0\n",
              "Nacionality                                       0\n",
              "Mother's qualification                            0\n",
              "Father's qualification                            0\n",
              "Mother's occupation                               0\n",
              "Father's occupation                               0\n",
              "Displaced                                         0\n",
              "Educational special needs                         0\n",
              "Debtor                                            0\n",
              "Tuition fees up to date                           0\n",
              "Gender                                            0\n",
              "Scholarship holder                                0\n",
              "Age at enrollment                                 0\n",
              "International                                     0\n",
              "Curricular units 1st sem (credited)               0\n",
              "Curricular units 1st sem (enrolled)               0\n",
              "Curricular units 1st sem (evaluations)            0\n",
              "Curricular units 1st sem (approved)               0\n",
              "Curricular units 1st sem (grade)                  0\n",
              "Curricular units 1st sem (without evaluations)    0\n",
              "Curricular units 2nd sem (credited)               0\n",
              "Curricular units 2nd sem (enrolled)               0\n",
              "Curricular units 2nd sem (evaluations)            0\n",
              "Curricular units 2nd sem (approved)               0\n",
              "Curricular units 2nd sem (grade)                  0\n",
              "Curricular units 2nd sem (without evaluations)    0\n",
              "Unemployment rate                                 0\n",
              "Inflation rate                                    0\n",
              "GDP                                               0\n",
              "Target                                            0\n",
              "GPA_1                                             0\n",
              "GPA_2                                             0\n",
              "credits_over_under_sem_1                          0\n",
              "credits_over_under_sem_2                          0\n",
              "GPA_difference                                    0\n",
              "dtype: int64"
            ],
            "text/html": [
              "<div>\n",
              "<style scoped>\n",
              "    .dataframe tbody tr th:only-of-type {\n",
              "        vertical-align: middle;\n",
              "    }\n",
              "\n",
              "    .dataframe tbody tr th {\n",
              "        vertical-align: top;\n",
              "    }\n",
              "\n",
              "    .dataframe thead th {\n",
              "        text-align: right;\n",
              "    }\n",
              "</style>\n",
              "<table border=\"1\" class=\"dataframe\">\n",
              "  <thead>\n",
              "    <tr style=\"text-align: right;\">\n",
              "      <th></th>\n",
              "      <th>0</th>\n",
              "    </tr>\n",
              "  </thead>\n",
              "  <tbody>\n",
              "    <tr>\n",
              "      <th>Marital status</th>\n",
              "      <td>0</td>\n",
              "    </tr>\n",
              "    <tr>\n",
              "      <th>Application mode</th>\n",
              "      <td>0</td>\n",
              "    </tr>\n",
              "    <tr>\n",
              "      <th>Application order</th>\n",
              "      <td>0</td>\n",
              "    </tr>\n",
              "    <tr>\n",
              "      <th>Course</th>\n",
              "      <td>0</td>\n",
              "    </tr>\n",
              "    <tr>\n",
              "      <th>Daytime/evening attendance</th>\n",
              "      <td>0</td>\n",
              "    </tr>\n",
              "    <tr>\n",
              "      <th>Previous qualification</th>\n",
              "      <td>0</td>\n",
              "    </tr>\n",
              "    <tr>\n",
              "      <th>Nacionality</th>\n",
              "      <td>0</td>\n",
              "    </tr>\n",
              "    <tr>\n",
              "      <th>Mother's qualification</th>\n",
              "      <td>0</td>\n",
              "    </tr>\n",
              "    <tr>\n",
              "      <th>Father's qualification</th>\n",
              "      <td>0</td>\n",
              "    </tr>\n",
              "    <tr>\n",
              "      <th>Mother's occupation</th>\n",
              "      <td>0</td>\n",
              "    </tr>\n",
              "    <tr>\n",
              "      <th>Father's occupation</th>\n",
              "      <td>0</td>\n",
              "    </tr>\n",
              "    <tr>\n",
              "      <th>Displaced</th>\n",
              "      <td>0</td>\n",
              "    </tr>\n",
              "    <tr>\n",
              "      <th>Educational special needs</th>\n",
              "      <td>0</td>\n",
              "    </tr>\n",
              "    <tr>\n",
              "      <th>Debtor</th>\n",
              "      <td>0</td>\n",
              "    </tr>\n",
              "    <tr>\n",
              "      <th>Tuition fees up to date</th>\n",
              "      <td>0</td>\n",
              "    </tr>\n",
              "    <tr>\n",
              "      <th>Gender</th>\n",
              "      <td>0</td>\n",
              "    </tr>\n",
              "    <tr>\n",
              "      <th>Scholarship holder</th>\n",
              "      <td>0</td>\n",
              "    </tr>\n",
              "    <tr>\n",
              "      <th>Age at enrollment</th>\n",
              "      <td>0</td>\n",
              "    </tr>\n",
              "    <tr>\n",
              "      <th>International</th>\n",
              "      <td>0</td>\n",
              "    </tr>\n",
              "    <tr>\n",
              "      <th>Curricular units 1st sem (credited)</th>\n",
              "      <td>0</td>\n",
              "    </tr>\n",
              "    <tr>\n",
              "      <th>Curricular units 1st sem (enrolled)</th>\n",
              "      <td>0</td>\n",
              "    </tr>\n",
              "    <tr>\n",
              "      <th>Curricular units 1st sem (evaluations)</th>\n",
              "      <td>0</td>\n",
              "    </tr>\n",
              "    <tr>\n",
              "      <th>Curricular units 1st sem (approved)</th>\n",
              "      <td>0</td>\n",
              "    </tr>\n",
              "    <tr>\n",
              "      <th>Curricular units 1st sem (grade)</th>\n",
              "      <td>0</td>\n",
              "    </tr>\n",
              "    <tr>\n",
              "      <th>Curricular units 1st sem (without evaluations)</th>\n",
              "      <td>0</td>\n",
              "    </tr>\n",
              "    <tr>\n",
              "      <th>Curricular units 2nd sem (credited)</th>\n",
              "      <td>0</td>\n",
              "    </tr>\n",
              "    <tr>\n",
              "      <th>Curricular units 2nd sem (enrolled)</th>\n",
              "      <td>0</td>\n",
              "    </tr>\n",
              "    <tr>\n",
              "      <th>Curricular units 2nd sem (evaluations)</th>\n",
              "      <td>0</td>\n",
              "    </tr>\n",
              "    <tr>\n",
              "      <th>Curricular units 2nd sem (approved)</th>\n",
              "      <td>0</td>\n",
              "    </tr>\n",
              "    <tr>\n",
              "      <th>Curricular units 2nd sem (grade)</th>\n",
              "      <td>0</td>\n",
              "    </tr>\n",
              "    <tr>\n",
              "      <th>Curricular units 2nd sem (without evaluations)</th>\n",
              "      <td>0</td>\n",
              "    </tr>\n",
              "    <tr>\n",
              "      <th>Unemployment rate</th>\n",
              "      <td>0</td>\n",
              "    </tr>\n",
              "    <tr>\n",
              "      <th>Inflation rate</th>\n",
              "      <td>0</td>\n",
              "    </tr>\n",
              "    <tr>\n",
              "      <th>GDP</th>\n",
              "      <td>0</td>\n",
              "    </tr>\n",
              "    <tr>\n",
              "      <th>Target</th>\n",
              "      <td>0</td>\n",
              "    </tr>\n",
              "    <tr>\n",
              "      <th>GPA_1</th>\n",
              "      <td>0</td>\n",
              "    </tr>\n",
              "    <tr>\n",
              "      <th>GPA_2</th>\n",
              "      <td>0</td>\n",
              "    </tr>\n",
              "    <tr>\n",
              "      <th>credits_over_under_sem_1</th>\n",
              "      <td>0</td>\n",
              "    </tr>\n",
              "    <tr>\n",
              "      <th>credits_over_under_sem_2</th>\n",
              "      <td>0</td>\n",
              "    </tr>\n",
              "    <tr>\n",
              "      <th>GPA_difference</th>\n",
              "      <td>0</td>\n",
              "    </tr>\n",
              "  </tbody>\n",
              "</table>\n",
              "</div><br><label><b>dtype:</b> int64</label>"
            ]
          },
          "metadata": {},
          "execution_count": 27
        }
      ]
    },
    {
      "cell_type": "markdown",
      "source": [],
      "metadata": {
        "id": "KNWxzRi5uNbN"
      }
    },
    {
      "cell_type": "markdown",
      "source": [
        "# One Last Check"
      ],
      "metadata": {
        "id": "qyItyYMVvMTj"
      }
    },
    {
      "cell_type": "code",
      "source": [
        "sum(df['Curricular units 1st sem (credited)'] > df['Curricular units 1st sem (enrolled)']), sum(df['Curricular units 2nd sem (credited)'] > df['Curricular units 2nd sem (enrolled)'])\n",
        "# nobody in the dataset received more credits than they were enrolled for in either semester.  Just checking."
      ],
      "metadata": {
        "colab": {
          "base_uri": "https://localhost:8080/"
        },
        "id": "N8bWTcUGpbPU",
        "outputId": "31cafeec-4cb2-4b74-b245-003476978671"
      },
      "execution_count": null,
      "outputs": [
        {
          "output_type": "execute_result",
          "data": {
            "text/plain": [
              "(0, 0)"
            ]
          },
          "metadata": {},
          "execution_count": 25
        }
      ]
    },
    {
      "cell_type": "code",
      "source": [],
      "metadata": {
        "id": "nj_zLA9Bnset"
      },
      "execution_count": null,
      "outputs": []
    },
    {
      "cell_type": "code",
      "source": [
        "df_dropout['Tuition fees up to date'].value_counts()"
      ],
      "metadata": {
        "colab": {
          "base_uri": "https://localhost:8080/",
          "height": 178
        },
        "id": "g5-NS-MmlUKK",
        "outputId": "846f95ff-5da5-45cb-f4e7-bc2ecf4402b6",
        "collapsed": true
      },
      "execution_count": null,
      "outputs": [
        {
          "output_type": "execute_result",
          "data": {
            "text/plain": [
              "Tuition fees up to date\n",
              "1    964\n",
              "0    457\n",
              "Name: count, dtype: int64"
            ],
            "text/html": [
              "<div>\n",
              "<style scoped>\n",
              "    .dataframe tbody tr th:only-of-type {\n",
              "        vertical-align: middle;\n",
              "    }\n",
              "\n",
              "    .dataframe tbody tr th {\n",
              "        vertical-align: top;\n",
              "    }\n",
              "\n",
              "    .dataframe thead th {\n",
              "        text-align: right;\n",
              "    }\n",
              "</style>\n",
              "<table border=\"1\" class=\"dataframe\">\n",
              "  <thead>\n",
              "    <tr style=\"text-align: right;\">\n",
              "      <th></th>\n",
              "      <th>count</th>\n",
              "    </tr>\n",
              "    <tr>\n",
              "      <th>Tuition fees up to date</th>\n",
              "      <th></th>\n",
              "    </tr>\n",
              "  </thead>\n",
              "  <tbody>\n",
              "    <tr>\n",
              "      <th>1</th>\n",
              "      <td>964</td>\n",
              "    </tr>\n",
              "    <tr>\n",
              "      <th>0</th>\n",
              "      <td>457</td>\n",
              "    </tr>\n",
              "  </tbody>\n",
              "</table>\n",
              "</div><br><label><b>dtype:</b> int64</label>"
            ]
          },
          "metadata": {},
          "execution_count": 35
        }
      ]
    },
    {
      "cell_type": "markdown",
      "source": [
        "Outcomes (Target):"
      ],
      "metadata": {
        "id": "ntZL29VHpy6K"
      }
    },
    {
      "cell_type": "code",
      "source": [
        "df['Target'].value_counts()"
      ],
      "metadata": {
        "colab": {
          "base_uri": "https://localhost:8080/",
          "height": 209
        },
        "id": "W0STP1UVJJpH",
        "outputId": "cced581c-e3c2-47be-851f-ab2a0d308947",
        "collapsed": true
      },
      "execution_count": null,
      "outputs": [
        {
          "output_type": "execute_result",
          "data": {
            "text/plain": [
              "Target\n",
              "Graduate    2209\n",
              "Dropout     1421\n",
              "Enrolled     794\n",
              "Name: count, dtype: int64"
            ],
            "text/html": [
              "<div>\n",
              "<style scoped>\n",
              "    .dataframe tbody tr th:only-of-type {\n",
              "        vertical-align: middle;\n",
              "    }\n",
              "\n",
              "    .dataframe tbody tr th {\n",
              "        vertical-align: top;\n",
              "    }\n",
              "\n",
              "    .dataframe thead th {\n",
              "        text-align: right;\n",
              "    }\n",
              "</style>\n",
              "<table border=\"1\" class=\"dataframe\">\n",
              "  <thead>\n",
              "    <tr style=\"text-align: right;\">\n",
              "      <th></th>\n",
              "      <th>count</th>\n",
              "    </tr>\n",
              "    <tr>\n",
              "      <th>Target</th>\n",
              "      <th></th>\n",
              "    </tr>\n",
              "  </thead>\n",
              "  <tbody>\n",
              "    <tr>\n",
              "      <th>Graduate</th>\n",
              "      <td>2209</td>\n",
              "    </tr>\n",
              "    <tr>\n",
              "      <th>Dropout</th>\n",
              "      <td>1421</td>\n",
              "    </tr>\n",
              "    <tr>\n",
              "      <th>Enrolled</th>\n",
              "      <td>794</td>\n",
              "    </tr>\n",
              "  </tbody>\n",
              "</table>\n",
              "</div><br><label><b>dtype:</b> int64</label>"
            ]
          },
          "metadata": {},
          "execution_count": 39
        }
      ]
    },
    {
      "cell_type": "markdown",
      "source": [
        "Marital Status Codes:\n",
        "\n",
        "1.   Single\n",
        "2.   Married\n",
        "3.   Widowed\n",
        "4.   Divorced\n",
        "5.   De-facto union\n",
        "6.   Legally separated\n"
      ],
      "metadata": {
        "id": "ny62GThOc23b"
      }
    },
    {
      "cell_type": "markdown",
      "source": [],
      "metadata": {
        "id": "x4MmPSkBc1Kl"
      }
    },
    {
      "cell_type": "code",
      "source": [
        "df[\"Father's occupation\"].value_counts()"
      ],
      "metadata": {
        "colab": {
          "base_uri": "https://localhost:8080/",
          "height": 1000
        },
        "id": "WXmB2kpVPQFW",
        "outputId": "b2fb8e09-603c-4d6f-f769-b5e0bcbfd65f",
        "collapsed": true
      },
      "execution_count": null,
      "outputs": [
        {
          "output_type": "execute_result",
          "data": {
            "text/plain": [
              "Father's occupation\n",
              "10    1010\n",
              "8      666\n",
              "6      516\n",
              "5      386\n",
              "4      384\n",
              "9      318\n",
              "11     266\n",
              "7      242\n",
              "3      197\n",
              "2      134\n",
              "1      128\n",
              "12      65\n",
              "13      19\n",
              "44      15\n",
              "29       8\n",
              "36       8\n",
              "43       6\n",
              "35       5\n",
              "16       4\n",
              "39       4\n",
              "26       3\n",
              "42       3\n",
              "31       3\n",
              "21       3\n",
              "40       3\n",
              "45       2\n",
              "41       2\n",
              "17       2\n",
              "30       2\n",
              "37       2\n",
              "20       2\n",
              "15       2\n",
              "32       1\n",
              "14       1\n",
              "18       1\n",
              "38       1\n",
              "27       1\n",
              "24       1\n",
              "25       1\n",
              "28       1\n",
              "23       1\n",
              "34       1\n",
              "46       1\n",
              "19       1\n",
              "22       1\n",
              "33       1\n",
              "Name: count, dtype: int64"
            ],
            "text/html": [
              "<div>\n",
              "<style scoped>\n",
              "    .dataframe tbody tr th:only-of-type {\n",
              "        vertical-align: middle;\n",
              "    }\n",
              "\n",
              "    .dataframe tbody tr th {\n",
              "        vertical-align: top;\n",
              "    }\n",
              "\n",
              "    .dataframe thead th {\n",
              "        text-align: right;\n",
              "    }\n",
              "</style>\n",
              "<table border=\"1\" class=\"dataframe\">\n",
              "  <thead>\n",
              "    <tr style=\"text-align: right;\">\n",
              "      <th></th>\n",
              "      <th>count</th>\n",
              "    </tr>\n",
              "    <tr>\n",
              "      <th>Father's occupation</th>\n",
              "      <th></th>\n",
              "    </tr>\n",
              "  </thead>\n",
              "  <tbody>\n",
              "    <tr>\n",
              "      <th>10</th>\n",
              "      <td>1010</td>\n",
              "    </tr>\n",
              "    <tr>\n",
              "      <th>8</th>\n",
              "      <td>666</td>\n",
              "    </tr>\n",
              "    <tr>\n",
              "      <th>6</th>\n",
              "      <td>516</td>\n",
              "    </tr>\n",
              "    <tr>\n",
              "      <th>5</th>\n",
              "      <td>386</td>\n",
              "    </tr>\n",
              "    <tr>\n",
              "      <th>4</th>\n",
              "      <td>384</td>\n",
              "    </tr>\n",
              "    <tr>\n",
              "      <th>9</th>\n",
              "      <td>318</td>\n",
              "    </tr>\n",
              "    <tr>\n",
              "      <th>11</th>\n",
              "      <td>266</td>\n",
              "    </tr>\n",
              "    <tr>\n",
              "      <th>7</th>\n",
              "      <td>242</td>\n",
              "    </tr>\n",
              "    <tr>\n",
              "      <th>3</th>\n",
              "      <td>197</td>\n",
              "    </tr>\n",
              "    <tr>\n",
              "      <th>2</th>\n",
              "      <td>134</td>\n",
              "    </tr>\n",
              "    <tr>\n",
              "      <th>1</th>\n",
              "      <td>128</td>\n",
              "    </tr>\n",
              "    <tr>\n",
              "      <th>12</th>\n",
              "      <td>65</td>\n",
              "    </tr>\n",
              "    <tr>\n",
              "      <th>13</th>\n",
              "      <td>19</td>\n",
              "    </tr>\n",
              "    <tr>\n",
              "      <th>44</th>\n",
              "      <td>15</td>\n",
              "    </tr>\n",
              "    <tr>\n",
              "      <th>29</th>\n",
              "      <td>8</td>\n",
              "    </tr>\n",
              "    <tr>\n",
              "      <th>36</th>\n",
              "      <td>8</td>\n",
              "    </tr>\n",
              "    <tr>\n",
              "      <th>43</th>\n",
              "      <td>6</td>\n",
              "    </tr>\n",
              "    <tr>\n",
              "      <th>35</th>\n",
              "      <td>5</td>\n",
              "    </tr>\n",
              "    <tr>\n",
              "      <th>16</th>\n",
              "      <td>4</td>\n",
              "    </tr>\n",
              "    <tr>\n",
              "      <th>39</th>\n",
              "      <td>4</td>\n",
              "    </tr>\n",
              "    <tr>\n",
              "      <th>26</th>\n",
              "      <td>3</td>\n",
              "    </tr>\n",
              "    <tr>\n",
              "      <th>42</th>\n",
              "      <td>3</td>\n",
              "    </tr>\n",
              "    <tr>\n",
              "      <th>31</th>\n",
              "      <td>3</td>\n",
              "    </tr>\n",
              "    <tr>\n",
              "      <th>21</th>\n",
              "      <td>3</td>\n",
              "    </tr>\n",
              "    <tr>\n",
              "      <th>40</th>\n",
              "      <td>3</td>\n",
              "    </tr>\n",
              "    <tr>\n",
              "      <th>45</th>\n",
              "      <td>2</td>\n",
              "    </tr>\n",
              "    <tr>\n",
              "      <th>41</th>\n",
              "      <td>2</td>\n",
              "    </tr>\n",
              "    <tr>\n",
              "      <th>17</th>\n",
              "      <td>2</td>\n",
              "    </tr>\n",
              "    <tr>\n",
              "      <th>30</th>\n",
              "      <td>2</td>\n",
              "    </tr>\n",
              "    <tr>\n",
              "      <th>37</th>\n",
              "      <td>2</td>\n",
              "    </tr>\n",
              "    <tr>\n",
              "      <th>20</th>\n",
              "      <td>2</td>\n",
              "    </tr>\n",
              "    <tr>\n",
              "      <th>15</th>\n",
              "      <td>2</td>\n",
              "    </tr>\n",
              "    <tr>\n",
              "      <th>32</th>\n",
              "      <td>1</td>\n",
              "    </tr>\n",
              "    <tr>\n",
              "      <th>14</th>\n",
              "      <td>1</td>\n",
              "    </tr>\n",
              "    <tr>\n",
              "      <th>18</th>\n",
              "      <td>1</td>\n",
              "    </tr>\n",
              "    <tr>\n",
              "      <th>38</th>\n",
              "      <td>1</td>\n",
              "    </tr>\n",
              "    <tr>\n",
              "      <th>27</th>\n",
              "      <td>1</td>\n",
              "    </tr>\n",
              "    <tr>\n",
              "      <th>24</th>\n",
              "      <td>1</td>\n",
              "    </tr>\n",
              "    <tr>\n",
              "      <th>25</th>\n",
              "      <td>1</td>\n",
              "    </tr>\n",
              "    <tr>\n",
              "      <th>28</th>\n",
              "      <td>1</td>\n",
              "    </tr>\n",
              "    <tr>\n",
              "      <th>23</th>\n",
              "      <td>1</td>\n",
              "    </tr>\n",
              "    <tr>\n",
              "      <th>34</th>\n",
              "      <td>1</td>\n",
              "    </tr>\n",
              "    <tr>\n",
              "      <th>46</th>\n",
              "      <td>1</td>\n",
              "    </tr>\n",
              "    <tr>\n",
              "      <th>19</th>\n",
              "      <td>1</td>\n",
              "    </tr>\n",
              "    <tr>\n",
              "      <th>22</th>\n",
              "      <td>1</td>\n",
              "    </tr>\n",
              "    <tr>\n",
              "      <th>33</th>\n",
              "      <td>1</td>\n",
              "    </tr>\n",
              "  </tbody>\n",
              "</table>\n",
              "</div><br><label><b>dtype:</b> int64</label>"
            ]
          },
          "metadata": {},
          "execution_count": 8
        }
      ]
    },
    {
      "cell_type": "code",
      "source": [
        "df['Course'].value_counts()"
      ],
      "metadata": {
        "colab": {
          "base_uri": "https://localhost:8080/",
          "height": 648
        },
        "id": "T-6VhWoxQwEz",
        "outputId": "896c622e-1d11-4a10-97d2-605456cae723",
        "collapsed": true
      },
      "execution_count": null,
      "outputs": [
        {
          "output_type": "execute_result",
          "data": {
            "text/plain": [
              "Course\n",
              "12    766\n",
              "9     380\n",
              "10    355\n",
              "6     337\n",
              "15    331\n",
              "14    268\n",
              "17    268\n",
              "11    252\n",
              "5     226\n",
              "2     215\n",
              "3     215\n",
              "4     210\n",
              "16    192\n",
              "7     170\n",
              "8     141\n",
              "13     86\n",
              "1      12\n",
              "Name: count, dtype: int64"
            ],
            "text/html": [
              "<div>\n",
              "<style scoped>\n",
              "    .dataframe tbody tr th:only-of-type {\n",
              "        vertical-align: middle;\n",
              "    }\n",
              "\n",
              "    .dataframe tbody tr th {\n",
              "        vertical-align: top;\n",
              "    }\n",
              "\n",
              "    .dataframe thead th {\n",
              "        text-align: right;\n",
              "    }\n",
              "</style>\n",
              "<table border=\"1\" class=\"dataframe\">\n",
              "  <thead>\n",
              "    <tr style=\"text-align: right;\">\n",
              "      <th></th>\n",
              "      <th>count</th>\n",
              "    </tr>\n",
              "    <tr>\n",
              "      <th>Course</th>\n",
              "      <th></th>\n",
              "    </tr>\n",
              "  </thead>\n",
              "  <tbody>\n",
              "    <tr>\n",
              "      <th>12</th>\n",
              "      <td>766</td>\n",
              "    </tr>\n",
              "    <tr>\n",
              "      <th>9</th>\n",
              "      <td>380</td>\n",
              "    </tr>\n",
              "    <tr>\n",
              "      <th>10</th>\n",
              "      <td>355</td>\n",
              "    </tr>\n",
              "    <tr>\n",
              "      <th>6</th>\n",
              "      <td>337</td>\n",
              "    </tr>\n",
              "    <tr>\n",
              "      <th>15</th>\n",
              "      <td>331</td>\n",
              "    </tr>\n",
              "    <tr>\n",
              "      <th>14</th>\n",
              "      <td>268</td>\n",
              "    </tr>\n",
              "    <tr>\n",
              "      <th>17</th>\n",
              "      <td>268</td>\n",
              "    </tr>\n",
              "    <tr>\n",
              "      <th>11</th>\n",
              "      <td>252</td>\n",
              "    </tr>\n",
              "    <tr>\n",
              "      <th>5</th>\n",
              "      <td>226</td>\n",
              "    </tr>\n",
              "    <tr>\n",
              "      <th>2</th>\n",
              "      <td>215</td>\n",
              "    </tr>\n",
              "    <tr>\n",
              "      <th>3</th>\n",
              "      <td>215</td>\n",
              "    </tr>\n",
              "    <tr>\n",
              "      <th>4</th>\n",
              "      <td>210</td>\n",
              "    </tr>\n",
              "    <tr>\n",
              "      <th>16</th>\n",
              "      <td>192</td>\n",
              "    </tr>\n",
              "    <tr>\n",
              "      <th>7</th>\n",
              "      <td>170</td>\n",
              "    </tr>\n",
              "    <tr>\n",
              "      <th>8</th>\n",
              "      <td>141</td>\n",
              "    </tr>\n",
              "    <tr>\n",
              "      <th>13</th>\n",
              "      <td>86</td>\n",
              "    </tr>\n",
              "    <tr>\n",
              "      <th>1</th>\n",
              "      <td>12</td>\n",
              "    </tr>\n",
              "  </tbody>\n",
              "</table>\n",
              "</div><br><label><b>dtype:</b> int64</label>"
            ]
          },
          "metadata": {},
          "execution_count": 9
        }
      ]
    },
    {
      "cell_type": "code",
      "source": [
        "hist = df['GDP'].hist()"
      ],
      "metadata": {
        "colab": {
          "base_uri": "https://localhost:8080/",
          "height": 430
        },
        "id": "DhZ_M168EKEe",
        "outputId": "52c28cb8-f068-4fab-f551-fab421226093",
        "collapsed": true
      },
      "execution_count": null,
      "outputs": [
        {
          "output_type": "display_data",
          "data": {
            "text/plain": [
              "<Figure size 640x480 with 1 Axes>"
            ],
            "image/png": "[encoded data removed]"
          },
          "metadata": {}
        }
      ]
    },
    {
      "cell_type": "code",
      "source": [
        "len(g2_zeros)"
      ],
      "metadata": {
        "colab": {
          "base_uri": "https://localhost:8080/"
        },
        "id": "qlU_zeNO2hqd",
        "outputId": "00168e0c-122c-4535-e60f-beedb274349b"
      },
      "execution_count": null,
      "outputs": [
        {
          "output_type": "execute_result",
          "data": {
            "text/plain": [
              "75"
            ]
          },
          "metadata": {},
          "execution_count": 31
        }
      ]
    },
    {
      "cell_type": "code",
      "source": [
        "df.loc[g2_zeros, 'Target'] = 'Dropout'"
      ],
      "metadata": {
        "id": "qL0drjwk21cW"
      },
      "execution_count": null,
      "outputs": []
    },
    {
      "cell_type": "code",
      "source": [
        "df_graduate['Curricular units 2nd sem (grade)'].describe()"
      ],
      "metadata": {
        "colab": {
          "base_uri": "https://localhost:8080/",
          "height": 335
        },
        "collapsed": true,
        "id": "OVzgQW4x5aT7",
        "outputId": "9103d641-27c4-4d85-c0f5-db9fc9d7d08f"
      },
      "execution_count": null,
      "outputs": [
        {
          "output_type": "execute_result",
          "data": {
            "text/plain": [
              "count    2134.000000\n",
              "mean       13.143525\n",
              "std         1.264142\n",
              "min        10.000000\n",
              "25%        12.200000\n",
              "50%        13.000000\n",
              "75%        14.000000\n",
              "max        18.571429\n",
              "Name: Curricular units 2nd sem (grade), dtype: float64"
            ],
            "text/html": [
              "<div>\n",
              "<style scoped>\n",
              "    .dataframe tbody tr th:only-of-type {\n",
              "        vertical-align: middle;\n",
              "    }\n",
              "\n",
              "    .dataframe tbody tr th {\n",
              "        vertical-align: top;\n",
              "    }\n",
              "\n",
              "    .dataframe thead th {\n",
              "        text-align: right;\n",
              "    }\n",
              "</style>\n",
              "<table border=\"1\" class=\"dataframe\">\n",
              "  <thead>\n",
              "    <tr style=\"text-align: right;\">\n",
              "      <th></th>\n",
              "      <th>Curricular units 2nd sem (grade)</th>\n",
              "    </tr>\n",
              "  </thead>\n",
              "  <tbody>\n",
              "    <tr>\n",
              "      <th>count</th>\n",
              "      <td>2134.000000</td>\n",
              "    </tr>\n",
              "    <tr>\n",
              "      <th>mean</th>\n",
              "      <td>13.143525</td>\n",
              "    </tr>\n",
              "    <tr>\n",
              "      <th>std</th>\n",
              "      <td>1.264142</td>\n",
              "    </tr>\n",
              "    <tr>\n",
              "      <th>min</th>\n",
              "      <td>10.000000</td>\n",
              "    </tr>\n",
              "    <tr>\n",
              "      <th>25%</th>\n",
              "      <td>12.200000</td>\n",
              "    </tr>\n",
              "    <tr>\n",
              "      <th>50%</th>\n",
              "      <td>13.000000</td>\n",
              "    </tr>\n",
              "    <tr>\n",
              "      <th>75%</th>\n",
              "      <td>14.000000</td>\n",
              "    </tr>\n",
              "    <tr>\n",
              "      <th>max</th>\n",
              "      <td>18.571429</td>\n",
              "    </tr>\n",
              "  </tbody>\n",
              "</table>\n",
              "</div><br><label><b>dtype:</b> float64</label>"
            ]
          },
          "metadata": {},
          "execution_count": 43
        }
      ]
    },
    {
      "cell_type": "code",
      "source": [
        "df_graduate=df[df['Target']=='Graduate']\n",
        "df_dropout=df[df['Target']=='Dropout']\n",
        "\n",
        "df_graduate['Curricular units 1st sem (grade)'].describe()"
      ],
      "metadata": {
        "colab": {
          "base_uri": "https://localhost:8080/",
          "height": 335
        },
        "id": "ZYbykZLB45nM",
        "outputId": "ac872b3f-4f85-4b02-840a-8b8317520b64"
      },
      "execution_count": null,
      "outputs": [
        {
          "output_type": "execute_result",
          "data": {
            "text/plain": [
              "count    2134.000000\n",
              "mean       13.088019\n",
              "std         1.312369\n",
              "min         0.000000\n",
              "25%        12.200000\n",
              "50%        13.017768\n",
              "75%        13.875000\n",
              "max        18.875000\n",
              "Name: Curricular units 1st sem (grade), dtype: float64"
            ],
            "text/html": [
              "<div>\n",
              "<style scoped>\n",
              "    .dataframe tbody tr th:only-of-type {\n",
              "        vertical-align: middle;\n",
              "    }\n",
              "\n",
              "    .dataframe tbody tr th {\n",
              "        vertical-align: top;\n",
              "    }\n",
              "\n",
              "    .dataframe thead th {\n",
              "        text-align: right;\n",
              "    }\n",
              "</style>\n",
              "<table border=\"1\" class=\"dataframe\">\n",
              "  <thead>\n",
              "    <tr style=\"text-align: right;\">\n",
              "      <th></th>\n",
              "      <th>Curricular units 1st sem (grade)</th>\n",
              "    </tr>\n",
              "  </thead>\n",
              "  <tbody>\n",
              "    <tr>\n",
              "      <th>count</th>\n",
              "      <td>2134.000000</td>\n",
              "    </tr>\n",
              "    <tr>\n",
              "      <th>mean</th>\n",
              "      <td>13.088019</td>\n",
              "    </tr>\n",
              "    <tr>\n",
              "      <th>std</th>\n",
              "      <td>1.312369</td>\n",
              "    </tr>\n",
              "    <tr>\n",
              "      <th>min</th>\n",
              "      <td>0.000000</td>\n",
              "    </tr>\n",
              "    <tr>\n",
              "      <th>25%</th>\n",
              "      <td>12.200000</td>\n",
              "    </tr>\n",
              "    <tr>\n",
              "      <th>50%</th>\n",
              "      <td>13.017768</td>\n",
              "    </tr>\n",
              "    <tr>\n",
              "      <th>75%</th>\n",
              "      <td>13.875000</td>\n",
              "    </tr>\n",
              "    <tr>\n",
              "      <th>max</th>\n",
              "      <td>18.875000</td>\n",
              "    </tr>\n",
              "  </tbody>\n",
              "</table>\n",
              "</div><br><label><b>dtype:</b> float64</label>"
            ]
          },
          "metadata": {},
          "execution_count": 40
        }
      ]
    },
    {
      "cell_type": "markdown",
      "source": [
        "Macroeconomic columns:\n",
        "\n",
        "Unemployment rate, Inflation rate, and GDP are all columns.  Since these aren't the product of one-hot encoding, they demand a bit of attention (outliers or data entry errors seem more likely).  They look fine."
      ],
      "metadata": {
        "id": "JDdQfWPqt-wu"
      }
    },
    {
      "cell_type": "code",
      "source": [
        "macroeconomic = ['Unemployment rate', 'Inflation rate', 'GDP']\n",
        "for col in macroeconomic:\n",
        "    boxplot = df.boxplot(column=[col])\n",
        "    plt.show()"
      ],
      "metadata": {
        "colab": {
          "base_uri": "https://localhost:8080/",
          "height": 1000
        },
        "id": "_p8Y1x1drjNf",
        "outputId": "68446ee7-5e0f-4585-fb4e-2cb1975e3061",
        "collapsed": true
      },
      "execution_count": null,
      "outputs": [
        {
          "output_type": "display_data",
          "data": {
            "text/plain": [
              "<Figure size 640x480 with 1 Axes>"
            ],
            "image/png": "[encoded data removed]"
          },
          "metadata": {}
        },
        {
          "output_type": "display_data",
          "data": {
            "text/plain": [
              "<Figure size 640x480 with 1 Axes>"
            ],
            "image/png": "[encoded data removed]"
          },
          "metadata": {}
        },
        {
          "output_type": "display_data",
          "data": {
            "text/plain": [
              "<Figure size 640x480 with 1 Axes>"
            ],
            "image/png": "[encoded data removed]"
          },
          "metadata": {}
        }
      ]
    },
    {
      "cell_type": "markdown",
      "source": [
        "# Splitting the data (original dataset)\n",
        "\n",
        "We'll use train_test_split with the stratification set to the target's 3 levels (graduated, dropped out, enrolled)"
      ],
      "metadata": {
        "id": "IGPjevC4B46R"
      }
    },
    {
      "cell_type": "code",
      "source": [
        "features = df.drop('Target', axis=1)\n",
        "target = df['Target']"
      ],
      "metadata": {
        "id": "7FaQWz6vvcXb"
      },
      "execution_count": null,
      "outputs": []
    },
    {
      "cell_type": "code",
      "source": [
        "features.shape"
      ],
      "metadata": {
        "colab": {
          "base_uri": "https://localhost:8080/"
        },
        "id": "o2IxshaaFyq-",
        "outputId": "4180a78e-ffd2-42fa-b0fc-68876e4b4c6e"
      },
      "execution_count": null,
      "outputs": [
        {
          "output_type": "execute_result",
          "data": {
            "text/plain": [
              "(4424, 39)"
            ]
          },
          "metadata": {},
          "execution_count": 45
        }
      ]
    },
    {
      "cell_type": "code",
      "source": [
        "features = StandardScaler().fit_transform(features)"
      ],
      "metadata": {
        "id": "SpEj9eCCGEM_"
      },
      "execution_count": null,
      "outputs": []
    },
    {
      "cell_type": "code",
      "source": [
        "features.shape"
      ],
      "metadata": {
        "colab": {
          "base_uri": "https://localhost:8080/"
        },
        "id": "hmuJru-qFyXh",
        "outputId": "6f1a6b19-edab-4fcf-9c32-70295d0fe60c"
      },
      "execution_count": null,
      "outputs": [
        {
          "output_type": "execute_result",
          "data": {
            "text/plain": [
              "(4424, 39)"
            ]
          },
          "metadata": {},
          "execution_count": 47
        }
      ]
    },
    {
      "cell_type": "code",
      "source": [
        "np.mean(features), np.std(features)"
      ],
      "metadata": {
        "colab": {
          "base_uri": "https://localhost:8080/"
        },
        "id": "UnFs-jWHGq1P",
        "outputId": "71f6ccab-1e5b-48d1-be00-21e97ed7ae60"
      },
      "execution_count": null,
      "outputs": [
        {
          "output_type": "execute_result",
          "data": {
            "text/plain": [
              "(1.997341000392084e-18, 1.0)"
            ]
          },
          "metadata": {},
          "execution_count": 48
        }
      ]
    },
    {
      "cell_type": "code",
      "source": [
        "features_normalized = pd.DataFrame(features, columns=df.drop('Target', axis=1).columns)"
      ],
      "metadata": {
        "id": "b7pGk2a1HIoE"
      },
      "execution_count": null,
      "outputs": []
    },
    {
      "cell_type": "code",
      "source": [
        "features_normalized.shape"
      ],
      "metadata": {
        "colab": {
          "base_uri": "https://localhost:8080/"
        },
        "id": "UXcnyM82I6Nk",
        "outputId": "546ee3da-5159-43b0-c787-9aa60051f39d"
      },
      "execution_count": null,
      "outputs": [
        {
          "output_type": "execute_result",
          "data": {
            "text/plain": [
              "(4424, 39)"
            ]
          },
          "metadata": {},
          "execution_count": 50
        }
      ]
    },
    {
      "cell_type": "code",
      "source": [
        "X_train_normalized, X_test_normalized, y_train_normalized, y_test_normalized = train_test_split(features_normalized, target, stratify=target, test_size=.2, random_state=0)"
      ],
      "metadata": {
        "id": "OmmlWXDwRgyK"
      },
      "execution_count": null,
      "outputs": []
    },
    {
      "cell_type": "code",
      "source": [
        "X_train, X_test, y_train, y_test = train_test_split(features, target, stratify=target, test_size=.2, random_state=0)"
      ],
      "metadata": {
        "id": "nA4o_9trRguj"
      },
      "execution_count": null,
      "outputs": []
    },
    {
      "cell_type": "markdown",
      "source": [
        "# PCA Decomposition"
      ],
      "metadata": {
        "id": "P6Ub5Uqez7Zx"
      }
    },
    {
      "cell_type": "code",
      "source": [
        "from sklearn.decomposition import PCA\n",
        "for n in range(1,33):\n",
        "    pca = PCA(n_components=n)\n",
        "    principalComponents = pca.fit_transform(features_normalized)\n",
        "    print('Explained variance for ' + str(n) + ' component(s):{}\\n'.format(pca.explained_variance_ratio_))\n",
        "    print('Lost information: {}'.format(1-sum(pca.explained_variance_ratio_)))\n",
        "    print('**************')"
      ],
      "metadata": {
        "colab": {
          "base_uri": "https://localhost:8080/"
        },
        "collapsed": true,
        "id": "DhgXav2Q0u64",
        "outputId": "3a510811-56c9-4826-c7d6-10c8cc58583e"
      },
      "execution_count": null,
      "outputs": [
        {
          "output_type": "stream",
          "name": "stdout",
          "text": [
            "Explained variance for 1 component(s):[0.18125802]\n",
            "\n",
            "Lost information: 0.8187419761261321\n",
            "**************\n",
            "Explained variance for 2 component(s):[0.18125802 0.12185465]\n",
            "\n",
            "Lost information: 0.696887321666345\n",
            "**************\n",
            "Explained variance for 3 component(s):[0.18125802 0.12185465 0.06414592]\n",
            "\n",
            "Lost information: 0.6327414041468695\n",
            "**************\n",
            "Explained variance for 4 component(s):[0.18125802 0.12185461 0.06414123 0.05124118]\n",
            "\n",
            "Lost information: 0.5815049618177941\n",
            "**************\n",
            "Explained variance for 5 component(s):[0.18125802 0.12185463 0.06406925 0.05117884 0.05001511]\n",
            "\n",
            "Lost information: 0.5316241585404724\n",
            "**************\n",
            "Explained variance for 6 component(s):[0.18125802 0.12185465 0.06414255 0.05130434 0.05017151 0.04551706]\n",
            "\n",
            "Lost information: 0.4857518549646638\n",
            "**************\n",
            "Explained variance for 7 component(s):[0.18125802 0.12185463 0.06414106 0.05131501 0.05015508 0.04551924\n",
            " 0.03924825]\n",
            "\n",
            "Lost information: 0.4465086974171779\n",
            "**************\n",
            "Explained variance for 8 component(s):[0.18125802 0.12185465 0.06414596 0.05131654 0.0501751  0.04552223\n",
            " 0.03927749 0.03805373]\n",
            "\n",
            "Lost information: 0.4083962756078706\n",
            "**************\n",
            "Explained variance for 9 component(s):[0.18125802 0.12185465 0.06414563 0.05131693 0.0501774  0.04552294\n",
            " 0.03927701 0.0380555  0.03577279]\n",
            "\n",
            "Lost information: 0.37261911856819363\n",
            "**************\n",
            "Explained variance for 10 component(s):[0.18125802 0.12185465 0.06414586 0.05131658 0.05017859 0.04552542\n",
            " 0.03923014 0.03805357 0.03577147 0.03010101]\n",
            "\n",
            "Lost information: 0.34256469578474746\n",
            "**************\n",
            "Explained variance for 11 component(s):[0.18125802 0.12185465 0.06414585 0.05131752 0.05017931 0.04552494\n",
            " 0.03927496 0.03805874 0.03577274 0.03009389 0.02878028]\n",
            "\n",
            "Lost information: 0.3137390911010387\n",
            "**************\n",
            "Explained variance for 12 component(s):[0.18125802 0.12185465 0.064146   0.05131776 0.05017919 0.04552585\n",
            " 0.03927727 0.03805837 0.0357734  0.03009967 0.02880193 0.02722738]\n",
            "\n",
            "Lost information: 0.28648048688201055\n",
            "**************\n",
            "Explained variance for 13 component(s):[0.18125802 0.12185465 0.06414599 0.05131781 0.05017933 0.04552544\n",
            " 0.03927851 0.03805759 0.03577291 0.03010453 0.0288054  0.02723606\n",
            " 0.02594411]\n",
            "\n",
            "Lost information: 0.26051964315234066\n",
            "**************\n",
            "Explained variance for 14 component(s):[0.18125802 0.12185465 0.06414601 0.05131775 0.05017936 0.04552584\n",
            " 0.0392781  0.03805908 0.03577384 0.03010458 0.02879522 0.02723962\n",
            " 0.02594811 0.02539544]\n",
            "\n",
            "Lost information: 0.2351243711760227\n",
            "**************\n",
            "Explained variance for 15 component(s):[0.18125802 0.12185465 0.064146   0.05131782 0.05017935 0.04552581\n",
            " 0.03927848 0.03805888 0.03577362 0.03010487 0.02880409 0.02723938\n",
            " 0.02595285 0.02542717 0.02318815]\n",
            "\n",
            "Lost information: 0.21189084255194945\n",
            "**************\n",
            "Explained variance for 16 component(s):[0.18125802 0.12185465 0.06414601 0.05131783 0.05017937 0.04552591\n",
            " 0.03927864 0.03805912 0.03577409 0.03010564 0.02880502 0.02723761\n",
            " 0.02595246 0.02542528 0.02318768 0.02292039]\n",
            "\n",
            "Lost information: 0.1889722806260955\n",
            "**************\n",
            "Explained variance for 17 component(s):[0.18125802 0.12185465 0.06414601 0.0513178  0.05017934 0.0455259\n",
            " 0.03927864 0.03805916 0.03577407 0.03010562 0.02880119 0.02723797\n",
            " 0.02593694 0.02542172 0.02318993 0.02291994 0.0208912 ]\n",
            "\n",
            "Lost information: 0.16810190608977005\n",
            "**************\n",
            "Explained variance for 18 component(s):[0.18125802 0.12185465 0.06414601 0.05131783 0.05017938 0.04552591\n",
            " 0.03927865 0.03805917 0.03577411 0.03010576 0.02880566 0.02724003\n",
            " 0.02595416 0.02542718 0.02319051 0.02292211 0.02089275 0.0195618 ]\n",
            "\n",
            "Lost information: 0.14850631032795314\n",
            "**************\n",
            "Explained variance for 19 component(s):[0.18125802 0.12185465 0.06414601 0.05131783 0.05017938 0.04552591\n",
            " 0.03927865 0.03805917 0.03577411 0.03010577 0.02880566 0.02724004\n",
            " 0.0259542  0.02542725 0.02319048 0.02292214 0.02089276 0.01956202\n",
            " 0.01732382]\n",
            "\n",
            "Lost information: 0.131182136494726\n",
            "**************\n",
            "Explained variance for 20 component(s):[0.18125802 0.12185465 0.06414601 0.05131783 0.05017938 0.04552591\n",
            " 0.03927865 0.03805917 0.03577411 0.03010577 0.02880566 0.02724006\n",
            " 0.02595422 0.02542725 0.02319054 0.02292215 0.02089276 0.01956201\n",
            " 0.01732391 0.01594182]\n",
            "\n",
            "Lost information: 0.11524012966431851\n",
            "**************\n",
            "Explained variance for 21 component(s):[0.18125802 0.12185465 0.06414601 0.05131783 0.05017938 0.04552591\n",
            " 0.03927865 0.03805917 0.03577411 0.03010577 0.02880566 0.02724006\n",
            " 0.02595422 0.02542725 0.02319056 0.02292215 0.02089276 0.01956203\n",
            " 0.01732401 0.01594182 0.01465217]\n",
            "\n",
            "Lost information: 0.1005878067439061\n",
            "**************\n",
            "Explained variance for 22 component(s):[0.18125802 0.12185465 0.06414601 0.05131783 0.05017938 0.04552591\n",
            " 0.03927865 0.03805917 0.03577411 0.03010577 0.02880566 0.02724006\n",
            " 0.02595422 0.02542725 0.02319056 0.02292215 0.02089276 0.01956203\n",
            " 0.01732401 0.01594182 0.01465217 0.01394689]\n",
            "\n",
            "Lost information: 0.08664091736974788\n",
            "**************\n",
            "Explained variance for 23 component(s):[0.18125802 0.12185465 0.06414601 0.05131783 0.05017938 0.04552591\n",
            " 0.03927865 0.03805917 0.03577411 0.03010577 0.02880566 0.02724006\n",
            " 0.02595422 0.02542725 0.02319056 0.02292215 0.02089276 0.01956203\n",
            " 0.01732401 0.01594182 0.01465217 0.0139469  0.01304981]\n",
            "\n",
            "Lost information: 0.07359109754571524\n",
            "**************\n",
            "Explained variance for 24 component(s):[0.18125802 0.12185465 0.06414601 0.05131783 0.05017938 0.04552591\n",
            " 0.03927865 0.03805917 0.03577411 0.03010577 0.02880566 0.02724006\n",
            " 0.02595422 0.02542725 0.02319056 0.02292215 0.02089276 0.01956203\n",
            " 0.01732401 0.01594182 0.01465217 0.0139469  0.01304981 0.01248192]\n",
            "\n",
            "Lost information: 0.06110917558134554\n",
            "**************\n",
            "Explained variance for 25 component(s):[0.18125802 0.12185465 0.06414601 0.05131783 0.05017938 0.04552591\n",
            " 0.03927865 0.03805917 0.03577411 0.03010577 0.02880566 0.02724006\n",
            " 0.02595422 0.02542725 0.02319056 0.02292215 0.02089276 0.01956203\n",
            " 0.01732401 0.01594182 0.01465217 0.0139469  0.01304981 0.01248192\n",
            " 0.01116145]\n",
            "\n",
            "Lost information: 0.0499477241764229\n",
            "**************\n",
            "Explained variance for 26 component(s):[0.18125802 0.12185465 0.06414601 0.05131783 0.05017938 0.04552591\n",
            " 0.03927865 0.03805917 0.03577411 0.03010577 0.02880566 0.02724006\n",
            " 0.02595422 0.02542725 0.02319056 0.02292215 0.02089276 0.01956203\n",
            " 0.01732401 0.01594182 0.01465217 0.0139469  0.01304981 0.01248192\n",
            " 0.01116145 0.01007655]\n",
            "\n",
            "Lost information: 0.03987117364138826\n",
            "**************\n",
            "Explained variance for 27 component(s):[0.18125802 0.12185465 0.06414601 0.05131783 0.05017938 0.04552591\n",
            " 0.03927865 0.03805917 0.03577411 0.03010577 0.02880566 0.02724006\n",
            " 0.02595422 0.02542725 0.02319056 0.02292215 0.02089276 0.01956203\n",
            " 0.01732401 0.01594182 0.01465217 0.0139469  0.01304981 0.01248192\n",
            " 0.01116145 0.01007655 0.00886418]\n",
            "\n",
            "Lost information: 0.031006992745465256\n",
            "**************\n",
            "Explained variance for 28 component(s):[0.18125802 0.12185465 0.06414601 0.05131783 0.05017938 0.04552591\n",
            " 0.03927865 0.03805917 0.03577411 0.03010577 0.02880566 0.02724006\n",
            " 0.02595422 0.02542725 0.02319056 0.02292215 0.02089276 0.01956203\n",
            " 0.01732401 0.01594182 0.01465217 0.0139469  0.01304981 0.01248192\n",
            " 0.01116145 0.01007655 0.00886418 0.00847047]\n",
            "\n",
            "Lost information: 0.022536520740451982\n",
            "**************\n",
            "Explained variance for 29 component(s):[0.18125802 0.12185465 0.06414601 0.05131783 0.05017938 0.04552591\n",
            " 0.03927865 0.03805917 0.03577411 0.03010577 0.02880566 0.02724006\n",
            " 0.02595422 0.02542725 0.02319056 0.02292215 0.02089276 0.01956203\n",
            " 0.01732401 0.01594182 0.01465217 0.0139469  0.01304981 0.01248192\n",
            " 0.01116145 0.01007655 0.00886418 0.00847047 0.00609714]\n",
            "\n",
            "Lost information: 0.016439384361595755\n",
            "**************\n",
            "Explained variance for 30 component(s):[0.18125802 0.12185465 0.06414601 0.05131783 0.05017938 0.04552591\n",
            " 0.03927865 0.03805917 0.03577411 0.03010577 0.02880566 0.02724006\n",
            " 0.02595422 0.02542725 0.02319056 0.02292215 0.02089276 0.01956203\n",
            " 0.01732401 0.01594182 0.01465217 0.0139469  0.01304981 0.01248192\n",
            " 0.01116145 0.01007655 0.00886418 0.00847047 0.00609714 0.00574091]\n",
            "\n",
            "Lost information: 0.010698471989269098\n",
            "**************\n",
            "Explained variance for 31 component(s):[0.18125802 0.12185465 0.06414601 0.05131783 0.05017938 0.04552591\n",
            " 0.03927865 0.03805917 0.03577411 0.03010577 0.02880566 0.02724006\n",
            " 0.02595422 0.02542725 0.02319056 0.02292215 0.02089276 0.01956203\n",
            " 0.01732401 0.01594182 0.01465217 0.0139469  0.01304981 0.01248192\n",
            " 0.01116145 0.01007655 0.00886418 0.00847047 0.00609714 0.00574091\n",
            " 0.00428727]\n",
            "\n",
            "Lost information: 0.006411206030531469\n",
            "**************\n",
            "Explained variance for 32 component(s):[0.18125802 0.12185465 0.06414601 0.05131783 0.05017938 0.04552591\n",
            " 0.03927865 0.03805917 0.03577411 0.03010577 0.02880566 0.02724006\n",
            " 0.02595422 0.02542725 0.02319056 0.02292215 0.02089276 0.01956203\n",
            " 0.01732401 0.01594182 0.01465217 0.0139469  0.01304981 0.01248192\n",
            " 0.01116145 0.01007655 0.00886418 0.00847047 0.00609714 0.00574091\n",
            " 0.00428727 0.00225919]\n",
            "\n",
            "Lost information: 0.004152019662818973\n",
            "**************\n"
          ]
        }
      ]
    },
    {
      "cell_type": "code",
      "source": [
        "from sklearn.decomposition import PCA\n",
        "number_components = 24\n",
        "pca = PCA(n_components=number_components)\n",
        "principalComponents = pca.fit_transform(features_normalized)\n",
        "pca_df = pd.DataFrame(data=principalComponents, columns=['pc'+str(i) for i in range(1,number_components+1)])"
      ],
      "metadata": {
        "id": "eVQXMK_c0u3d"
      },
      "execution_count": null,
      "outputs": []
    },
    {
      "cell_type": "code",
      "source": [
        "pca_df.tail()"
      ],
      "metadata": {
        "colab": {
          "base_uri": "https://localhost:8080/",
          "height": 255
        },
        "collapsed": true,
        "id": "Z0UKNZAT0utS",
        "outputId": "dbb29f64-2a8e-412e-9ebd-930a9d4a2e02"
      },
      "execution_count": null,
      "outputs": [
        {
          "output_type": "execute_result",
          "data": {
            "text/plain": [
              "           pc1       pc2       pc3        pc4       pc5       pc6       pc7  \\\n",
              "4419  0.632820 -1.714085  1.685257  -0.388517 -1.195236  0.599616  0.366836   \n",
              "4420 -0.653418 -1.149509  1.566869  11.728531  2.832791 -0.053495  0.793989   \n",
              "4421  0.596653 -0.318357 -0.727348  -0.590084  1.394844  1.389882 -0.326151   \n",
              "4422  0.803100 -2.547427 -0.720564  -0.761317  0.445508  0.290228  0.900204   \n",
              "4423  1.010881 -1.345953 -0.341697   6.176925  2.086343 -0.799835  3.527425   \n",
              "\n",
              "           pc8       pc9      pc10  ...      pc15      pc16      pc17  \\\n",
              "4419 -1.140311 -1.063204  2.191413  ...  1.903191  0.617515  1.776952   \n",
              "4420 -2.270197  0.358819 -0.109336  ...  0.645684  0.262928  0.011983   \n",
              "4421 -1.100139 -0.868872 -0.664496  ... -0.439797 -1.034846 -0.202524   \n",
              "4422 -0.055401 -0.828487 -1.802098  ... -0.064448 -1.179014 -0.463209   \n",
              "4423 -1.757340 -1.230624  0.549444  ... -0.089105  0.585960  0.002466   \n",
              "\n",
              "          pc18      pc19      pc20      pc21      pc22      pc23      pc24  \n",
              "4419 -0.096109 -0.153559  1.975528 -0.453716  0.529846  0.598901  0.152324  \n",
              "4420 -0.659133 -0.381682 -0.713821 -0.069837 -0.416090  0.629907  0.544608  \n",
              "4421  0.642109  0.358160 -0.899454  0.694166 -1.018907  0.827066 -0.046849  \n",
              "4422  0.081563  0.175417 -1.045317 -0.573001  0.842820  0.607711 -0.220809  \n",
              "4423 -0.750090 -1.178950 -0.648810  0.422081 -0.379333 -0.134920  0.365077  \n",
              "\n",
              "[5 rows x 24 columns]"
            ],
            "text/html": [
              "\n",
              "  <div id=\"df-09f59fa7-40e3-44c1-b39a-5242aa0796ec\" class=\"colab-df-container\">\n",
              "    <div>\n",
              "<style scoped>\n",
              "    .dataframe tbody tr th:only-of-type {\n",
              "        vertical-align: middle;\n",
              "    }\n",
              "\n",
              "    .dataframe tbody tr th {\n",
              "        vertical-align: top;\n",
              "    }\n",
              "\n",
              "    .dataframe thead th {\n",
              "        text-align: right;\n",
              "    }\n",
              "</style>\n",
              "<table border=\"1\" class=\"dataframe\">\n",
              "  <thead>\n",
              "    <tr style=\"text-align: right;\">\n",
              "      <th></th>\n",
              "      <th>pc1</th>\n",
              "      <th>pc2</th>\n",
              "      <th>pc3</th>\n",
              "      <th>pc4</th>\n",
              "      <th>pc5</th>\n",
              "      <th>pc6</th>\n",
              "      <th>pc7</th>\n",
              "      <th>pc8</th>\n",
              "      <th>pc9</th>\n",
              "      <th>pc10</th>\n",
              "      <th>...</th>\n",
              "      <th>pc15</th>\n",
              "      <th>pc16</th>\n",
              "      <th>pc17</th>\n",
              "      <th>pc18</th>\n",
              "      <th>pc19</th>\n",
              "      <th>pc20</th>\n",
              "      <th>pc21</th>\n",
              "      <th>pc22</th>\n",
              "      <th>pc23</th>\n",
              "      <th>pc24</th>\n",
              "    </tr>\n",
              "  </thead>\n",
              "  <tbody>\n",
              "    <tr>\n",
              "      <th>4419</th>\n",
              "      <td>0.632820</td>\n",
              "      <td>-1.714085</td>\n",
              "      <td>1.685257</td>\n",
              "      <td>-0.388517</td>\n",
              "      <td>-1.195236</td>\n",
              "      <td>0.599616</td>\n",
              "      <td>0.366836</td>\n",
              "      <td>-1.140311</td>\n",
              "      <td>-1.063204</td>\n",
              "      <td>2.191413</td>\n",
              "      <td>...</td>\n",
              "      <td>1.903191</td>\n",
              "      <td>0.617515</td>\n",
              "      <td>1.776952</td>\n",
              "      <td>-0.096109</td>\n",
              "      <td>-0.153559</td>\n",
              "      <td>1.975528</td>\n",
              "      <td>-0.453716</td>\n",
              "      <td>0.529846</td>\n",
              "      <td>0.598901</td>\n",
              "      <td>0.152324</td>\n",
              "    </tr>\n",
              "    <tr>\n",
              "      <th>4420</th>\n",
              "      <td>-0.653418</td>\n",
              "      <td>-1.149509</td>\n",
              "      <td>1.566869</td>\n",
              "      <td>11.728531</td>\n",
              "      <td>2.832791</td>\n",
              "      <td>-0.053495</td>\n",
              "      <td>0.793989</td>\n",
              "      <td>-2.270197</td>\n",
              "      <td>0.358819</td>\n",
              "      <td>-0.109336</td>\n",
              "      <td>...</td>\n",
              "      <td>0.645684</td>\n",
              "      <td>0.262928</td>\n",
              "      <td>0.011983</td>\n",
              "      <td>-0.659133</td>\n",
              "      <td>-0.381682</td>\n",
              "      <td>-0.713821</td>\n",
              "      <td>-0.069837</td>\n",
              "      <td>-0.416090</td>\n",
              "      <td>0.629907</td>\n",
              "      <td>0.544608</td>\n",
              "    </tr>\n",
              "    <tr>\n",
              "      <th>4421</th>\n",
              "      <td>0.596653</td>\n",
              "      <td>-0.318357</td>\n",
              "      <td>-0.727348</td>\n",
              "      <td>-0.590084</td>\n",
              "      <td>1.394844</td>\n",
              "      <td>1.389882</td>\n",
              "      <td>-0.326151</td>\n",
              "      <td>-1.100139</td>\n",
              "      <td>-0.868872</td>\n",
              "      <td>-0.664496</td>\n",
              "      <td>...</td>\n",
              "      <td>-0.439797</td>\n",
              "      <td>-1.034846</td>\n",
              "      <td>-0.202524</td>\n",
              "      <td>0.642109</td>\n",
              "      <td>0.358160</td>\n",
              "      <td>-0.899454</td>\n",
              "      <td>0.694166</td>\n",
              "      <td>-1.018907</td>\n",
              "      <td>0.827066</td>\n",
              "      <td>-0.046849</td>\n",
              "    </tr>\n",
              "    <tr>\n",
              "      <th>4422</th>\n",
              "      <td>0.803100</td>\n",
              "      <td>-2.547427</td>\n",
              "      <td>-0.720564</td>\n",
              "      <td>-0.761317</td>\n",
              "      <td>0.445508</td>\n",
              "      <td>0.290228</td>\n",
              "      <td>0.900204</td>\n",
              "      <td>-0.055401</td>\n",
              "      <td>-0.828487</td>\n",
              "      <td>-1.802098</td>\n",
              "      <td>...</td>\n",
              "      <td>-0.064448</td>\n",
              "      <td>-1.179014</td>\n",
              "      <td>-0.463209</td>\n",
              "      <td>0.081563</td>\n",
              "      <td>0.175417</td>\n",
              "      <td>-1.045317</td>\n",
              "      <td>-0.573001</td>\n",
              "      <td>0.842820</td>\n",
              "      <td>0.607711</td>\n",
              "      <td>-0.220809</td>\n",
              "    </tr>\n",
              "    <tr>\n",
              "      <th>4423</th>\n",
              "      <td>1.010881</td>\n",
              "      <td>-1.345953</td>\n",
              "      <td>-0.341697</td>\n",
              "      <td>6.176925</td>\n",
              "      <td>2.086343</td>\n",
              "      <td>-0.799835</td>\n",
              "      <td>3.527425</td>\n",
              "      <td>-1.757340</td>\n",
              "      <td>-1.230624</td>\n",
              "      <td>0.549444</td>\n",
              "      <td>...</td>\n",
              "      <td>-0.089105</td>\n",
              "      <td>0.585960</td>\n",
              "      <td>0.002466</td>\n",
              "      <td>-0.750090</td>\n",
              "      <td>-1.178950</td>\n",
              "      <td>-0.648810</td>\n",
              "      <td>0.422081</td>\n",
              "      <td>-0.379333</td>\n",
              "      <td>-0.134920</td>\n",
              "      <td>0.365077</td>\n",
              "    </tr>\n",
              "  </tbody>\n",
              "</table>\n",
              "<p>5 rows × 24 columns</p>\n",
              "</div>\n",
              "    <div class=\"colab-df-buttons\">\n",
              "\n",
              "  <div class=\"colab-df-container\">\n",
              "    <button class=\"colab-df-convert\" onclick=\"convertToInteractive('df-09f59fa7-40e3-44c1-b39a-5242aa0796ec')\"\n",
              "            title=\"Convert this dataframe to an interactive table.\"\n",
              "            style=\"display:none;\">\n",
              "\n",
              "  <svg xmlns=\"http://www.w3.org/2000/svg\" height=\"24px\" viewBox=\"0 -960 960 960\">\n",
              "    <path d=\"M120-120v-720h720v720H120Zm60-500h600v-160H180v160Zm220 220h160v-160H400v160Zm0 220h160v-160H400v160ZM180-400h160v-160H180v160Zm440 0h160v-160H620v160ZM180-180h160v-160H180v160Zm440 0h160v-160H620v160Z\"/>\n",
              "  </svg>\n",
              "    </button>\n",
              "\n",
              "  <style>\n",
              "    .colab-df-container {\n",
              "      display:flex;\n",
              "      gap: 12px;\n",
              "    }\n",
              "\n",
              "    .colab-df-convert {\n",
              "      background-color: #E8F0FE;\n",
              "      border: none;\n",
              "      border-radius: 50%;\n",
              "      cursor: pointer;\n",
              "      display: none;\n",
              "      fill: #1967D2;\n",
              "      height: 32px;\n",
              "      padding: 0 0 0 0;\n",
              "      width: 32px;\n",
              "    }\n",
              "\n",
              "    .colab-df-convert:hover {\n",
              "      background-color: #E2EBFA;\n",
              "      box-shadow: 0px 1px 2px rgba(60, 64, 67, 0.3), 0px 1px 3px 1px rgba(60, 64, 67, 0.15);\n",
              "      fill: #174EA6;\n",
              "    }\n",
              "\n",
              "    .colab-df-buttons div {\n",
              "      margin-bottom: 4px;\n",
              "    }\n",
              "\n",
              "    [theme=dark] .colab-df-convert {\n",
              "      background-color: #3B4455;\n",
              "      fill: #D2E3FC;\n",
              "    }\n",
              "\n",
              "    [theme=dark] .colab-df-convert:hover {\n",
              "      background-color: #434B5C;\n",
              "      box-shadow: 0px 1px 3px 1px rgba(0, 0, 0, 0.15);\n",
              "      filter: drop-shadow(0px 1px 2px rgba(0, 0, 0, 0.3));\n",
              "      fill: #FFFFFF;\n",
              "    }\n",
              "  </style>\n",
              "\n",
              "    <script>\n",
              "      const buttonEl =\n",
              "        document.querySelector('#df-09f59fa7-40e3-44c1-b39a-5242aa0796ec button.colab-df-convert');\n",
              "      buttonEl.style.display =\n",
              "        google.colab.kernel.accessAllowed ? 'block' : 'none';\n",
              "\n",
              "      async function convertToInteractive(key) {\n",
              "        const element = document.querySelector('#df-09f59fa7-40e3-44c1-b39a-5242aa0796ec');\n",
              "        const dataTable =\n",
              "          await google.colab.kernel.invokeFunction('convertToInteractive',\n",
              "                                                    [key], {});\n",
              "        if (!dataTable) return;\n",
              "\n",
              "        const docLinkHtml = 'Like what you see? Visit the ' +\n",
              "          '<a target=\"_blank\" href=https://colab.research.google.com/notebooks/data_table.ipynb>data table notebook</a>'\n",
              "          + ' to learn more about interactive tables.';\n",
              "        element.innerHTML = '';\n",
              "        dataTable['output_type'] = 'display_data';\n",
              "        await google.colab.output.renderOutput(dataTable, element);\n",
              "        const docLink = document.createElement('div');\n",
              "        docLink.innerHTML = docLinkHtml;\n",
              "        element.appendChild(docLink);\n",
              "      }\n",
              "    </script>\n",
              "  </div>\n",
              "\n",
              "\n",
              "<div id=\"df-4af314ed-4b01-4e8c-956b-39d97855001f\">\n",
              "  <button class=\"colab-df-quickchart\" onclick=\"quickchart('df-4af314ed-4b01-4e8c-956b-39d97855001f')\"\n",
              "            title=\"Suggest charts\"\n",
              "            style=\"display:none;\">\n",
              "\n",
              "<svg xmlns=\"http://www.w3.org/2000/svg\" height=\"24px\"viewBox=\"0 0 24 24\"\n",
              "     width=\"24px\">\n",
              "    <g>\n",
              "        <path d=\"M19 3H5c-1.1 0-2 .9-2 2v14c0 1.1.9 2 2 2h14c1.1 0 2-.9 2-2V5c0-1.1-.9-2-2-2zM9 17H7v-7h2v7zm4 0h-2V7h2v10zm4 0h-2v-4h2v4z\"/>\n",
              "    </g>\n",
              "</svg>\n",
              "  </button>\n",
              "\n",
              "<style>\n",
              "  .colab-df-quickchart {\n",
              "      --bg-color: #E8F0FE;\n",
              "      --fill-color: #1967D2;\n",
              "      --hover-bg-color: #E2EBFA;\n",
              "      --hover-fill-color: #174EA6;\n",
              "      --disabled-fill-color: #AAA;\n",
              "      --disabled-bg-color: #DDD;\n",
              "  }\n",
              "\n",
              "  [theme=dark] .colab-df-quickchart {\n",
              "      --bg-color: #3B4455;\n",
              "      --fill-color: #D2E3FC;\n",
              "      --hover-bg-color: #434B5C;\n",
              "      --hover-fill-color: #FFFFFF;\n",
              "      --disabled-bg-color: #3B4455;\n",
              "      --disabled-fill-color: #666;\n",
              "  }\n",
              "\n",
              "  .colab-df-quickchart {\n",
              "    background-color: var(--bg-color);\n",
              "    border: none;\n",
              "    border-radius: 50%;\n",
              "    cursor: pointer;\n",
              "    display: none;\n",
              "    fill: var(--fill-color);\n",
              "    height: 32px;\n",
              "    padding: 0;\n",
              "    width: 32px;\n",
              "  }\n",
              "\n",
              "  .colab-df-quickchart:hover {\n",
              "    background-color: var(--hover-bg-color);\n",
              "    box-shadow: 0 1px 2px rgba(60, 64, 67, 0.3), 0 1px 3px 1px rgba(60, 64, 67, 0.15);\n",
              "    fill: var(--button-hover-fill-color);\n",
              "  }\n",
              "\n",
              "  .colab-df-quickchart-complete:disabled,\n",
              "  .colab-df-quickchart-complete:disabled:hover {\n",
              "    background-color: var(--disabled-bg-color);\n",
              "    fill: var(--disabled-fill-color);\n",
              "    box-shadow: none;\n",
              "  }\n",
              "\n",
              "  .colab-df-spinner {\n",
              "    border: 2px solid var(--fill-color);\n",
              "    border-color: transparent;\n",
              "    border-bottom-color: var(--fill-color);\n",
              "    animation:\n",
              "      spin 1s steps(1) infinite;\n",
              "  }\n",
              "\n",
              "  @keyframes spin {\n",
              "    0% {\n",
              "      border-color: transparent;\n",
              "      border-bottom-color: var(--fill-color);\n",
              "      border-left-color: var(--fill-color);\n",
              "    }\n",
              "    20% {\n",
              "      border-color: transparent;\n",
              "      border-left-color: var(--fill-color);\n",
              "      border-top-color: var(--fill-color);\n",
              "    }\n",
              "    30% {\n",
              "      border-color: transparent;\n",
              "      border-left-color: var(--fill-color);\n",
              "      border-top-color: var(--fill-color);\n",
              "      border-right-color: var(--fill-color);\n",
              "    }\n",
              "    40% {\n",
              "      border-color: transparent;\n",
              "      border-right-color: var(--fill-color);\n",
              "      border-top-color: var(--fill-color);\n",
              "    }\n",
              "    60% {\n",
              "      border-color: transparent;\n",
              "      border-right-color: var(--fill-color);\n",
              "    }\n",
              "    80% {\n",
              "      border-color: transparent;\n",
              "      border-right-color: var(--fill-color);\n",
              "      border-bottom-color: var(--fill-color);\n",
              "    }\n",
              "    90% {\n",
              "      border-color: transparent;\n",
              "      border-bottom-color: var(--fill-color);\n",
              "    }\n",
              "  }\n",
              "</style>\n",
              "\n",
              "  <script>\n",
              "    async function quickchart(key) {\n",
              "      const quickchartButtonEl =\n",
              "        document.querySelector('#' + key + ' button');\n",
              "      quickchartButtonEl.disabled = true;  // To prevent multiple clicks.\n",
              "      quickchartButtonEl.classList.add('colab-df-spinner');\n",
              "      try {\n",
              "        const charts = await google.colab.kernel.invokeFunction(\n",
              "            'suggestCharts', [key], {});\n",
              "      } catch (error) {\n",
              "        console.error('Error during call to suggestCharts:', error);\n",
              "      }\n",
              "      quickchartButtonEl.classList.remove('colab-df-spinner');\n",
              "      quickchartButtonEl.classList.add('colab-df-quickchart-complete');\n",
              "    }\n",
              "    (() => {\n",
              "      let quickchartButtonEl =\n",
              "        document.querySelector('#df-4af314ed-4b01-4e8c-956b-39d97855001f button');\n",
              "      quickchartButtonEl.style.display =\n",
              "        google.colab.kernel.accessAllowed ? 'block' : 'none';\n",
              "    })();\n",
              "  </script>\n",
              "</div>\n",
              "\n",
              "    </div>\n",
              "  </div>\n"
            ],
            "application/vnd.google.colaboratory.intrinsic+json": {
              "type": "dataframe"
            }
          },
          "metadata": {},
          "execution_count": 55
        }
      ]
    },
    {
      "cell_type": "code",
      "source": [
        "print('Explained variance: {}'.format(pca.explained_variance_ratio_))"
      ],
      "metadata": {
        "colab": {
          "base_uri": "https://localhost:8080/"
        },
        "id": "pisTWTLN0uhp",
        "outputId": "cc9269ce-1f04-430c-c02d-08f35b340466"
      },
      "execution_count": null,
      "outputs": [
        {
          "output_type": "stream",
          "name": "stdout",
          "text": [
            "Explained variance: [0.18125802 0.12185465 0.06414601 0.05131783 0.05017938 0.04552591\n",
            " 0.03927865 0.03805917 0.03577411 0.03010577 0.02880566 0.02724006\n",
            " 0.02595422 0.02542725 0.02319056 0.02292215 0.02089276 0.01956203\n",
            " 0.01732401 0.01594182 0.01465217 0.0139469  0.01304981 0.01248192]\n"
          ]
        }
      ]
    },
    {
      "cell_type": "code",
      "source": [
        "type(pca.explained_variance_ratio_)"
      ],
      "metadata": {
        "colab": {
          "base_uri": "https://localhost:8080/"
        },
        "id": "oVMPx7aE1zp0",
        "outputId": "d1ddee84-10c7-4fc3-815c-f65cfec85733"
      },
      "execution_count": null,
      "outputs": [
        {
          "output_type": "execute_result",
          "data": {
            "text/plain": [
              "numpy.ndarray"
            ]
          },
          "metadata": {},
          "execution_count": 57
        }
      ]
    },
    {
      "cell_type": "code",
      "source": [
        "pca.explained_variance_ratio_.sum()"
      ],
      "metadata": {
        "colab": {
          "base_uri": "https://localhost:8080/"
        },
        "id": "88NaXe_S1XoE",
        "outputId": "af1fc5c4-0126-4eab-de52-a55fa3b6bb46"
      },
      "execution_count": null,
      "outputs": [
        {
          "output_type": "execute_result",
          "data": {
            "text/plain": [
              "0.9388908244181271"
            ]
          },
          "metadata": {},
          "execution_count": 58
        }
      ]
    },
    {
      "cell_type": "markdown",
      "source": [
        "# Splitting the Data (PCA)"
      ],
      "metadata": {
        "id": "rOnPKCSvJeUl"
      }
    },
    {
      "cell_type": "code",
      "source": [
        "X_train_pca, X_test_pca, y_train_pca, y_test_pca = train_test_split(pca_df, target, stratify=target, test_size=.2, random_state=0)"
      ],
      "metadata": {
        "id": "ddXcGm2BmCse"
      },
      "execution_count": null,
      "outputs": []
    },
    {
      "cell_type": "code",
      "source": [
        "pca_df.shape"
      ],
      "metadata": {
        "colab": {
          "base_uri": "https://localhost:8080/"
        },
        "id": "AH-wq1XHmCo_",
        "outputId": "b295ba76-96c7-4441-d583-1a6cf4e4ed13"
      },
      "execution_count": null,
      "outputs": [
        {
          "output_type": "execute_result",
          "data": {
            "text/plain": [
              "(4424, 24)"
            ]
          },
          "metadata": {},
          "execution_count": 60
        }
      ]
    },
    {
      "cell_type": "markdown",
      "source": [
        "The 80/20 split we desired is borne out by the numbers below..."
      ],
      "metadata": {
        "id": "HOg5VXPyCUZR"
      }
    },
    {
      "cell_type": "code",
      "source": [
        "X_train_pca.shape, X_test_pca.shape, y_train_pca.shape, y_test_pca.shape"
      ],
      "metadata": {
        "colab": {
          "base_uri": "https://localhost:8080/"
        },
        "id": "69ub1MF8mCma",
        "outputId": "cc50abd6-6033-4c4e-fc70-8f5d6d5e01b7"
      },
      "execution_count": null,
      "outputs": [
        {
          "output_type": "execute_result",
          "data": {
            "text/plain": [
              "((3539, 24), (885, 24), (3539,), (885,))"
            ]
          },
          "metadata": {},
          "execution_count": 61
        }
      ]
    },
    {
      "cell_type": "code",
      "source": [
        "df['Target'].value_counts()/df.shape[0]"
      ],
      "metadata": {
        "colab": {
          "base_uri": "https://localhost:8080/",
          "height": 209
        },
        "id": "gxFxpFQPmCaF",
        "outputId": "812bb530-354e-47e4-932d-de369c842166"
      },
      "execution_count": null,
      "outputs": [
        {
          "output_type": "execute_result",
          "data": {
            "text/plain": [
              "Target\n",
              "Graduate    0.482369\n",
              "Dropout     0.338156\n",
              "Enrolled    0.179476\n",
              "Name: count, dtype: float64"
            ],
            "text/html": [
              "<div>\n",
              "<style scoped>\n",
              "    .dataframe tbody tr th:only-of-type {\n",
              "        vertical-align: middle;\n",
              "    }\n",
              "\n",
              "    .dataframe tbody tr th {\n",
              "        vertical-align: top;\n",
              "    }\n",
              "\n",
              "    .dataframe thead th {\n",
              "        text-align: right;\n",
              "    }\n",
              "</style>\n",
              "<table border=\"1\" class=\"dataframe\">\n",
              "  <thead>\n",
              "    <tr style=\"text-align: right;\">\n",
              "      <th></th>\n",
              "      <th>count</th>\n",
              "    </tr>\n",
              "    <tr>\n",
              "      <th>Target</th>\n",
              "      <th></th>\n",
              "    </tr>\n",
              "  </thead>\n",
              "  <tbody>\n",
              "    <tr>\n",
              "      <th>Graduate</th>\n",
              "      <td>0.482369</td>\n",
              "    </tr>\n",
              "    <tr>\n",
              "      <th>Dropout</th>\n",
              "      <td>0.338156</td>\n",
              "    </tr>\n",
              "    <tr>\n",
              "      <th>Enrolled</th>\n",
              "      <td>0.179476</td>\n",
              "    </tr>\n",
              "  </tbody>\n",
              "</table>\n",
              "</div><br><label><b>dtype:</b> float64</label>"
            ]
          },
          "metadata": {},
          "execution_count": 62
        }
      ]
    },
    {
      "cell_type": "markdown",
      "source": [
        "... and the relative target level percentages have been maintained in the training and testing sets\n",
        "\n",
        "(I used the PCA dataset to illustrate that we kept the right percentages of each Target class -- it will be true in the original and normalized datasets, as well)"
      ],
      "metadata": {
        "id": "ABzD1M6IoHGw"
      }
    },
    {
      "cell_type": "code",
      "source": [
        "print('Training relative %ages:\\n', y_train_pca.value_counts()/y_train_pca.shape[0],'\\n\\n', 'Testing relative %ages:\\n', y_test_pca.value_counts()/y_test_pca.shape[0])"
      ],
      "metadata": {
        "colab": {
          "base_uri": "https://localhost:8080/"
        },
        "id": "GM0BCv4nm66L",
        "outputId": "9bdf7048-f592-4996-dced-3f9c9f16aef9"
      },
      "execution_count": null,
      "outputs": [
        {
          "output_type": "stream",
          "name": "stdout",
          "text": [
            "Training relative %ages:\n",
            " Target\n",
            "Graduate    0.482340\n",
            "Dropout     0.338231\n",
            "Enrolled    0.179429\n",
            "Name: count, dtype: float64 \n",
            "\n",
            " Testing relative %ages:\n",
            " Target\n",
            "Graduate    0.482486\n",
            "Dropout     0.337853\n",
            "Enrolled    0.179661\n",
            "Name: count, dtype: float64\n"
          ]
        }
      ]
    },
    {
      "cell_type": "markdown",
      "source": [
        "# K-nearest Neighbors Model (KNN)\n",
        "\n",
        "\n"
      ],
      "metadata": {
        "id": "Xe12i4yQ2U1N"
      }
    },
    {
      "cell_type": "markdown",
      "source": [
        "Baseline model, using our NORMALIZED (original) dataset"
      ],
      "metadata": {
        "id": "fXFRiwC-5LAF"
      }
    },
    {
      "cell_type": "code",
      "source": [
        "from sklearn.metrics import accuracy_score\n",
        "\n",
        "knn_model = KNeighborsClassifier()\n",
        "knn_model.fit(X_train_normalized, y_train_normalized)\n",
        "\n",
        "y_train_pred = knn_model.predict(X_train_normalized)\n",
        "y_test_pred = knn_model.predict(X_test_normalized)\n",
        "\n",
        "print(f\"Train acc: {round(accuracy_score(y_train_normalized, y_train_pred), 3)}\")\n",
        "print(f\"Test acc:  {round(accuracy_score(y_test_normalized, y_test_pred), 3)}\")\n"
      ],
      "metadata": {
        "colab": {
          "base_uri": "https://localhost:8080/"
        },
        "id": "Vop3PLv12cAG",
        "outputId": "e06fe7f3-e5eb-485d-bc97-ebce3d71667c"
      },
      "execution_count": null,
      "outputs": [
        {
          "output_type": "stream",
          "name": "stdout",
          "text": [
            "Train acc: 0.817\n",
            "Test acc:  0.755\n"
          ]
        }
      ]
    },
    {
      "cell_type": "markdown",
      "source": [
        "... and now to tune for the proper number of neighbors (optimal k)"
      ],
      "metadata": {
        "id": "0jxr_gCt_ZeE"
      }
    },
    {
      "cell_type": "code",
      "source": [
        "train_acc = []\n",
        "test_acc = []\n",
        "\n",
        "for k in range(15, 30):\n",
        "    knn_model = KNeighborsClassifier(n_neighbors=k)\n",
        "    knn_model.fit(X_train_normalized, y_train_normalized)\n",
        "\n",
        "    y_train_pred = knn_model.predict(X_train_normalized)\n",
        "    y_test_pred = knn_model.predict(X_test_normalized)\n",
        "\n",
        "\n",
        "    print(f\"K : {k}\")\n",
        "    print(f\"Train acc: {round(accuracy_score(y_train_normalized, y_train_pred), 3)}\")\n",
        "    print(f\"Test acc:  {round(accuracy_score(y_test_normalized, y_test_pred), 3)}\")\n",
        "    print(\"=\"*50)\n",
        "\n",
        "    train_acc.append(accuracy_score(y_train_normalized, y_train_pred))\n",
        "    test_acc.append(accuracy_score(y_test_normalized, y_test_pred))"
      ],
      "metadata": {
        "colab": {
          "base_uri": "https://localhost:8080/"
        },
        "id": "wEz18niJ2ouq",
        "outputId": "8504d4c4-ae6b-400a-ffc1-9ac96706b238"
      },
      "execution_count": null,
      "outputs": [
        {
          "output_type": "stream",
          "name": "stdout",
          "text": [
            "K : 15\n",
            "Train acc: 0.766\n",
            "Test acc:  0.767\n",
            "==================================================\n",
            "K : 16\n",
            "Train acc: 0.767\n",
            "Test acc:  0.767\n",
            "==================================================\n",
            "K : 17\n",
            "Train acc: 0.763\n",
            "Test acc:  0.764\n",
            "==================================================\n",
            "K : 18\n",
            "Train acc: 0.761\n",
            "Test acc:  0.764\n",
            "==================================================\n",
            "K : 19\n",
            "Train acc: 0.76\n",
            "Test acc:  0.759\n",
            "==================================================\n",
            "K : 20\n",
            "Train acc: 0.757\n",
            "Test acc:  0.756\n",
            "==================================================\n",
            "K : 21\n",
            "Train acc: 0.758\n",
            "Test acc:  0.763\n",
            "==================================================\n",
            "K : 22\n",
            "Train acc: 0.754\n",
            "Test acc:  0.759\n",
            "==================================================\n",
            "K : 23\n",
            "Train acc: 0.757\n",
            "Test acc:  0.757\n",
            "==================================================\n",
            "K : 24\n",
            "Train acc: 0.753\n",
            "Test acc:  0.756\n",
            "==================================================\n",
            "K : 25\n",
            "Train acc: 0.754\n",
            "Test acc:  0.762\n",
            "==================================================\n",
            "K : 26\n",
            "Train acc: 0.752\n",
            "Test acc:  0.763\n",
            "==================================================\n",
            "K : 27\n",
            "Train acc: 0.75\n",
            "Test acc:  0.758\n",
            "==================================================\n",
            "K : 28\n",
            "Train acc: 0.749\n",
            "Test acc:  0.754\n",
            "==================================================\n",
            "K : 29\n",
            "Train acc: 0.747\n",
            "Test acc:  0.753\n",
            "==================================================\n"
          ]
        }
      ]
    },
    {
      "cell_type": "markdown",
      "source": [
        "seems like k=20 to k=22 might be warranted\n",
        "\n",
        "1.   List item\n",
        "2.   List item\n",
        "\n"
      ],
      "metadata": {
        "id": "um93tsgk63Zm"
      }
    },
    {
      "cell_type": "markdown",
      "source": [
        "and now KNN baseline and tuning on our PCA dataset"
      ],
      "metadata": {
        "id": "hc4ejmK25f_1"
      }
    },
    {
      "cell_type": "code",
      "source": [
        "from sklearn.metrics import accuracy_score\n",
        "\n",
        "knn_model = KNeighborsClassifier()\n",
        "knn_model.fit(X_train_pca, y_train_pca)\n",
        "\n",
        "y_train_pred = knn_model.predict(X_train_pca)\n",
        "y_test_pred = knn_model.predict(X_test_pca)\n",
        "\n",
        "print(f\"Train acc: {round(accuracy_score(y_train_pca, y_train_pred), 3)}\")\n",
        "print(f\"Test acc:  {round(accuracy_score(y_test_pca, y_test_pred), 3)}\")\n"
      ],
      "metadata": {
        "colab": {
          "base_uri": "https://localhost:8080/"
        },
        "id": "nIV8FIFXm62u",
        "outputId": "f046315f-db18-4218-9396-84e9180ff2fe"
      },
      "execution_count": null,
      "outputs": [
        {
          "output_type": "stream",
          "name": "stdout",
          "text": [
            "Train acc: 0.815\n",
            "Test acc:  0.757\n"
          ]
        }
      ]
    },
    {
      "cell_type": "code",
      "source": [
        "train_acc = []\n",
        "test_acc = []\n",
        "\n",
        "for k in range(15, 30):\n",
        "    knn_model = KNeighborsClassifier(n_neighbors=k)\n",
        "    knn_model.fit(X_train_pca, y_train_pca)\n",
        "\n",
        "    y_train_pred = knn_model.predict(X_train_pca)\n",
        "    y_test_pred = knn_model.predict(X_test_pca)\n",
        "\n",
        "\n",
        "    print(f\"K : {k}\")\n",
        "    print(f\"Train acc: {round(accuracy_score(y_train_pca, y_train_pred), 3)}\")\n",
        "    print(f\"Test acc:  {round(accuracy_score(y_test_pca, y_test_pred), 3)}\")\n",
        "    print(\"=\"*50)\n",
        "\n",
        "    train_acc.append(accuracy_score(y_train_pca, y_train_pred))\n",
        "    test_acc.append(accuracy_score(y_test_pca, y_test_pred))"
      ],
      "metadata": {
        "colab": {
          "base_uri": "https://localhost:8080/"
        },
        "id": "XPls6UC0p1Ug",
        "outputId": "b3d6393a-f117-4bb3-a496-5bfa2970ecce"
      },
      "execution_count": null,
      "outputs": [
        {
          "output_type": "stream",
          "name": "stdout",
          "text": [
            "K : 15\n",
            "Train acc: 0.767\n",
            "Test acc:  0.773\n",
            "==================================================\n",
            "K : 16\n",
            "Train acc: 0.765\n",
            "Test acc:  0.775\n",
            "==================================================\n",
            "K : 17\n",
            "Train acc: 0.767\n",
            "Test acc:  0.773\n",
            "==================================================\n",
            "K : 18\n",
            "Train acc: 0.765\n",
            "Test acc:  0.771\n",
            "==================================================\n",
            "K : 19\n",
            "Train acc: 0.763\n",
            "Test acc:  0.774\n",
            "==================================================\n",
            "K : 20\n",
            "Train acc: 0.758\n",
            "Test acc:  0.771\n",
            "==================================================\n",
            "K : 21\n",
            "Train acc: 0.759\n",
            "Test acc:  0.765\n",
            "==================================================\n",
            "K : 22\n",
            "Train acc: 0.762\n",
            "Test acc:  0.767\n",
            "==================================================\n",
            "K : 23\n",
            "Train acc: 0.757\n",
            "Test acc:  0.769\n",
            "==================================================\n",
            "K : 24\n",
            "Train acc: 0.756\n",
            "Test acc:  0.771\n",
            "==================================================\n",
            "K : 25\n",
            "Train acc: 0.753\n",
            "Test acc:  0.768\n",
            "==================================================\n",
            "K : 26\n",
            "Train acc: 0.754\n",
            "Test acc:  0.764\n",
            "==================================================\n",
            "K : 27\n",
            "Train acc: 0.754\n",
            "Test acc:  0.763\n",
            "==================================================\n",
            "K : 28\n",
            "Train acc: 0.752\n",
            "Test acc:  0.764\n",
            "==================================================\n",
            "K : 29\n",
            "Train acc: 0.751\n",
            "Test acc:  0.763\n",
            "==================================================\n"
          ]
        }
      ]
    },
    {
      "cell_type": "markdown",
      "source": [
        "It seems like k=22 neighbors might do"
      ],
      "metadata": {
        "id": "WGo7hz-56c4z"
      }
    },
    {
      "cell_type": "markdown",
      "source": [
        "what to try next?  Decision Tree?  SVM?  Random Forest?"
      ],
      "metadata": {
        "id": "Zl1OVDwStNBq"
      }
    },
    {
      "cell_type": "markdown",
      "source": [
        "# Decision Tree Model"
      ],
      "metadata": {
        "id": "iCzg330kuwuL"
      }
    },
    {
      "cell_type": "markdown",
      "source": [
        "first, on our original dataset..."
      ],
      "metadata": {
        "id": "D0TFJeA87Ihe"
      }
    },
    {
      "cell_type": "code",
      "source": [
        "model = DecisionTreeClassifier()\n",
        "model.fit(X_train, y_train)\n",
        "\n",
        "train_pred = model.predict(X_train)\n",
        "test_pred = model.predict(X_test)\n",
        "\n",
        "print(f\"Training Accuracy: {accuracy_score(y_train, train_pred)}\")\n",
        "print(f\"Testing Accuracy: {accuracy_score(y_test, test_pred)}\")"
      ],
      "metadata": {
        "colab": {
          "base_uri": "https://localhost:8080/"
        },
        "id": "o6PiWP_MM5HA",
        "outputId": "3049ece1-a66a-4682-d6e5-9d90bb292e2a"
      },
      "execution_count": null,
      "outputs": [
        {
          "output_type": "stream",
          "name": "stdout",
          "text": [
            "Training Accuracy: 1.0\n",
            "Testing Accuracy: 0.7084745762711865\n"
          ]
        }
      ]
    },
    {
      "cell_type": "code",
      "source": [
        "model = DecisionTreeClassifier(max_depth=5, criterion='entropy')\n",
        "model.fit(X_train, y_train)\n",
        "\n",
        "train_pred = model.predict(X_train)\n",
        "test_pred = model.predict(X_test)\n",
        "\n",
        "for k in range(1,12):\n",
        "    model = DecisionTreeClassifier(max_depth=k, criterion='entropy')\n",
        "    model.fit(X_train, y_train)\n",
        "\n",
        "    train_pred = model.predict(X_train)\n",
        "    test_pred = model.predict(X_test)\n",
        "    print(f\"K: {k}\")\n",
        "    print(f\"Training Accuracy: {accuracy_score(y_train, train_pred)}\")\n",
        "    print(f\"Testing Accuracy: {accuracy_score(y_test, test_pred)}\")\n",
        "    print(\"=\"*50)"
      ],
      "metadata": {
        "colab": {
          "base_uri": "https://localhost:8080/"
        },
        "id": "z3b8gYMlPSW4",
        "outputId": "aa86caa3-7cf3-40a6-cb98-056cb2676173",
        "collapsed": true
      },
      "execution_count": null,
      "outputs": [
        {
          "output_type": "stream",
          "name": "stdout",
          "text": [
            "K: 1\n",
            "Training Accuracy: 0.7247810115851936\n",
            "Testing Accuracy: 0.7468926553672316\n",
            "==================================================\n",
            "K: 2\n",
            "Training Accuracy: 0.7247810115851936\n",
            "Testing Accuracy: 0.7468926553672316\n",
            "==================================================\n",
            "K: 3\n",
            "Training Accuracy: 0.7374964679287934\n",
            "Testing Accuracy: 0.7559322033898305\n",
            "==================================================\n",
            "K: 4\n",
            "Training Accuracy: 0.7654704718847132\n",
            "Testing Accuracy: 0.7796610169491526\n",
            "==================================================\n",
            "K: 5\n",
            "Training Accuracy: 0.7821418479796552\n",
            "Testing Accuracy: 0.7875706214689265\n",
            "==================================================\n",
            "K: 6\n",
            "Training Accuracy: 0.7920316473580108\n",
            "Testing Accuracy: 0.7887005649717514\n",
            "==================================================\n",
            "K: 7\n",
            "Training Accuracy: 0.8089855891494773\n",
            "Testing Accuracy: 0.7853107344632768\n",
            "==================================================\n",
            "K: 8\n",
            "Training Accuracy: 0.8262220966374683\n",
            "Testing Accuracy: 0.784180790960452\n",
            "==================================================\n",
            "K: 9\n",
            "Training Accuracy: 0.8468493924837525\n",
            "Testing Accuracy: 0.7638418079096045\n",
            "==================================================\n",
            "K: 10\n",
            "Training Accuracy: 0.8739756993500989\n",
            "Testing Accuracy: 0.7649717514124293\n",
            "==================================================\n",
            "K: 11\n",
            "Training Accuracy: 0.8968635207685787\n",
            "Testing Accuracy: 0.7536723163841808\n",
            "==================================================\n"
          ]
        }
      ]
    },
    {
      "cell_type": "markdown",
      "source": [
        "Seems like we'd want a depth of n=5 for our original dataset\n",
        "\n",
        "Now, let's run a decision tree model on our PCA dataset...\n",
        "\n"
      ],
      "metadata": {
        "id": "IPtoBtAV753Q"
      }
    },
    {
      "cell_type": "code",
      "source": [
        "model = DecisionTreeClassifier()\n",
        "model.fit(X_train_pca, y_train_pca)\n",
        "\n",
        "train_pred = model.predict(X_train_pca)\n",
        "test_pred = model.predict(X_test_pca)\n",
        "\n",
        "print(f\"Training Accuracy: {accuracy_score(y_train_pca, train_pred)}\")\n",
        "print(f\"Testing Accuracy: {accuracy_score(y_test_pca, test_pred)}\")"
      ],
      "metadata": {
        "colab": {
          "base_uri": "https://localhost:8080/"
        },
        "id": "2RQRJg-Y8UpV",
        "outputId": "910b1813-ec33-43d1-d284-30fec316264e"
      },
      "execution_count": null,
      "outputs": [
        {
          "output_type": "stream",
          "name": "stdout",
          "text": [
            "Training Accuracy: 1.0\n",
            "Testing Accuracy: 0.6768361581920904\n"
          ]
        }
      ]
    },
    {
      "cell_type": "markdown",
      "source": [
        "Now tune for the right depth"
      ],
      "metadata": {
        "id": "CWPkts33_6gg"
      }
    },
    {
      "cell_type": "code",
      "source": [
        "model = DecisionTreeClassifier(max_depth=5, criterion='entropy')\n",
        "model.fit(X_train_pca, y_train_pca)\n",
        "\n",
        "train_pred = model.predict(X_train_pca)\n",
        "test_pred = model.predict(X_test_pca)\n",
        "\n",
        "for k in range(1,12):\n",
        "    model = DecisionTreeClassifier(max_depth=k, criterion='entropy')\n",
        "    model.fit(X_train_pca, y_train_pca)\n",
        "\n",
        "    train_pred = model.predict(X_train_pca)\n",
        "    test_pred = model.predict(X_test_pca)\n",
        "    print(f\"K: {k}\")\n",
        "    print(f\"Training Accuracy: {accuracy_score(y_train_pca, train_pred)}\")\n",
        "    print(f\"Testing Accuracy: {accuracy_score(y_test_pca, test_pred)}\")\n",
        "    print(\"=\"*50)"
      ],
      "metadata": {
        "colab": {
          "base_uri": "https://localhost:8080/"
        },
        "id": "s1MXib0R8Ul3",
        "outputId": "b13c8dfb-d847-4031-85ee-346e8986028e"
      },
      "execution_count": null,
      "outputs": [
        {
          "output_type": "stream",
          "name": "stdout",
          "text": [
            "K: 1\n",
            "Training Accuracy: 0.7259112743712913\n",
            "Testing Accuracy: 0.7435028248587571\n",
            "==================================================\n",
            "K: 2\n",
            "Training Accuracy: 0.7259112743712913\n",
            "Testing Accuracy: 0.7435028248587571\n",
            "==================================================\n",
            "K: 3\n",
            "Training Accuracy: 0.7420175190731845\n",
            "Testing Accuracy: 0.7672316384180791\n",
            "==================================================\n",
            "K: 4\n",
            "Training Accuracy: 0.7516247527550155\n",
            "Testing Accuracy: 0.7661016949152543\n",
            "==================================================\n",
            "K: 5\n",
            "Training Accuracy: 0.7685786945464821\n",
            "Testing Accuracy: 0.7661016949152543\n",
            "==================================================\n",
            "K: 6\n",
            "Training Accuracy: 0.785815202034473\n",
            "Testing Accuracy: 0.7412429378531074\n",
            "==================================================\n",
            "K: 7\n",
            "Training Accuracy: 0.815202034473015\n",
            "Testing Accuracy: 0.7457627118644068\n",
            "==================================================\n",
            "K: 8\n",
            "Training Accuracy: 0.8460016953941791\n",
            "Testing Accuracy: 0.7220338983050848\n",
            "==================================================\n",
            "K: 9\n",
            "Training Accuracy: 0.8779316191014411\n",
            "Testing Accuracy: 0.7220338983050848\n",
            "==================================================\n",
            "K: 10\n",
            "Training Accuracy: 0.9059056230573609\n",
            "Testing Accuracy: 0.7096045197740113\n",
            "==================================================\n",
            "K: 11\n",
            "Training Accuracy: 0.9299237072619384\n",
            "Testing Accuracy: 0.6971751412429379\n",
            "==================================================\n"
          ]
        }
      ]
    },
    {
      "cell_type": "markdown",
      "source": [
        "seems like we might use n=4 for our depth...\n",
        "\n",
        "... but notice that the accuracy score has dropped from 76% to 73%.\n"
      ],
      "metadata": {
        "id": "CoSwSRhf881-"
      }
    },
    {
      "cell_type": "code",
      "source": [
        "from sklearn.metrics import ConfusionMatrixDisplay\n",
        "cm=confusion_matrix(y_test_pca, test_pred)/len(y_test_pca)\n",
        "ConfusionMatrixDisplay(confusion_matrix=cm, display_labels=model.classes_).plot()\n"
      ],
      "metadata": {
        "colab": {
          "base_uri": "https://localhost:8080/",
          "height": 466
        },
        "id": "78ikjK25AtWt",
        "outputId": "aa3f5ed6-08ac-4fa6-a0a4-60ca7b1c1fbb"
      },
      "execution_count": null,
      "outputs": [
        {
          "output_type": "execute_result",
          "data": {
            "text/plain": [
              "<sklearn.metrics._plot.confusion_matrix.ConfusionMatrixDisplay at 0x798e9a9ef0d0>"
            ]
          },
          "metadata": {},
          "execution_count": 72
        },
        {
          "output_type": "display_data",
          "data": {
            "text/plain": [
              "<Figure size 640x480 with 2 Axes>"
            ],
            "image/png": "[encoded data removed]"
          },
          "metadata": {}
        }
      ]
    },
    {
      "cell_type": "code",
      "source": [
        "y_test_pca.value_counts()"
      ],
      "metadata": {
        "colab": {
          "base_uri": "https://localhost:8080/",
          "height": 209
        },
        "id": "TU9F1e7cBWdB",
        "outputId": "e0ba35be-dfca-41aa-8cb9-e1d876154f05"
      },
      "execution_count": null,
      "outputs": [
        {
          "output_type": "execute_result",
          "data": {
            "text/plain": [
              "Target\n",
              "Graduate    427\n",
              "Dropout     299\n",
              "Enrolled    159\n",
              "Name: count, dtype: int64"
            ],
            "text/html": [
              "<div>\n",
              "<style scoped>\n",
              "    .dataframe tbody tr th:only-of-type {\n",
              "        vertical-align: middle;\n",
              "    }\n",
              "\n",
              "    .dataframe tbody tr th {\n",
              "        vertical-align: top;\n",
              "    }\n",
              "\n",
              "    .dataframe thead th {\n",
              "        text-align: right;\n",
              "    }\n",
              "</style>\n",
              "<table border=\"1\" class=\"dataframe\">\n",
              "  <thead>\n",
              "    <tr style=\"text-align: right;\">\n",
              "      <th></th>\n",
              "      <th>count</th>\n",
              "    </tr>\n",
              "    <tr>\n",
              "      <th>Target</th>\n",
              "      <th></th>\n",
              "    </tr>\n",
              "  </thead>\n",
              "  <tbody>\n",
              "    <tr>\n",
              "      <th>Graduate</th>\n",
              "      <td>427</td>\n",
              "    </tr>\n",
              "    <tr>\n",
              "      <th>Dropout</th>\n",
              "      <td>299</td>\n",
              "    </tr>\n",
              "    <tr>\n",
              "      <th>Enrolled</th>\n",
              "      <td>159</td>\n",
              "    </tr>\n",
              "  </tbody>\n",
              "</table>\n",
              "</div><br><label><b>dtype:</b> int64</label>"
            ]
          },
          "metadata": {},
          "execution_count": 73
        }
      ]
    },
    {
      "cell_type": "code",
      "source": [
        "print(classification_report(y_test_pca, test_pred))"
      ],
      "metadata": {
        "colab": {
          "base_uri": "https://localhost:8080/"
        },
        "id": "20ssJyJBBLZI",
        "outputId": "ad7c78fd-c485-4f39-9b42-75d0a0ff7083"
      },
      "execution_count": null,
      "outputs": [
        {
          "output_type": "stream",
          "name": "stdout",
          "text": [
            "              precision    recall  f1-score   support\n",
            "\n",
            "     Dropout       0.72      0.70      0.71       299\n",
            "    Enrolled       0.33      0.34      0.33       159\n",
            "    Graduate       0.82      0.83      0.82       427\n",
            "\n",
            "    accuracy                           0.70       885\n",
            "   macro avg       0.62      0.62      0.62       885\n",
            "weighted avg       0.70      0.70      0.70       885\n",
            "\n"
          ]
        }
      ]
    },
    {
      "cell_type": "markdown",
      "source": [
        "# Support Vector Machine (SVM) Model"
      ],
      "metadata": {
        "id": "xucUZ_7jVGaz"
      }
    },
    {
      "cell_type": "markdown",
      "source": [
        "First, we'll run an SVM model on our normalized (original) dataset"
      ],
      "metadata": {
        "id": "G7pvybS8Vqzf"
      }
    },
    {
      "cell_type": "code",
      "source": [
        "kernels = ['linear', 'rbf', 'poly', 'sigmoid']\n",
        "\n",
        "for kernel in kernels:\n",
        "\n",
        "    svc_model = SVC(kernel=kernel, random_state=42)\n",
        "    svc_model.fit(X_train_normalized, y_train_normalized)\n",
        "\n",
        "    train_preds = svc_model.predict(X_train_normalized)\n",
        "    test_preds = svc_model.predict(X_test_normalized)\n",
        "\n",
        "    print(\"*\"*50)\n",
        "    print(f\"Kernel: {kernel}\")\n",
        "    print(f\"Train Accuracy: {accuracy_score(y_train_normalized, train_preds)}\")\n",
        "    print(f\"Test Accuracy: {accuracy_score(y_test_normalized, test_preds)}\")\n"
      ],
      "metadata": {
        "colab": {
          "base_uri": "https://localhost:8080/"
        },
        "id": "w6j-GsxsVK31",
        "outputId": "2d1c621d-4e88-48e1-c3bf-3d751b3d738b"
      },
      "execution_count": null,
      "outputs": [
        {
          "output_type": "stream",
          "name": "stdout",
          "text": [
            "**************************************************\n",
            "Kernel: linear\n",
            "Train Accuracy: 0.7846849392483752\n",
            "Test Accuracy: 0.8135593220338984\n",
            "**************************************************\n",
            "Kernel: rbf\n",
            "Train Accuracy: 0.8310257134783837\n",
            "Test Accuracy: 0.7988700564971751\n",
            "**************************************************\n",
            "Kernel: poly\n",
            "Train Accuracy: 0.7962701328058773\n",
            "Test Accuracy: 0.7672316384180791\n",
            "**************************************************\n",
            "Kernel: sigmoid\n",
            "Train Accuracy: 0.6931336535744561\n",
            "Test Accuracy: 0.7186440677966102\n"
          ]
        }
      ]
    },
    {
      "cell_type": "markdown",
      "source": [
        "Bit of an improvement here.  Hopeful.\n",
        "\n",
        "Some parameters to play with, in addition to kernel (see below)"
      ],
      "metadata": {
        "id": "3Gz413f4VzQl"
      }
    },
    {
      "cell_type": "code",
      "source": [
        "svc_model.get_params()"
      ],
      "metadata": {
        "colab": {
          "base_uri": "https://localhost:8080/"
        },
        "id": "4eI8avT-V5dJ",
        "outputId": "a7764866-97b1-4f94-ba76-95677c5376a1"
      },
      "execution_count": null,
      "outputs": [
        {
          "output_type": "execute_result",
          "data": {
            "text/plain": [
              "{'C': 1.0,\n",
              " 'break_ties': False,\n",
              " 'cache_size': 200,\n",
              " 'class_weight': None,\n",
              " 'coef0': 0.0,\n",
              " 'decision_function_shape': 'ovr',\n",
              " 'degree': 3,\n",
              " 'gamma': 'scale',\n",
              " 'kernel': 'sigmoid',\n",
              " 'max_iter': -1,\n",
              " 'probability': False,\n",
              " 'random_state': 42,\n",
              " 'shrinking': True,\n",
              " 'tol': 0.001,\n",
              " 'verbose': False}"
            ]
          },
          "metadata": {},
          "execution_count": 76
        }
      ]
    },
    {
      "cell_type": "code",
      "source": [
        "for kernel in kernels:\n",
        "\n",
        "    svc_model = SVC(kernel=kernel, random_state=42)\n",
        "    svc_model.fit(X_train_pca, y_train_pca)\n",
        "\n",
        "    train_preds = svc_model.predict(X_train_pca)\n",
        "    test_preds = svc_model.predict(X_test_pca)\n",
        "\n",
        "    print(\"*\"*50)\n",
        "    print(f\"kernel: {kernel}\")\n",
        "    print(f\"Train Accuracy: {accuracy_score(y_train_pca, train_preds)}\")\n",
        "    print(f\"Test Accuracy: {accuracy_score(y_test_pca, test_preds)}\")"
      ],
      "metadata": {
        "colab": {
          "base_uri": "https://localhost:8080/"
        },
        "id": "Vj-_BuI2WB03",
        "outputId": "7093565d-27b7-4e94-ce78-c75cbd3d6549"
      },
      "execution_count": null,
      "outputs": [
        {
          "output_type": "stream",
          "name": "stdout",
          "text": [
            "**************************************************\n",
            "kernel: linear\n",
            "Train Accuracy: 0.7697089573325798\n",
            "Test Accuracy: 0.7898305084745763\n",
            "**************************************************\n",
            "kernel: rbf\n",
            "Train Accuracy: 0.8174625600452106\n",
            "Test Accuracy: 0.7943502824858757\n",
            "**************************************************\n",
            "kernel: poly\n",
            "Train Accuracy: 0.7900536874823396\n",
            "Test Accuracy: 0.768361581920904\n",
            "**************************************************\n",
            "kernel: sigmoid\n",
            "Train Accuracy: 0.695676744843176\n",
            "Test Accuracy: 0.6915254237288135\n"
          ]
        }
      ]
    },
    {
      "cell_type": "markdown",
      "source": [
        "SVM still shows improvement over other models.  The PCA dataset has some information loss, so the slight downtick from the original dataset."
      ],
      "metadata": {
        "id": "TP67Dv8Mbkpy"
      }
    },
    {
      "cell_type": "code",
      "source": [
        "from sklearn.model_selection import GridSearchCV\n",
        "\n",
        "svm = SVC()\n",
        "\n",
        "param_grid = {'C': [0.01, 0.1, 1, 10, 100],\n",
        "              'gamma': [1, 0.1, 0.01, 0.001],\n",
        "              'kernel': ['rbf', 'linear']\n",
        "            }\n",
        "\n",
        "grid = GridSearchCV(svm, param_grid, verbose=2)\n",
        "\n",
        "grid.fit(X_train_pca, y_train_pca)"
      ],
      "metadata": {
        "colab": {
          "base_uri": "https://localhost:8080/",
          "height": 1000
        },
        "id": "F7B6ktcogDHe",
        "outputId": "535c5fd3-5954-41c1-cdb4-163014f32d2c"
      },
      "execution_count": null,
      "outputs": [
        {
          "output_type": "stream",
          "name": "stdout",
          "text": [
            "Fitting 5 folds for each of 40 candidates, totalling 200 fits\n",
            "[CV] END ........................C=0.01, gamma=1, kernel=rbf; total time=   1.3s\n",
            "[CV] END ........................C=0.01, gamma=1, kernel=rbf; total time=   1.2s\n",
            "[CV] END ........................C=0.01, gamma=1, kernel=rbf; total time=   0.8s\n",
            "[CV] END ........................C=0.01, gamma=1, kernel=rbf; total time=   0.8s\n",
            "[CV] END ........................C=0.01, gamma=1, kernel=rbf; total time=   0.8s\n",
            "[CV] END .....................C=0.01, gamma=1, kernel=linear; total time=   0.2s\n",
            "[CV] END .....................C=0.01, gamma=1, kernel=linear; total time=   0.2s\n",
            "[CV] END .....................C=0.01, gamma=1, kernel=linear; total time=   0.2s\n",
            "[CV] END .....................C=0.01, gamma=1, kernel=linear; total time=   0.2s\n",
            "[CV] END .....................C=0.01, gamma=1, kernel=linear; total time=   0.2s\n",
            "[CV] END ......................C=0.01, gamma=0.1, kernel=rbf; total time=   0.6s\n",
            "[CV] END ......................C=0.01, gamma=0.1, kernel=rbf; total time=   0.6s\n",
            "[CV] END ......................C=0.01, gamma=0.1, kernel=rbf; total time=   0.6s\n",
            "[CV] END ......................C=0.01, gamma=0.1, kernel=rbf; total time=   0.6s\n",
            "[CV] END ......................C=0.01, gamma=0.1, kernel=rbf; total time=   0.6s\n",
            "[CV] END ...................C=0.01, gamma=0.1, kernel=linear; total time=   0.2s\n",
            "[CV] END ...................C=0.01, gamma=0.1, kernel=linear; total time=   0.2s\n",
            "[CV] END ...................C=0.01, gamma=0.1, kernel=linear; total time=   0.2s\n",
            "[CV] END ...................C=0.01, gamma=0.1, kernel=linear; total time=   0.2s\n",
            "[CV] END ...................C=0.01, gamma=0.1, kernel=linear; total time=   0.2s\n",
            "[CV] END .....................C=0.01, gamma=0.01, kernel=rbf; total time=   0.5s\n",
            "[CV] END .....................C=0.01, gamma=0.01, kernel=rbf; total time=   0.5s\n",
            "[CV] END .....................C=0.01, gamma=0.01, kernel=rbf; total time=   0.5s\n",
            "[CV] END .....................C=0.01, gamma=0.01, kernel=rbf; total time=   0.5s\n",
            "[CV] END .....................C=0.01, gamma=0.01, kernel=rbf; total time=   0.5s\n",
            "[CV] END ..................C=0.01, gamma=0.01, kernel=linear; total time=   0.4s\n",
            "[CV] END ..................C=0.01, gamma=0.01, kernel=linear; total time=   0.4s\n",
            "[CV] END ..................C=0.01, gamma=0.01, kernel=linear; total time=   0.4s\n",
            "[CV] END ..................C=0.01, gamma=0.01, kernel=linear; total time=   0.4s\n",
            "[CV] END ..................C=0.01, gamma=0.01, kernel=linear; total time=   0.4s\n",
            "[CV] END ....................C=0.01, gamma=0.001, kernel=rbf; total time=   0.9s\n",
            "[CV] END ....................C=0.01, gamma=0.001, kernel=rbf; total time=   0.9s\n",
            "[CV] END ....................C=0.01, gamma=0.001, kernel=rbf; total time=   0.6s\n",
            "[CV] END ....................C=0.01, gamma=0.001, kernel=rbf; total time=   0.6s\n",
            "[CV] END ....................C=0.01, gamma=0.001, kernel=rbf; total time=   0.6s\n",
            "[CV] END .................C=0.01, gamma=0.001, kernel=linear; total time=   0.2s\n",
            "[CV] END .................C=0.01, gamma=0.001, kernel=linear; total time=   0.2s\n",
            "[CV] END .................C=0.01, gamma=0.001, kernel=linear; total time=   0.2s\n",
            "[CV] END .................C=0.01, gamma=0.001, kernel=linear; total time=   0.2s\n",
            "[CV] END .................C=0.01, gamma=0.001, kernel=linear; total time=   0.2s\n",
            "[CV] END .........................C=0.1, gamma=1, kernel=rbf; total time=   0.8s\n",
            "[CV] END .........................C=0.1, gamma=1, kernel=rbf; total time=   0.8s\n",
            "[CV] END .........................C=0.1, gamma=1, kernel=rbf; total time=   0.8s\n",
            "[CV] END .........................C=0.1, gamma=1, kernel=rbf; total time=   0.8s\n",
            "[CV] END .........................C=0.1, gamma=1, kernel=rbf; total time=   0.8s\n",
            "[CV] END ......................C=0.1, gamma=1, kernel=linear; total time=   0.2s\n",
            "[CV] END ......................C=0.1, gamma=1, kernel=linear; total time=   0.2s\n",
            "[CV] END ......................C=0.1, gamma=1, kernel=linear; total time=   0.2s\n",
            "[CV] END ......................C=0.1, gamma=1, kernel=linear; total time=   0.2s\n",
            "[CV] END ......................C=0.1, gamma=1, kernel=linear; total time=   0.2s\n",
            "[CV] END .......................C=0.1, gamma=0.1, kernel=rbf; total time=   0.6s\n",
            "[CV] END .......................C=0.1, gamma=0.1, kernel=rbf; total time=   0.5s\n",
            "[CV] END .......................C=0.1, gamma=0.1, kernel=rbf; total time=   0.5s\n",
            "[CV] END .......................C=0.1, gamma=0.1, kernel=rbf; total time=   0.6s\n",
            "[CV] END .......................C=0.1, gamma=0.1, kernel=rbf; total time=   0.9s\n",
            "[CV] END ....................C=0.1, gamma=0.1, kernel=linear; total time=   0.4s\n",
            "[CV] END ....................C=0.1, gamma=0.1, kernel=linear; total time=   0.4s\n",
            "[CV] END ....................C=0.1, gamma=0.1, kernel=linear; total time=   0.4s\n",
            "[CV] END ....................C=0.1, gamma=0.1, kernel=linear; total time=   0.4s\n",
            "[CV] END ....................C=0.1, gamma=0.1, kernel=linear; total time=   0.4s\n",
            "[CV] END ......................C=0.1, gamma=0.01, kernel=rbf; total time=   0.6s\n",
            "[CV] END ......................C=0.1, gamma=0.01, kernel=rbf; total time=   0.4s\n",
            "[CV] END ......................C=0.1, gamma=0.01, kernel=rbf; total time=   0.4s\n",
            "[CV] END ......................C=0.1, gamma=0.01, kernel=rbf; total time=   0.4s\n",
            "[CV] END ......................C=0.1, gamma=0.01, kernel=rbf; total time=   0.4s\n",
            "[CV] END ...................C=0.1, gamma=0.01, kernel=linear; total time=   0.2s\n",
            "[CV] END ...................C=0.1, gamma=0.01, kernel=linear; total time=   0.2s\n",
            "[CV] END ...................C=0.1, gamma=0.01, kernel=linear; total time=   0.2s\n",
            "[CV] END ...................C=0.1, gamma=0.01, kernel=linear; total time=   0.2s\n",
            "[CV] END ...................C=0.1, gamma=0.01, kernel=linear; total time=   0.2s\n",
            "[CV] END .....................C=0.1, gamma=0.001, kernel=rbf; total time=   0.5s\n",
            "[CV] END .....................C=0.1, gamma=0.001, kernel=rbf; total time=   0.4s\n",
            "[CV] END .....................C=0.1, gamma=0.001, kernel=rbf; total time=   0.5s\n",
            "[CV] END .....................C=0.1, gamma=0.001, kernel=rbf; total time=   0.5s\n",
            "[CV] END .....................C=0.1, gamma=0.001, kernel=rbf; total time=   0.5s\n",
            "[CV] END ..................C=0.1, gamma=0.001, kernel=linear; total time=   0.2s\n",
            "[CV] END ..................C=0.1, gamma=0.001, kernel=linear; total time=   0.2s\n",
            "[CV] END ..................C=0.1, gamma=0.001, kernel=linear; total time=   0.2s\n",
            "[CV] END ..................C=0.1, gamma=0.001, kernel=linear; total time=   0.2s\n",
            "[CV] END ..................C=0.1, gamma=0.001, kernel=linear; total time=   0.3s\n",
            "[CV] END ...........................C=1, gamma=1, kernel=rbf; total time=   0.8s\n",
            "[CV] END ...........................C=1, gamma=1, kernel=rbf; total time=   0.8s\n",
            "[CV] END ...........................C=1, gamma=1, kernel=rbf; total time=   0.9s\n",
            "[CV] END ...........................C=1, gamma=1, kernel=rbf; total time=   0.9s\n",
            "[CV] END ...........................C=1, gamma=1, kernel=rbf; total time=   1.2s\n",
            "[CV] END ........................C=1, gamma=1, kernel=linear; total time=   0.9s\n",
            "[CV] END ........................C=1, gamma=1, kernel=linear; total time=   0.8s\n",
            "[CV] END ........................C=1, gamma=1, kernel=linear; total time=   0.9s\n",
            "[CV] END ........................C=1, gamma=1, kernel=linear; total time=   0.6s\n",
            "[CV] END ........................C=1, gamma=1, kernel=linear; total time=   0.5s\n",
            "[CV] END .........................C=1, gamma=0.1, kernel=rbf; total time=   0.5s\n",
            "[CV] END .........................C=1, gamma=0.1, kernel=rbf; total time=   0.5s\n",
            "[CV] END .........................C=1, gamma=0.1, kernel=rbf; total time=   0.5s\n",
            "[CV] END .........................C=1, gamma=0.1, kernel=rbf; total time=   0.5s\n",
            "[CV] END .........................C=1, gamma=0.1, kernel=rbf; total time=   0.5s\n",
            "[CV] END ......................C=1, gamma=0.1, kernel=linear; total time=   0.5s\n",
            "[CV] END ......................C=1, gamma=0.1, kernel=linear; total time=   0.5s\n",
            "[CV] END ......................C=1, gamma=0.1, kernel=linear; total time=   0.5s\n",
            "[CV] END ......................C=1, gamma=0.1, kernel=linear; total time=   0.5s\n",
            "[CV] END ......................C=1, gamma=0.1, kernel=linear; total time=   0.5s\n",
            "[CV] END ........................C=1, gamma=0.01, kernel=rbf; total time=   0.3s\n",
            "[CV] END ........................C=1, gamma=0.01, kernel=rbf; total time=   0.3s\n",
            "[CV] END ........................C=1, gamma=0.01, kernel=rbf; total time=   0.3s\n",
            "[CV] END ........................C=1, gamma=0.01, kernel=rbf; total time=   0.3s\n",
            "[CV] END ........................C=1, gamma=0.01, kernel=rbf; total time=   0.3s\n",
            "[CV] END .....................C=1, gamma=0.01, kernel=linear; total time=   0.5s\n",
            "[CV] END .....................C=1, gamma=0.01, kernel=linear; total time=   0.5s\n",
            "[CV] END .....................C=1, gamma=0.01, kernel=linear; total time=   0.5s\n",
            "[CV] END .....................C=1, gamma=0.01, kernel=linear; total time=   0.5s\n",
            "[CV] END .....................C=1, gamma=0.01, kernel=linear; total time=   0.8s\n",
            "[CV] END .......................C=1, gamma=0.001, kernel=rbf; total time=   0.6s\n",
            "[CV] END .......................C=1, gamma=0.001, kernel=rbf; total time=   0.6s\n",
            "[CV] END .......................C=1, gamma=0.001, kernel=rbf; total time=   0.6s\n",
            "[CV] END .......................C=1, gamma=0.001, kernel=rbf; total time=   0.6s\n",
            "[CV] END .......................C=1, gamma=0.001, kernel=rbf; total time=   0.5s\n",
            "[CV] END ....................C=1, gamma=0.001, kernel=linear; total time=   0.5s\n",
            "[CV] END ....................C=1, gamma=0.001, kernel=linear; total time=   0.5s\n",
            "[CV] END ....................C=1, gamma=0.001, kernel=linear; total time=   0.5s\n",
            "[CV] END ....................C=1, gamma=0.001, kernel=linear; total time=   0.5s\n",
            "[CV] END ....................C=1, gamma=0.001, kernel=linear; total time=   0.5s\n",
            "[CV] END ..........................C=10, gamma=1, kernel=rbf; total time=   0.8s\n",
            "[CV] END ..........................C=10, gamma=1, kernel=rbf; total time=   0.8s\n",
            "[CV] END ..........................C=10, gamma=1, kernel=rbf; total time=   0.8s\n",
            "[CV] END ..........................C=10, gamma=1, kernel=rbf; total time=   0.8s\n",
            "[CV] END ..........................C=10, gamma=1, kernel=rbf; total time=   0.8s\n",
            "[CV] END .......................C=10, gamma=1, kernel=linear; total time=   3.1s\n",
            "[CV] END .......................C=10, gamma=1, kernel=linear; total time=   3.9s\n",
            "[CV] END .......................C=10, gamma=1, kernel=linear; total time=   3.1s\n",
            "[CV] END .......................C=10, gamma=1, kernel=linear; total time=   2.6s\n",
            "[CV] END .......................C=10, gamma=1, kernel=linear; total time=   2.7s\n",
            "[CV] END ........................C=10, gamma=0.1, kernel=rbf; total time=   0.8s\n",
            "[CV] END ........................C=10, gamma=0.1, kernel=rbf; total time=   0.9s\n",
            "[CV] END ........................C=10, gamma=0.1, kernel=rbf; total time=   1.2s\n",
            "[CV] END ........................C=10, gamma=0.1, kernel=rbf; total time=   1.2s\n",
            "[CV] END ........................C=10, gamma=0.1, kernel=rbf; total time=   0.9s\n",
            "[CV] END .....................C=10, gamma=0.1, kernel=linear; total time=   3.4s\n",
            "[CV] END .....................C=10, gamma=0.1, kernel=linear; total time=   3.6s\n",
            "[CV] END .....................C=10, gamma=0.1, kernel=linear; total time=   3.4s\n",
            "[CV] END .....................C=10, gamma=0.1, kernel=linear; total time=   3.7s\n",
            "[CV] END .....................C=10, gamma=0.1, kernel=linear; total time=   2.8s\n",
            "[CV] END .......................C=10, gamma=0.01, kernel=rbf; total time=   0.4s\n",
            "[CV] END .......................C=10, gamma=0.01, kernel=rbf; total time=   0.4s\n",
            "[CV] END .......................C=10, gamma=0.01, kernel=rbf; total time=   0.3s\n",
            "[CV] END .......................C=10, gamma=0.01, kernel=rbf; total time=   0.3s\n",
            "[CV] END .......................C=10, gamma=0.01, kernel=rbf; total time=   0.3s\n",
            "[CV] END ....................C=10, gamma=0.01, kernel=linear; total time=   3.1s\n",
            "[CV] END ....................C=10, gamma=0.01, kernel=linear; total time=   3.2s\n",
            "[CV] END ....................C=10, gamma=0.01, kernel=linear; total time=   3.8s\n",
            "[CV] END ....................C=10, gamma=0.01, kernel=linear; total time=   2.6s\n",
            "[CV] END ....................C=10, gamma=0.01, kernel=linear; total time=   2.7s\n",
            "[CV] END ......................C=10, gamma=0.001, kernel=rbf; total time=   0.3s\n",
            "[CV] END ......................C=10, gamma=0.001, kernel=rbf; total time=   0.3s\n",
            "[CV] END ......................C=10, gamma=0.001, kernel=rbf; total time=   0.3s\n",
            "[CV] END ......................C=10, gamma=0.001, kernel=rbf; total time=   0.3s\n",
            "[CV] END ......................C=10, gamma=0.001, kernel=rbf; total time=   0.3s\n",
            "[CV] END ...................C=10, gamma=0.001, kernel=linear; total time=   4.3s\n",
            "[CV] END ...................C=10, gamma=0.001, kernel=linear; total time=   2.6s\n",
            "[CV] END ...................C=10, gamma=0.001, kernel=linear; total time=   3.1s\n",
            "[CV] END ...................C=10, gamma=0.001, kernel=linear; total time=   2.7s\n",
            "[CV] END ...................C=10, gamma=0.001, kernel=linear; total time=   3.2s\n",
            "[CV] END .........................C=100, gamma=1, kernel=rbf; total time=   1.4s\n",
            "[CV] END .........................C=100, gamma=1, kernel=rbf; total time=   1.2s\n",
            "[CV] END .........................C=100, gamma=1, kernel=rbf; total time=   0.8s\n",
            "[CV] END .........................C=100, gamma=1, kernel=rbf; total time=   0.8s\n",
            "[CV] END .........................C=100, gamma=1, kernel=rbf; total time=   0.8s\n",
            "[CV] END ......................C=100, gamma=1, kernel=linear; total time=  27.0s\n",
            "[CV] END ......................C=100, gamma=1, kernel=linear; total time=  20.8s\n",
            "[CV] END ......................C=100, gamma=1, kernel=linear; total time=  25.5s\n",
            "[CV] END ......................C=100, gamma=1, kernel=linear; total time=  25.7s\n",
            "[CV] END ......................C=100, gamma=1, kernel=linear; total time=  26.5s\n",
            "[CV] END .......................C=100, gamma=0.1, kernel=rbf; total time=   0.7s\n",
            "[CV] END .......................C=100, gamma=0.1, kernel=rbf; total time=   0.8s\n",
            "[CV] END .......................C=100, gamma=0.1, kernel=rbf; total time=   0.7s\n",
            "[CV] END .......................C=100, gamma=0.1, kernel=rbf; total time=   0.7s\n",
            "[CV] END .......................C=100, gamma=0.1, kernel=rbf; total time=   0.7s\n",
            "[CV] END ....................C=100, gamma=0.1, kernel=linear; total time=  27.1s\n",
            "[CV] END ....................C=100, gamma=0.1, kernel=linear; total time=  22.2s\n",
            "[CV] END ....................C=100, gamma=0.1, kernel=linear; total time=  25.3s\n",
            "[CV] END ....................C=100, gamma=0.1, kernel=linear; total time=  25.4s\n",
            "[CV] END ....................C=100, gamma=0.1, kernel=linear; total time=  25.9s\n",
            "[CV] END ......................C=100, gamma=0.01, kernel=rbf; total time=   1.1s\n",
            "[CV] END ......................C=100, gamma=0.01, kernel=rbf; total time=   0.8s\n",
            "[CV] END ......................C=100, gamma=0.01, kernel=rbf; total time=   0.6s\n",
            "[CV] END ......................C=100, gamma=0.01, kernel=rbf; total time=   0.7s\n",
            "[CV] END ......................C=100, gamma=0.01, kernel=rbf; total time=   0.7s\n",
            "[CV] END ...................C=100, gamma=0.01, kernel=linear; total time=  27.0s\n",
            "[CV] END ...................C=100, gamma=0.01, kernel=linear; total time=  20.8s\n",
            "[CV] END ...................C=100, gamma=0.01, kernel=linear; total time=  25.5s\n",
            "[CV] END ...................C=100, gamma=0.01, kernel=linear; total time=  24.2s\n",
            "[CV] END ...................C=100, gamma=0.01, kernel=linear; total time=  26.4s\n",
            "[CV] END .....................C=100, gamma=0.001, kernel=rbf; total time=   0.4s\n",
            "[CV] END .....................C=100, gamma=0.001, kernel=rbf; total time=   0.4s\n",
            "[CV] END .....................C=100, gamma=0.001, kernel=rbf; total time=   0.4s\n",
            "[CV] END .....................C=100, gamma=0.001, kernel=rbf; total time=   0.4s\n",
            "[CV] END .....................C=100, gamma=0.001, kernel=rbf; total time=   0.4s\n",
            "[CV] END ..................C=100, gamma=0.001, kernel=linear; total time=  27.1s\n",
            "[CV] END ..................C=100, gamma=0.001, kernel=linear; total time=  22.3s\n",
            "[CV] END ..................C=100, gamma=0.001, kernel=linear; total time=  25.0s\n",
            "[CV] END ..................C=100, gamma=0.001, kernel=linear; total time=  23.1s\n",
            "[CV] END ..................C=100, gamma=0.001, kernel=linear; total time=  26.3s\n"
          ]
        },
        {
          "output_type": "execute_result",
          "data": {
            "text/plain": [
              "GridSearchCV(estimator=SVC(),\n",
              "             param_grid={'C': [0.01, 0.1, 1, 10, 100],\n",
              "                         'gamma': [1, 0.1, 0.01, 0.001],\n",
              "                         'kernel': ['rbf', 'linear']},\n",
              "             verbose=2)"
            ],
            "text/html": [
              "<style>#sk-container-id-1 {color: black;}#sk-container-id-1 pre{padding: 0;}#sk-container-id-1 div.sk-toggleable {background-color: white;}#sk-container-id-1 label.sk-toggleable__label {cursor: pointer;display: block;width: 100%;margin-bottom: 0;padding: 0.3em;box-sizing: border-box;text-align: center;}#sk-container-id-1 label.sk-toggleable__label-arrow:before {content: \"▸\";float: left;margin-right: 0.25em;color: #696969;}#sk-container-id-1 label.sk-toggleable__label-arrow:hover:before {color: black;}#sk-container-id-1 div.sk-estimator:hover label.sk-toggleable__label-arrow:before {color: black;}#sk-container-id-1 div.sk-toggleable__content {max-height: 0;max-width: 0;overflow: hidden;text-align: left;background-color: #f0f8ff;}#sk-container-id-1 div.sk-toggleable__content pre {margin: 0.2em;color: black;border-radius: 0.25em;background-color: #f0f8ff;}#sk-container-id-1 input.sk-toggleable__control:checked~div.sk-toggleable__content {max-height: 200px;max-width: 100%;overflow: auto;}#sk-container-id-1 input.sk-toggleable__control:checked~label.sk-toggleable__label-arrow:before {content: \"▾\";}#sk-container-id-1 div.sk-estimator input.sk-toggleable__control:checked~label.sk-toggleable__label {background-color: #d4ebff;}#sk-container-id-1 div.sk-label input.sk-toggleable__control:checked~label.sk-toggleable__label {background-color: #d4ebff;}#sk-container-id-1 input.sk-hidden--visually {border: 0;clip: rect(1px 1px 1px 1px);clip: rect(1px, 1px, 1px, 1px);height: 1px;margin: -1px;overflow: hidden;padding: 0;position: absolute;width: 1px;}#sk-container-id-1 div.sk-estimator {font-family: monospace;background-color: #f0f8ff;border: 1px dotted black;border-radius: 0.25em;box-sizing: border-box;margin-bottom: 0.5em;}#sk-container-id-1 div.sk-estimator:hover {background-color: #d4ebff;}#sk-container-id-1 div.sk-parallel-item::after {content: \"\";width: 100%;border-bottom: 1px solid gray;flex-grow: 1;}#sk-container-id-1 div.sk-label:hover label.sk-toggleable__label {background-color: #d4ebff;}#sk-container-id-1 div.sk-serial::before {content: \"\";position: absolute;border-left: 1px solid gray;box-sizing: border-box;top: 0;bottom: 0;left: 50%;z-index: 0;}#sk-container-id-1 div.sk-serial {display: flex;flex-direction: column;align-items: center;background-color: white;padding-right: 0.2em;padding-left: 0.2em;position: relative;}#sk-container-id-1 div.sk-item {position: relative;z-index: 1;}#sk-container-id-1 div.sk-parallel {display: flex;align-items: stretch;justify-content: center;background-color: white;position: relative;}#sk-container-id-1 div.sk-item::before, #sk-container-id-1 div.sk-parallel-item::before {content: \"\";position: absolute;border-left: 1px solid gray;box-sizing: border-box;top: 0;bottom: 0;left: 50%;z-index: -1;}#sk-container-id-1 div.sk-parallel-item {display: flex;flex-direction: column;z-index: 1;position: relative;background-color: white;}#sk-container-id-1 div.sk-parallel-item:first-child::after {align-self: flex-end;width: 50%;}#sk-container-id-1 div.sk-parallel-item:last-child::after {align-self: flex-start;width: 50%;}#sk-container-id-1 div.sk-parallel-item:only-child::after {width: 0;}#sk-container-id-1 div.sk-dashed-wrapped {border: 1px dashed gray;margin: 0 0.4em 0.5em 0.4em;box-sizing: border-box;padding-bottom: 0.4em;background-color: white;}#sk-container-id-1 div.sk-label label {font-family: monospace;font-weight: bold;display: inline-block;line-height: 1.2em;}#sk-container-id-1 div.sk-label-container {text-align: center;}#sk-container-id-1 div.sk-container {/* jupyter's `normalize.less` sets `[hidden] { display: none; }` but bootstrap.min.css set `[hidden] { display: none !important; }` so we also need the `!important` here to be able to override the default hidden behavior on the sphinx rendered scikit-learn.org. See: https://github.com/scikit-learn/scikit-learn/issues/21755 */display: inline-block !important;position: relative;}#sk-container-id-1 div.sk-text-repr-fallback {display: none;}</style><div id=\"sk-container-id-1\" class=\"sk-top-container\"><div class=\"sk-text-repr-fallback\"><pre>GridSearchCV(estimator=SVC(),\n",
              "             param_grid={&#x27;C&#x27;: [0.01, 0.1, 1, 10, 100],\n",
              "                         &#x27;gamma&#x27;: [1, 0.1, 0.01, 0.001],\n",
              "                         &#x27;kernel&#x27;: [&#x27;rbf&#x27;, &#x27;linear&#x27;]},\n",
              "             verbose=2)</pre><b>In a Jupyter environment, please rerun this cell to show the HTML representation or trust the notebook. <br />On GitHub, the HTML representation is unable to render, please try loading this page with nbviewer.org.</b></div><div class=\"sk-container\" hidden><div class=\"sk-item sk-dashed-wrapped\"><div class=\"sk-label-container\"><div class=\"sk-label sk-toggleable\"><input class=\"sk-toggleable__control sk-hidden--visually\" id=\"sk-estimator-id-1\" type=\"checkbox\" ><label for=\"sk-estimator-id-1\" class=\"sk-toggleable__label sk-toggleable__label-arrow\">GridSearchCV</label><div class=\"sk-toggleable__content\"><pre>GridSearchCV(estimator=SVC(),\n",
              "             param_grid={&#x27;C&#x27;: [0.01, 0.1, 1, 10, 100],\n",
              "                         &#x27;gamma&#x27;: [1, 0.1, 0.01, 0.001],\n",
              "                         &#x27;kernel&#x27;: [&#x27;rbf&#x27;, &#x27;linear&#x27;]},\n",
              "             verbose=2)</pre></div></div></div><div class=\"sk-parallel\"><div class=\"sk-parallel-item\"><div class=\"sk-item\"><div class=\"sk-label-container\"><div class=\"sk-label sk-toggleable\"><input class=\"sk-toggleable__control sk-hidden--visually\" id=\"sk-estimator-id-2\" type=\"checkbox\" ><label for=\"sk-estimator-id-2\" class=\"sk-toggleable__label sk-toggleable__label-arrow\">estimator: SVC</label><div class=\"sk-toggleable__content\"><pre>SVC()</pre></div></div></div><div class=\"sk-serial\"><div class=\"sk-item\"><div class=\"sk-estimator sk-toggleable\"><input class=\"sk-toggleable__control sk-hidden--visually\" id=\"sk-estimator-id-3\" type=\"checkbox\" ><label for=\"sk-estimator-id-3\" class=\"sk-toggleable__label sk-toggleable__label-arrow\">SVC</label><div class=\"sk-toggleable__content\"><pre>SVC()</pre></div></div></div></div></div></div></div></div></div></div>"
            ]
          },
          "metadata": {},
          "execution_count": 78
        }
      ]
    },
    {
      "cell_type": "code",
      "source": [
        "grid.cv_results_"
      ],
      "metadata": {
        "colab": {
          "base_uri": "https://localhost:8080/"
        },
        "id": "HCa9J1xdgVEO",
        "outputId": "0190d04a-9cfb-4cf4-e8f3-a849c9de52b8"
      },
      "execution_count": null,
      "outputs": [
        {
          "output_type": "execute_result",
          "data": {
            "text/plain": [
              "{'mean_fit_time': array([ 0.78628507,  0.18062344,  0.46357784,  0.18172789,  0.39319596,\n",
              "         0.31135674,  0.54918966,  0.18197608,  0.64811673,  0.19828491,\n",
              "         0.49375858,  0.34205723,  0.34716716,  0.20078001,  0.36365595,\n",
              "         0.20085387,  0.74864669,  0.69255424,  0.43962164,  0.48893285,\n",
              "         0.2586628 ,  0.54064512,  0.46497002,  0.48783655,  0.6788137 ,\n",
              "         3.05927   ,  0.82875504,  3.35283003,  0.27923694,  3.05380173,\n",
              "         0.25195923,  3.15394273,  0.84100008, 25.07414474,  0.63784595,\n",
              "        25.14356399,  0.69869647, 24.75615644,  0.29129119, 24.71975012]),\n",
              " 'std_fit_time': array([0.20089862, 0.00678567, 0.00878268, 0.00532248, 0.00435325,\n",
              "        0.00789979, 0.11527027, 0.0052191 , 0.00644045, 0.00259977,\n",
              "        0.10143079, 0.0038634 , 0.07781895, 0.00746985, 0.00750476,\n",
              "        0.01101269, 0.08349607, 0.14770929, 0.0067342 , 0.0221486 ,\n",
              "        0.00601568, 0.10939637, 0.00529436, 0.01412062, 0.00843136,\n",
              "        0.43385323, 0.14405871, 0.32718898, 0.00585265, 0.42231909,\n",
              "        0.00690249, 0.60872275, 0.19894796, 2.22749628, 0.00588799,\n",
              "        1.63068434, 0.15859674, 2.20271774, 0.00625208, 1.81576391]),\n",
              " 'mean_score_time': array([0.17687831, 0.03508348, 0.12251935, 0.03578024, 0.12892861,\n",
              "        0.05420275, 0.15623193, 0.03498378, 0.14181037, 0.03458972,\n",
              "        0.13967247, 0.05393605, 0.08231292, 0.03239527, 0.09753418,\n",
              "        0.03225503, 0.15775194, 0.04580245, 0.10235848, 0.03012328,\n",
              "        0.07188816, 0.03454423, 0.12592368, 0.03012209, 0.14085555,\n",
              "        0.02992029, 0.1541275 , 0.03856392, 0.07167172, 0.03446255,\n",
              "        0.06882577, 0.03873024, 0.16172557, 0.03032122, 0.10705128,\n",
              "        0.04196858, 0.08221712, 0.0299304 , 0.0678926 , 0.03544278]),\n",
              " 'std_score_time': array([0.04296427, 0.00206974, 0.00128461, 0.00335809, 0.01283596,\n",
              "        0.00130146, 0.0405012 , 0.00035554, 0.00458072, 0.00241645,\n",
              "        0.03856667, 0.00164173, 0.0017046 , 0.00152048, 0.00755255,\n",
              "        0.00110116, 0.04040378, 0.01370578, 0.0015335 , 0.00077313,\n",
              "        0.00133142, 0.00869412, 0.02636527, 0.00086724, 0.00592076,\n",
              "        0.00031793, 0.03947108, 0.01045688, 0.00240677, 0.00921579,\n",
              "        0.00461965, 0.01084713, 0.04675538, 0.00087378, 0.00417368,\n",
              "        0.00949312, 0.02417763, 0.00071571, 0.00182696, 0.00918699]),\n",
              " 'param_C': masked_array(data=[0.01, 0.01, 0.01, 0.01, 0.01, 0.01, 0.01, 0.01, 0.1,\n",
              "                    0.1, 0.1, 0.1, 0.1, 0.1, 0.1, 0.1, 1, 1, 1, 1, 1, 1, 1,\n",
              "                    1, 10, 10, 10, 10, 10, 10, 10, 10, 100, 100, 100, 100,\n",
              "                    100, 100, 100, 100],\n",
              "              mask=[False, False, False, False, False, False, False, False,\n",
              "                    False, False, False, False, False, False, False, False,\n",
              "                    False, False, False, False, False, False, False, False,\n",
              "                    False, False, False, False, False, False, False, False,\n",
              "                    False, False, False, False, False, False, False, False],\n",
              "        fill_value='?',\n",
              "             dtype=object),\n",
              " 'param_gamma': masked_array(data=[1, 1, 0.1, 0.1, 0.01, 0.01, 0.001, 0.001, 1, 1, 0.1,\n",
              "                    0.1, 0.01, 0.01, 0.001, 0.001, 1, 1, 0.1, 0.1, 0.01,\n",
              "                    0.01, 0.001, 0.001, 1, 1, 0.1, 0.1, 0.01, 0.01, 0.001,\n",
              "                    0.001, 1, 1, 0.1, 0.1, 0.01, 0.01, 0.001, 0.001],\n",
              "              mask=[False, False, False, False, False, False, False, False,\n",
              "                    False, False, False, False, False, False, False, False,\n",
              "                    False, False, False, False, False, False, False, False,\n",
              "                    False, False, False, False, False, False, False, False,\n",
              "                    False, False, False, False, False, False, False, False],\n",
              "        fill_value='?',\n",
              "             dtype=object),\n",
              " 'param_kernel': masked_array(data=['rbf', 'linear', 'rbf', 'linear', 'rbf', 'linear',\n",
              "                    'rbf', 'linear', 'rbf', 'linear', 'rbf', 'linear',\n",
              "                    'rbf', 'linear', 'rbf', 'linear', 'rbf', 'linear',\n",
              "                    'rbf', 'linear', 'rbf', 'linear', 'rbf', 'linear',\n",
              "                    'rbf', 'linear', 'rbf', 'linear', 'rbf', 'linear',\n",
              "                    'rbf', 'linear', 'rbf', 'linear', 'rbf', 'linear',\n",
              "                    'rbf', 'linear', 'rbf', 'linear'],\n",
              "              mask=[False, False, False, False, False, False, False, False,\n",
              "                    False, False, False, False, False, False, False, False,\n",
              "                    False, False, False, False, False, False, False, False,\n",
              "                    False, False, False, False, False, False, False, False,\n",
              "                    False, False, False, False, False, False, False, False],\n",
              "        fill_value='?',\n",
              "             dtype=object),\n",
              " 'params': [{'C': 0.01, 'gamma': 1, 'kernel': 'rbf'},\n",
              "  {'C': 0.01, 'gamma': 1, 'kernel': 'linear'},\n",
              "  {'C': 0.01, 'gamma': 0.1, 'kernel': 'rbf'},\n",
              "  {'C': 0.01, 'gamma': 0.1, 'kernel': 'linear'},\n",
              "  {'C': 0.01, 'gamma': 0.01, 'kernel': 'rbf'},\n",
              "  {'C': 0.01, 'gamma': 0.01, 'kernel': 'linear'},\n",
              "  {'C': 0.01, 'gamma': 0.001, 'kernel': 'rbf'},\n",
              "  {'C': 0.01, 'gamma': 0.001, 'kernel': 'linear'},\n",
              "  {'C': 0.1, 'gamma': 1, 'kernel': 'rbf'},\n",
              "  {'C': 0.1, 'gamma': 1, 'kernel': 'linear'},\n",
              "  {'C': 0.1, 'gamma': 0.1, 'kernel': 'rbf'},\n",
              "  {'C': 0.1, 'gamma': 0.1, 'kernel': 'linear'},\n",
              "  {'C': 0.1, 'gamma': 0.01, 'kernel': 'rbf'},\n",
              "  {'C': 0.1, 'gamma': 0.01, 'kernel': 'linear'},\n",
              "  {'C': 0.1, 'gamma': 0.001, 'kernel': 'rbf'},\n",
              "  {'C': 0.1, 'gamma': 0.001, 'kernel': 'linear'},\n",
              "  {'C': 1, 'gamma': 1, 'kernel': 'rbf'},\n",
              "  {'C': 1, 'gamma': 1, 'kernel': 'linear'},\n",
              "  {'C': 1, 'gamma': 0.1, 'kernel': 'rbf'},\n",
              "  {'C': 1, 'gamma': 0.1, 'kernel': 'linear'},\n",
              "  {'C': 1, 'gamma': 0.01, 'kernel': 'rbf'},\n",
              "  {'C': 1, 'gamma': 0.01, 'kernel': 'linear'},\n",
              "  {'C': 1, 'gamma': 0.001, 'kernel': 'rbf'},\n",
              "  {'C': 1, 'gamma': 0.001, 'kernel': 'linear'},\n",
              "  {'C': 10, 'gamma': 1, 'kernel': 'rbf'},\n",
              "  {'C': 10, 'gamma': 1, 'kernel': 'linear'},\n",
              "  {'C': 10, 'gamma': 0.1, 'kernel': 'rbf'},\n",
              "  {'C': 10, 'gamma': 0.1, 'kernel': 'linear'},\n",
              "  {'C': 10, 'gamma': 0.01, 'kernel': 'rbf'},\n",
              "  {'C': 10, 'gamma': 0.01, 'kernel': 'linear'},\n",
              "  {'C': 10, 'gamma': 0.001, 'kernel': 'rbf'},\n",
              "  {'C': 10, 'gamma': 0.001, 'kernel': 'linear'},\n",
              "  {'C': 100, 'gamma': 1, 'kernel': 'rbf'},\n",
              "  {'C': 100, 'gamma': 1, 'kernel': 'linear'},\n",
              "  {'C': 100, 'gamma': 0.1, 'kernel': 'rbf'},\n",
              "  {'C': 100, 'gamma': 0.1, 'kernel': 'linear'},\n",
              "  {'C': 100, 'gamma': 0.01, 'kernel': 'rbf'},\n",
              "  {'C': 100, 'gamma': 0.01, 'kernel': 'linear'},\n",
              "  {'C': 100, 'gamma': 0.001, 'kernel': 'rbf'},\n",
              "  {'C': 100, 'gamma': 0.001, 'kernel': 'linear'}],\n",
              " 'split0_test_score': array([0.48305085, 0.7740113 , 0.48305085, 0.7740113 , 0.68502825,\n",
              "        0.7740113 , 0.48305085, 0.7740113 , 0.48305085, 0.77966102,\n",
              "        0.67937853, 0.77966102, 0.75282486, 0.77966102, 0.68220339,\n",
              "        0.77966102, 0.49435028, 0.77824859, 0.75706215, 0.77824859,\n",
              "        0.77542373, 0.77824859, 0.75988701, 0.77824859, 0.49858757,\n",
              "        0.77824859, 0.73870056, 0.77824859, 0.76271186, 0.77824859,\n",
              "        0.77542373, 0.77824859, 0.49858757, 0.77824859, 0.72033898,\n",
              "        0.77824859, 0.76271186, 0.77824859, 0.78107345, 0.77824859]),\n",
              " 'split1_test_score': array([0.48305085, 0.76553672, 0.48305085, 0.76553672, 0.67655367,\n",
              "        0.76553672, 0.48305085, 0.76553672, 0.48305085, 0.76129944,\n",
              "        0.66949153, 0.76129944, 0.72457627, 0.76129944, 0.67937853,\n",
              "        0.76129944, 0.49576271, 0.76271186, 0.74435028, 0.76271186,\n",
              "        0.75988701, 0.76271186, 0.73587571, 0.76271186, 0.5       ,\n",
              "        0.76129944, 0.72457627, 0.76129944, 0.77966102, 0.76129944,\n",
              "        0.76129944, 0.76129944, 0.49858757, 0.76271186, 0.71327684,\n",
              "        0.76271186, 0.75988701, 0.76271186, 0.77542373, 0.76271186]),\n",
              " 'split2_test_score': array([0.48163842, 0.77118644, 0.48163842, 0.77118644, 0.68220339,\n",
              "        0.77118644, 0.48163842, 0.77118644, 0.48163842, 0.76836158,\n",
              "        0.69350282, 0.76836158, 0.74576271, 0.76836158, 0.68502825,\n",
              "        0.76836158, 0.49152542, 0.76412429, 0.76553672, 0.76412429,\n",
              "        0.76553672, 0.76412429, 0.75706215, 0.76412429, 0.49435028,\n",
              "        0.76271186, 0.73022599, 0.76271186, 0.75423729, 0.76271186,\n",
              "        0.76412429, 0.76271186, 0.49435028, 0.76271186, 0.72316384,\n",
              "        0.76271186, 0.72740113, 0.76271186, 0.77118644, 0.76271186]),\n",
              " 'split3_test_score': array([0.48163842, 0.74576271, 0.48163842, 0.74576271, 0.67655367,\n",
              "        0.74576271, 0.48163842, 0.74576271, 0.48163842, 0.74293785,\n",
              "        0.67090395, 0.74293785, 0.71468927, 0.74293785, 0.67514124,\n",
              "        0.74293785, 0.49293785, 0.74576271, 0.77542373, 0.74576271,\n",
              "        0.75988701, 0.74576271, 0.73022599, 0.74576271, 0.49717514,\n",
              "        0.74435028, 0.73305085, 0.74435028, 0.77683616, 0.74435028,\n",
              "        0.74858757, 0.74435028, 0.49717514, 0.74435028, 0.72316384,\n",
              "        0.74435028, 0.74011299, 0.74435028, 0.76129944, 0.74435028]),\n",
              " 'split4_test_score': array([0.48231966, 0.76096181, 0.48231966, 0.76096181, 0.67043847,\n",
              "        0.76096181, 0.48231966, 0.76096181, 0.48231966, 0.76096181,\n",
              "        0.70438472, 0.76096181, 0.73550212, 0.76096181, 0.6718529 ,\n",
              "        0.76096181, 0.49929279, 0.75813296, 0.76944837, 0.75813296,\n",
              "        0.75813296, 0.75813296, 0.74681754, 0.75813296, 0.4950495 ,\n",
              "        0.75813296, 0.72984441, 0.75813296, 0.7553041 , 0.75813296,\n",
              "        0.76661952, 0.75813296, 0.4950495 , 0.75813296, 0.71145686,\n",
              "        0.75813296, 0.74115983, 0.75813296, 0.75671853, 0.75813296]),\n",
              " 'mean_test_score': array([0.48233964, 0.7634918 , 0.48233964, 0.7634918 , 0.67815549,\n",
              "        0.7634918 , 0.48233964, 0.7634918 , 0.48233964, 0.76264434,\n",
              "        0.68353231, 0.76264434, 0.73467105, 0.76264434, 0.67872086,\n",
              "        0.76264434, 0.49477381, 0.76179608, 0.76236425, 0.76179608,\n",
              "        0.76377348, 0.76179608, 0.74597368, 0.76179608, 0.4970325 ,\n",
              "        0.76094863, 0.73127962, 0.76094863, 0.76575009, 0.76094863,\n",
              "        0.76321091, 0.76094863, 0.49675001, 0.76123111, 0.71828007,\n",
              "        0.76123111, 0.74625456, 0.76123111, 0.76914032, 0.76123111]),\n",
              " 'std_test_score': array([0.00063174, 0.00994757, 0.00063174, 0.00994757, 0.00506566,\n",
              "        0.00994757, 0.00063174, 0.00994757, 0.00063174, 0.01196026,\n",
              "        0.0134767 , 0.01196026, 0.01381631, 0.01196026, 0.00473975,\n",
              "        0.01196026, 0.00266463, 0.01046357, 0.01080199, 0.01046357,\n",
              "        0.00633817, 0.01046357, 0.01155167, 0.01046357, 0.00211524,\n",
              "        0.01082547, 0.00461113, 0.01082547, 0.01065184, 0.01082547,\n",
              "        0.00870749, 0.01082547, 0.00176547, 0.01084934, 0.00497052,\n",
              "        0.01084934, 0.0132349 , 0.01084934, 0.00896491, 0.01084934]),\n",
              " 'rank_test_score': array([37,  4, 37,  4, 33,  4, 37,  4, 37,  9, 31,  9, 28,  9, 32,  9, 36,\n",
              "        14, 13, 14,  3, 14, 27, 14, 34, 22, 29, 22,  2, 22,  8, 22, 35, 18,\n",
              "        30, 18, 26, 18,  1, 18], dtype=int32)}"
            ]
          },
          "metadata": {},
          "execution_count": 79
        }
      ]
    },
    {
      "cell_type": "code",
      "source": [
        "grid.best_estimator_"
      ],
      "metadata": {
        "colab": {
          "base_uri": "https://localhost:8080/",
          "height": 74
        },
        "id": "HbVi9NwQgYoH",
        "outputId": "77a368ac-cedf-4f31-dcb7-db7b2487baf4"
      },
      "execution_count": null,
      "outputs": [
        {
          "output_type": "execute_result",
          "data": {
            "text/plain": [
              "SVC(C=100, gamma=0.001)"
            ],
            "text/html": [
              "<style>#sk-container-id-2 {color: black;}#sk-container-id-2 pre{padding: 0;}#sk-container-id-2 div.sk-toggleable {background-color: white;}#sk-container-id-2 label.sk-toggleable__label {cursor: pointer;display: block;width: 100%;margin-bottom: 0;padding: 0.3em;box-sizing: border-box;text-align: center;}#sk-container-id-2 label.sk-toggleable__label-arrow:before {content: \"▸\";float: left;margin-right: 0.25em;color: #696969;}#sk-container-id-2 label.sk-toggleable__label-arrow:hover:before {color: black;}#sk-container-id-2 div.sk-estimator:hover label.sk-toggleable__label-arrow:before {color: black;}#sk-container-id-2 div.sk-toggleable__content {max-height: 0;max-width: 0;overflow: hidden;text-align: left;background-color: #f0f8ff;}#sk-container-id-2 div.sk-toggleable__content pre {margin: 0.2em;color: black;border-radius: 0.25em;background-color: #f0f8ff;}#sk-container-id-2 input.sk-toggleable__control:checked~div.sk-toggleable__content {max-height: 200px;max-width: 100%;overflow: auto;}#sk-container-id-2 input.sk-toggleable__control:checked~label.sk-toggleable__label-arrow:before {content: \"▾\";}#sk-container-id-2 div.sk-estimator input.sk-toggleable__control:checked~label.sk-toggleable__label {background-color: #d4ebff;}#sk-container-id-2 div.sk-label input.sk-toggleable__control:checked~label.sk-toggleable__label {background-color: #d4ebff;}#sk-container-id-2 input.sk-hidden--visually {border: 0;clip: rect(1px 1px 1px 1px);clip: rect(1px, 1px, 1px, 1px);height: 1px;margin: -1px;overflow: hidden;padding: 0;position: absolute;width: 1px;}#sk-container-id-2 div.sk-estimator {font-family: monospace;background-color: #f0f8ff;border: 1px dotted black;border-radius: 0.25em;box-sizing: border-box;margin-bottom: 0.5em;}#sk-container-id-2 div.sk-estimator:hover {background-color: #d4ebff;}#sk-container-id-2 div.sk-parallel-item::after {content: \"\";width: 100%;border-bottom: 1px solid gray;flex-grow: 1;}#sk-container-id-2 div.sk-label:hover label.sk-toggleable__label {background-color: #d4ebff;}#sk-container-id-2 div.sk-serial::before {content: \"\";position: absolute;border-left: 1px solid gray;box-sizing: border-box;top: 0;bottom: 0;left: 50%;z-index: 0;}#sk-container-id-2 div.sk-serial {display: flex;flex-direction: column;align-items: center;background-color: white;padding-right: 0.2em;padding-left: 0.2em;position: relative;}#sk-container-id-2 div.sk-item {position: relative;z-index: 1;}#sk-container-id-2 div.sk-parallel {display: flex;align-items: stretch;justify-content: center;background-color: white;position: relative;}#sk-container-id-2 div.sk-item::before, #sk-container-id-2 div.sk-parallel-item::before {content: \"\";position: absolute;border-left: 1px solid gray;box-sizing: border-box;top: 0;bottom: 0;left: 50%;z-index: -1;}#sk-container-id-2 div.sk-parallel-item {display: flex;flex-direction: column;z-index: 1;position: relative;background-color: white;}#sk-container-id-2 div.sk-parallel-item:first-child::after {align-self: flex-end;width: 50%;}#sk-container-id-2 div.sk-parallel-item:last-child::after {align-self: flex-start;width: 50%;}#sk-container-id-2 div.sk-parallel-item:only-child::after {width: 0;}#sk-container-id-2 div.sk-dashed-wrapped {border: 1px dashed gray;margin: 0 0.4em 0.5em 0.4em;box-sizing: border-box;padding-bottom: 0.4em;background-color: white;}#sk-container-id-2 div.sk-label label {font-family: monospace;font-weight: bold;display: inline-block;line-height: 1.2em;}#sk-container-id-2 div.sk-label-container {text-align: center;}#sk-container-id-2 div.sk-container {/* jupyter's `normalize.less` sets `[hidden] { display: none; }` but bootstrap.min.css set `[hidden] { display: none !important; }` so we also need the `!important` here to be able to override the default hidden behavior on the sphinx rendered scikit-learn.org. See: https://github.com/scikit-learn/scikit-learn/issues/21755 */display: inline-block !important;position: relative;}#sk-container-id-2 div.sk-text-repr-fallback {display: none;}</style><div id=\"sk-container-id-2\" class=\"sk-top-container\"><div class=\"sk-text-repr-fallback\"><pre>SVC(C=100, gamma=0.001)</pre><b>In a Jupyter environment, please rerun this cell to show the HTML representation or trust the notebook. <br />On GitHub, the HTML representation is unable to render, please try loading this page with nbviewer.org.</b></div><div class=\"sk-container\" hidden><div class=\"sk-item\"><div class=\"sk-estimator sk-toggleable\"><input class=\"sk-toggleable__control sk-hidden--visually\" id=\"sk-estimator-id-4\" type=\"checkbox\" checked><label for=\"sk-estimator-id-4\" class=\"sk-toggleable__label sk-toggleable__label-arrow\">SVC</label><div class=\"sk-toggleable__content\"><pre>SVC(C=100, gamma=0.001)</pre></div></div></div></div></div>"
            ]
          },
          "metadata": {},
          "execution_count": 80
        }
      ]
    },
    {
      "cell_type": "code",
      "source": [
        "grid.best_score_"
      ],
      "metadata": {
        "colab": {
          "base_uri": "https://localhost:8080/"
        },
        "id": "mzByi4nDghK6",
        "outputId": "4a72dcf3-3668-4f24-f8db-3746cfe9fc5c"
      },
      "execution_count": null,
      "outputs": [
        {
          "output_type": "execute_result",
          "data": {
            "text/plain": [
              "0.769140315968643"
            ]
          },
          "metadata": {},
          "execution_count": 81
        }
      ]
    },
    {
      "cell_type": "code",
      "source": [
        "grid_svc_test_preds = grid.predict(X_test_pca)\n",
        "\n",
        "print(f\"Test Accuracy: {accuracy_score(y_test_pca, grid_svc_test_preds)}\")"
      ],
      "metadata": {
        "colab": {
          "base_uri": "https://localhost:8080/"
        },
        "id": "kceSV8u6gg_4",
        "outputId": "5c5ce74e-aa73-4559-8d9c-af61e7ade852"
      },
      "execution_count": null,
      "outputs": [
        {
          "output_type": "stream",
          "name": "stdout",
          "text": [
            "Test Accuracy: 0.7988700564971751\n"
          ]
        }
      ]
    },
    {
      "cell_type": "code",
      "source": [
        "grid.best_params_"
      ],
      "metadata": {
        "colab": {
          "base_uri": "https://localhost:8080/"
        },
        "id": "OKezWuw2g4CM",
        "outputId": "1bb46d93-6708-42a2-bb37-7920aecdeddf"
      },
      "execution_count": null,
      "outputs": [
        {
          "output_type": "execute_result",
          "data": {
            "text/plain": [
              "{'C': 100, 'gamma': 0.001, 'kernel': 'rbf'}"
            ]
          },
          "metadata": {},
          "execution_count": 83
        }
      ]
    },
    {
      "cell_type": "markdown",
      "source": [
        "# The verdict"
      ],
      "metadata": {
        "id": "ehP_EI7F-ZPN"
      }
    },
    {
      "cell_type": "code",
      "source": [
        "svc_model_best = SVC(C=100, gamma=.001, kernel='rbf', random_state=42)\n",
        "svc_model_best.fit(X_train_pca, y_train_pca)\n",
        "\n",
        "train_preds = svc_model_best.predict(X_train_pca)\n",
        "test_preds = svc_model_best.predict(X_test_pca)\n",
        "\n",
        "print(f\"Train Accuracy: {accuracy_score(y_train_pca, train_preds)}\")\n",
        "print(f\"Test Accuracy: {accuracy_score(y_test_pca, test_preds)}\")"
      ],
      "metadata": {
        "colab": {
          "base_uri": "https://localhost:8080/"
        },
        "id": "G3JVZ4CC6ug4",
        "outputId": "068bc8a1-ab1e-49ce-e744-faafa4acbf52"
      },
      "execution_count": null,
      "outputs": [
        {
          "output_type": "stream",
          "name": "stdout",
          "text": [
            "Train Accuracy: 0.7914665159649619\n",
            "Test Accuracy: 0.7988700564971751\n"
          ]
        }
      ]
    },
    {
      "cell_type": "markdown",
      "source": [
        "# Without PCA..."
      ],
      "metadata": {
        "id": "IIj-m3RU-UWS"
      }
    },
    {
      "cell_type": "code",
      "source": [
        "svc_model_best = SVC(C=100, gamma=.001, kernel='rbf', random_state=42)\n",
        "svc_model_best.fit(X_train_normalized, y_train_normalized)\n",
        "\n",
        "train_preds = svc_model_best.predict(X_train_normalized)\n",
        "test_preds = svc_model_best.predict(X_test_normalized)\n",
        "\n",
        "print(f\"Train Accuracy: {accuracy_score(y_train_normalized, train_preds)}\")\n",
        "print(f\"Test Accuracy: {accuracy_score(y_test_normalized, test_preds)}\")"
      ],
      "metadata": {
        "colab": {
          "base_uri": "https://localhost:8080/"
        },
        "id": "c4L7d0WR7CXM",
        "outputId": "a3888a95-41a2-45df-86c0-012e9546a5e1"
      },
      "execution_count": null,
      "outputs": [
        {
          "output_type": "stream",
          "name": "stdout",
          "text": [
            "Train Accuracy: 0.807572760666855\n",
            "Test Accuracy: 0.8169491525423729\n"
          ]
        }
      ]
    },
    {
      "cell_type": "markdown",
      "source": [
        "# Next Steps:\n",
        "\n",
        "\n",
        "\n",
        "1.   Try it without the 75\n",
        "2.   Random Forest model\n",
        "Random Forest model\n",
        "3.    any other feature-engineering I can think of\n",
        "\n",
        "4.   my secret experiment\n",
        "5.   more visualizations (still a weak point)\n",
        "\n"
      ],
      "metadata": {
        "id": "EffpeGKmcHPJ"
      }
    },
    {
      "cell_type": "markdown",
      "source": [
        "# PCA Addenda"
      ],
      "metadata": {
        "id": "CEJiId48tVR8"
      }
    },
    {
      "cell_type": "markdown",
      "source": [
        "A 2D Scatterplot for visualizing 2-components"
      ],
      "metadata": {
        "id": "0NQKJnyLlgLj"
      }
    },
    {
      "cell_type": "code",
      "source": [
        "plt.figure()\n",
        "plt.figure(figsize=(12,12))\n",
        "plt.xticks(fontsize=10)\n",
        "plt.yticks(fontsize=10)\n",
        "plt.xlabel('PC1', fontsize=12)\n",
        "plt.ylabel('PC2', fontsize=12)\n",
        "targets = ['Enrolled', 'Dropout', 'Graduate']\n",
        "colors = ['g', 'r', 'b']\n",
        "for target, color in zip(targets, colors):\n",
        "    indicesToKeep = df['Target'] == target\n",
        "    plt.scatter(df2.loc[indicesToKeep, 'pc1'], df2.loc[indicesToKeep, 'pc2'], c=color, s=100)\n",
        "plt.legend(targets, prop={'size': 15})"
      ],
      "metadata": {
        "colab": {
          "base_uri": "https://localhost:8080/",
          "height": 1000
        },
        "id": "Ee8fQ1Whh6KA",
        "outputId": "2bc91328-9db6-4f3f-fd28-3f5a99bed424"
      },
      "execution_count": null,
      "outputs": [
        {
          "output_type": "execute_result",
          "data": {
            "text/plain": [
              "<matplotlib.legend.Legend at 0x7e583638bb20>"
            ]
          },
          "metadata": {},
          "execution_count": 65
        },
        {
          "output_type": "display_data",
          "data": {
            "text/plain": [
              "<Figure size 640x480 with 0 Axes>"
            ]
          },
          "metadata": {}
        },
        {
          "output_type": "display_data",
          "data": {
            "text/plain": [
              "<Figure size 1200x1200 with 1 Axes>"
            ],
            "image/png": "[encoded data removed]"
          },
          "metadata": {}
        }
      ]
    },
    {
      "cell_type": "code",
      "source": [
        "df['Target'].value_counts()\n"
      ],
      "metadata": {
        "colab": {
          "base_uri": "https://localhost:8080/",
          "height": 209
        },
        "id": "SHNci4RlkqHz",
        "outputId": "13567942-bcc9-4093-84af-c8475e503ec8"
      },
      "execution_count": null,
      "outputs": [
        {
          "output_type": "execute_result",
          "data": {
            "text/plain": [
              "Target\n",
              "Graduate    2209\n",
              "Dropout     1421\n",
              "Enrolled     794\n",
              "Name: count, dtype: int64"
            ],
            "text/html": [
              "<table border=\"1\" class=\"dataframe\">\n",
              "  <thead>\n",
              "    <tr style=\"text-align: right;\">\n",
              "      <th></th>\n",
              "      <th>count</th>\n",
              "    </tr>\n",
              "    <tr>\n",
              "      <th>Target</th>\n",
              "      <th></th>\n",
              "    </tr>\n",
              "  </thead>\n",
              "  <tbody>\n",
              "    <tr>\n",
              "      <th>Graduate</th>\n",
              "      <td>2209</td>\n",
              "    </tr>\n",
              "    <tr>\n",
              "      <th>Dropout</th>\n",
              "      <td>1421</td>\n",
              "    </tr>\n",
              "    <tr>\n",
              "      <th>Enrolled</th>\n",
              "      <td>794</td>\n",
              "    </tr>\n",
              "  </tbody>\n",
              "</table><br><label><b>dtype:</b> int64</label>"
            ]
          },
          "metadata": {},
          "execution_count": 62
        }
      ]
    },
    {
      "cell_type": "code",
      "source": [],
      "metadata": {
        "id": "w3bKAmag5e7N"
      },
      "execution_count": null,
      "outputs": []
    }
  ]
}